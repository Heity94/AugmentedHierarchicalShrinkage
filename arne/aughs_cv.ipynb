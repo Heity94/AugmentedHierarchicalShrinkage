{
 "cells": [
  {
   "cell_type": "code",
   "execution_count": 1,
   "metadata": {},
   "outputs": [],
   "source": [
    "from aughs import AugHSTreeClassifier, AugHSForestClassifier\n",
    "from sklearn.model_selection import GridSearchCV\n",
    "from data import get_titanic"
   ]
  },
  {
   "cell_type": "code",
   "execution_count": 2,
   "metadata": {},
   "outputs": [],
   "source": [
    "X_train, X_test, y_train, y_test = get_titanic(\"../raw_data/titanic/titanic_train.csv\")\n",
    "param_grid = {\n",
    "    \"lmb\": [0.1, 1, 10, 20],\n",
    "    \"shrink_mode\": [\"hs\", \"hs_entropy\", \"hs_entropy_2\", \"hs_log_cardinality\"],\n",
    "}"
   ]
  },
  {
   "cell_type": "code",
   "execution_count": 3,
   "metadata": {},
   "outputs": [
    {
     "data": {
      "text/html": [
       "<style>#sk-container-id-1 {color: black;background-color: white;}#sk-container-id-1 pre{padding: 0;}#sk-container-id-1 div.sk-toggleable {background-color: white;}#sk-container-id-1 label.sk-toggleable__label {cursor: pointer;display: block;width: 100%;margin-bottom: 0;padding: 0.3em;box-sizing: border-box;text-align: center;}#sk-container-id-1 label.sk-toggleable__label-arrow:before {content: \"▸\";float: left;margin-right: 0.25em;color: #696969;}#sk-container-id-1 label.sk-toggleable__label-arrow:hover:before {color: black;}#sk-container-id-1 div.sk-estimator:hover label.sk-toggleable__label-arrow:before {color: black;}#sk-container-id-1 div.sk-toggleable__content {max-height: 0;max-width: 0;overflow: hidden;text-align: left;background-color: #f0f8ff;}#sk-container-id-1 div.sk-toggleable__content pre {margin: 0.2em;color: black;border-radius: 0.25em;background-color: #f0f8ff;}#sk-container-id-1 input.sk-toggleable__control:checked~div.sk-toggleable__content {max-height: 200px;max-width: 100%;overflow: auto;}#sk-container-id-1 input.sk-toggleable__control:checked~label.sk-toggleable__label-arrow:before {content: \"▾\";}#sk-container-id-1 div.sk-estimator input.sk-toggleable__control:checked~label.sk-toggleable__label {background-color: #d4ebff;}#sk-container-id-1 div.sk-label input.sk-toggleable__control:checked~label.sk-toggleable__label {background-color: #d4ebff;}#sk-container-id-1 input.sk-hidden--visually {border: 0;clip: rect(1px 1px 1px 1px);clip: rect(1px, 1px, 1px, 1px);height: 1px;margin: -1px;overflow: hidden;padding: 0;position: absolute;width: 1px;}#sk-container-id-1 div.sk-estimator {font-family: monospace;background-color: #f0f8ff;border: 1px dotted black;border-radius: 0.25em;box-sizing: border-box;margin-bottom: 0.5em;}#sk-container-id-1 div.sk-estimator:hover {background-color: #d4ebff;}#sk-container-id-1 div.sk-parallel-item::after {content: \"\";width: 100%;border-bottom: 1px solid gray;flex-grow: 1;}#sk-container-id-1 div.sk-label:hover label.sk-toggleable__label {background-color: #d4ebff;}#sk-container-id-1 div.sk-serial::before {content: \"\";position: absolute;border-left: 1px solid gray;box-sizing: border-box;top: 0;bottom: 0;left: 50%;z-index: 0;}#sk-container-id-1 div.sk-serial {display: flex;flex-direction: column;align-items: center;background-color: white;padding-right: 0.2em;padding-left: 0.2em;position: relative;}#sk-container-id-1 div.sk-item {position: relative;z-index: 1;}#sk-container-id-1 div.sk-parallel {display: flex;align-items: stretch;justify-content: center;background-color: white;position: relative;}#sk-container-id-1 div.sk-item::before, #sk-container-id-1 div.sk-parallel-item::before {content: \"\";position: absolute;border-left: 1px solid gray;box-sizing: border-box;top: 0;bottom: 0;left: 50%;z-index: -1;}#sk-container-id-1 div.sk-parallel-item {display: flex;flex-direction: column;z-index: 1;position: relative;background-color: white;}#sk-container-id-1 div.sk-parallel-item:first-child::after {align-self: flex-end;width: 50%;}#sk-container-id-1 div.sk-parallel-item:last-child::after {align-self: flex-start;width: 50%;}#sk-container-id-1 div.sk-parallel-item:only-child::after {width: 0;}#sk-container-id-1 div.sk-dashed-wrapped {border: 1px dashed gray;margin: 0 0.4em 0.5em 0.4em;box-sizing: border-box;padding-bottom: 0.4em;background-color: white;}#sk-container-id-1 div.sk-label label {font-family: monospace;font-weight: bold;display: inline-block;line-height: 1.2em;}#sk-container-id-1 div.sk-label-container {text-align: center;}#sk-container-id-1 div.sk-container {/* jupyter's `normalize.less` sets `[hidden] { display: none; }` but bootstrap.min.css set `[hidden] { display: none !important; }` so we also need the `!important` here to be able to override the default hidden behavior on the sphinx rendered scikit-learn.org. See: https://github.com/scikit-learn/scikit-learn/issues/21755 */display: inline-block !important;position: relative;}#sk-container-id-1 div.sk-text-repr-fallback {display: none;}</style><div id=\"sk-container-id-1\" class=\"sk-top-container\"><div class=\"sk-text-repr-fallback\"><pre>GridSearchCV(cv=5, estimator=AugHSForestClassifier(), n_jobs=-1,\n",
       "             param_grid={&#x27;lmb&#x27;: [0.1, 1, 10, 20],\n",
       "                         &#x27;shrink_mode&#x27;: [&#x27;hs&#x27;, &#x27;hs_entropy&#x27;, &#x27;hs_entropy_2&#x27;,\n",
       "                                         &#x27;hs_log_cardinality&#x27;]})</pre><b>In a Jupyter environment, please rerun this cell to show the HTML representation or trust the notebook. <br />On GitHub, the HTML representation is unable to render, please try loading this page with nbviewer.org.</b></div><div class=\"sk-container\" hidden><div class=\"sk-item sk-dashed-wrapped\"><div class=\"sk-label-container\"><div class=\"sk-label sk-toggleable\"><input class=\"sk-toggleable__control sk-hidden--visually\" id=\"sk-estimator-id-1\" type=\"checkbox\" ><label for=\"sk-estimator-id-1\" class=\"sk-toggleable__label sk-toggleable__label-arrow\">GridSearchCV</label><div class=\"sk-toggleable__content\"><pre>GridSearchCV(cv=5, estimator=AugHSForestClassifier(), n_jobs=-1,\n",
       "             param_grid={&#x27;lmb&#x27;: [0.1, 1, 10, 20],\n",
       "                         &#x27;shrink_mode&#x27;: [&#x27;hs&#x27;, &#x27;hs_entropy&#x27;, &#x27;hs_entropy_2&#x27;,\n",
       "                                         &#x27;hs_log_cardinality&#x27;]})</pre></div></div></div><div class=\"sk-parallel\"><div class=\"sk-parallel-item\"><div class=\"sk-item\"><div class=\"sk-label-container\"><div class=\"sk-label sk-toggleable\"><input class=\"sk-toggleable__control sk-hidden--visually\" id=\"sk-estimator-id-2\" type=\"checkbox\" ><label for=\"sk-estimator-id-2\" class=\"sk-toggleable__label sk-toggleable__label-arrow\">estimator: AugHSForestClassifier</label><div class=\"sk-toggleable__content\"><pre>AugHSForestClassifier()</pre></div></div></div><div class=\"sk-serial\"><div class=\"sk-item sk-dashed-wrapped\"><div class=\"sk-parallel\"><div class=\"sk-parallel-item\"><div class=\"sk-item\"><div class=\"sk-label-container\"><div class=\"sk-label sk-toggleable\"><input class=\"sk-toggleable__control sk-hidden--visually\" id=\"sk-estimator-id-3\" type=\"checkbox\" ><label for=\"sk-estimator-id-3\" class=\"sk-toggleable__label sk-toggleable__label-arrow\">base_estimator: RandomForestClassifier</label><div class=\"sk-toggleable__content\"><pre>RandomForestClassifier()</pre></div></div></div><div class=\"sk-serial\"><div class=\"sk-item\"><div class=\"sk-estimator sk-toggleable\"><input class=\"sk-toggleable__control sk-hidden--visually\" id=\"sk-estimator-id-4\" type=\"checkbox\" ><label for=\"sk-estimator-id-4\" class=\"sk-toggleable__label sk-toggleable__label-arrow\">RandomForestClassifier</label><div class=\"sk-toggleable__content\"><pre>RandomForestClassifier()</pre></div></div></div></div></div></div></div></div></div></div></div></div></div></div></div>"
      ],
      "text/plain": [
       "GridSearchCV(cv=5, estimator=AugHSForestClassifier(), n_jobs=-1,\n",
       "             param_grid={'lmb': [0.1, 1, 10, 20],\n",
       "                         'shrink_mode': ['hs', 'hs_entropy', 'hs_entropy_2',\n",
       "                                         'hs_log_cardinality']})"
      ]
     },
     "execution_count": 3,
     "metadata": {},
     "output_type": "execute_result"
    }
   ],
   "source": [
    "grid_search = GridSearchCV(AugHSForestClassifier(), param_grid, cv=5, n_jobs=-1)\n",
    "grid_search.fit(X_train.to_numpy(), y_train.to_numpy())"
   ]
  },
  {
   "cell_type": "code",
   "execution_count": 4,
   "metadata": {},
   "outputs": [
    {
     "name": "stdout",
     "output_type": "stream",
     "text": [
      "{'lmb': 20, 'shrink_mode': 'hs_log_cardinality'}\n"
     ]
    }
   ],
   "source": [
    "print(grid_search.best_params_)"
   ]
  },
  {
   "cell_type": "code",
   "execution_count": 5,
   "metadata": {},
   "outputs": [
    {
     "data": {
      "text/plain": [
       "{'mean_fit_time': array([0.59250402, 3.55457654, 3.61767311, 1.51156526, 0.59994602,\n",
       "        3.78416591, 3.79667273, 1.55012522, 0.62796335, 3.84600153,\n",
       "        3.82438922, 1.6166894 , 0.72485957, 3.91437731, 3.6232892 ,\n",
       "        1.42341995]),\n",
       " 'std_fit_time': array([0.0739845 , 0.29905511, 0.2852703 , 0.19018564, 0.07023481,\n",
       "        0.48402475, 0.43512422, 0.20207163, 0.06690257, 0.20069521,\n",
       "        0.24443921, 0.20708894, 0.1181136 , 0.2670887 , 0.53458439,\n",
       "        0.0733675 ]),\n",
       " 'mean_score_time': array([0.01512637, 0.01560712, 0.01645131, 0.02019572, 0.01393223,\n",
       "        0.01686788, 0.02242584, 0.01616335, 0.01508684, 0.01430817,\n",
       "        0.015097  , 0.01343241, 0.01470137, 0.01581159, 0.01260023,\n",
       "        0.01093621]),\n",
       " 'std_score_time': array([0.00387734, 0.00459946, 0.00480952, 0.01231436, 0.00138111,\n",
       "        0.00636837, 0.015967  , 0.00404302, 0.00292627, 0.00113192,\n",
       "        0.00164803, 0.00042586, 0.00216068, 0.00398062, 0.00459989,\n",
       "        0.00255081]),\n",
       " 'param_lmb': masked_array(data=[0.1, 0.1, 0.1, 0.1, 1, 1, 1, 1, 10, 10, 10, 10, 20, 20,\n",
       "                    20, 20],\n",
       "              mask=[False, False, False, False, False, False, False, False,\n",
       "                    False, False, False, False, False, False, False, False],\n",
       "        fill_value='?',\n",
       "             dtype=object),\n",
       " 'param_shrink_mode': masked_array(data=['hs', 'hs_entropy', 'hs_entropy_2',\n",
       "                    'hs_log_cardinality', 'hs', 'hs_entropy',\n",
       "                    'hs_entropy_2', 'hs_log_cardinality', 'hs',\n",
       "                    'hs_entropy', 'hs_entropy_2', 'hs_log_cardinality',\n",
       "                    'hs', 'hs_entropy', 'hs_entropy_2',\n",
       "                    'hs_log_cardinality'],\n",
       "              mask=[False, False, False, False, False, False, False, False,\n",
       "                    False, False, False, False, False, False, False, False],\n",
       "        fill_value='?',\n",
       "             dtype=object),\n",
       " 'params': [{'lmb': 0.1, 'shrink_mode': 'hs'},\n",
       "  {'lmb': 0.1, 'shrink_mode': 'hs_entropy'},\n",
       "  {'lmb': 0.1, 'shrink_mode': 'hs_entropy_2'},\n",
       "  {'lmb': 0.1, 'shrink_mode': 'hs_log_cardinality'},\n",
       "  {'lmb': 1, 'shrink_mode': 'hs'},\n",
       "  {'lmb': 1, 'shrink_mode': 'hs_entropy'},\n",
       "  {'lmb': 1, 'shrink_mode': 'hs_entropy_2'},\n",
       "  {'lmb': 1, 'shrink_mode': 'hs_log_cardinality'},\n",
       "  {'lmb': 10, 'shrink_mode': 'hs'},\n",
       "  {'lmb': 10, 'shrink_mode': 'hs_entropy'},\n",
       "  {'lmb': 10, 'shrink_mode': 'hs_entropy_2'},\n",
       "  {'lmb': 10, 'shrink_mode': 'hs_log_cardinality'},\n",
       "  {'lmb': 20, 'shrink_mode': 'hs'},\n",
       "  {'lmb': 20, 'shrink_mode': 'hs_entropy'},\n",
       "  {'lmb': 20, 'shrink_mode': 'hs_entropy_2'},\n",
       "  {'lmb': 20, 'shrink_mode': 'hs_log_cardinality'}],\n",
       " 'split0_test_score': array([0.6969697 , 0.6969697 , 0.78787879, 0.6969697 , 0.6969697 ,\n",
       "        0.75757576, 0.75757576, 0.72727273, 0.78787879, 0.75757576,\n",
       "        0.75757576, 0.75757576, 0.6969697 , 0.75757576, 0.78787879,\n",
       "        0.75757576]),\n",
       " 'split1_test_score': array([0.60606061, 0.63636364, 0.6969697 , 0.63636364, 0.60606061,\n",
       "        0.63636364, 0.6969697 , 0.60606061, 0.60606061, 0.63636364,\n",
       "        0.63636364, 0.57575758, 0.60606061, 0.60606061, 0.66666667,\n",
       "        0.66666667]),\n",
       " 'split2_test_score': array([0.72727273, 0.78787879, 0.78787879, 0.78787879, 0.72727273,\n",
       "        0.75757576, 0.78787879, 0.72727273, 0.72727273, 0.75757576,\n",
       "        0.75757576, 0.78787879, 0.72727273, 0.75757576, 0.78787879,\n",
       "        0.81818182]),\n",
       " 'split3_test_score': array([0.78125, 0.84375, 0.84375, 0.8125 , 0.78125, 0.84375, 0.875  ,\n",
       "        0.8125 , 0.8125 , 0.875  , 0.84375, 0.84375, 0.8125 , 0.8125 ,\n",
       "        0.8125 , 0.875  ]),\n",
       " 'split4_test_score': array([0.71875, 0.75   , 0.75   , 0.71875, 0.75   , 0.75   , 0.75   ,\n",
       "        0.75   , 0.75   , 0.8125 , 0.6875 , 0.71875, 0.75   , 0.6875 ,\n",
       "        0.78125, 0.8125 ]),\n",
       " 'mean_test_score': array([0.70606061, 0.74299242, 0.77329545, 0.73049242, 0.71231061,\n",
       "        0.74905303, 0.77348485, 0.72462121, 0.73674242, 0.76780303,\n",
       "        0.73655303, 0.73674242, 0.71856061, 0.72424242, 0.76723485,\n",
       "        0.78598485]),\n",
       " 'std_test_score': array([0.05717878, 0.07169905, 0.04849225, 0.06346704, 0.05986886,\n",
       "        0.06604935, 0.05860327, 0.06698872, 0.07169005, 0.07870771,\n",
       "        0.07045455, 0.09026564, 0.06784005, 0.07117383, 0.05140362,\n",
       "        0.07029552]),\n",
       " 'rank_test_score': array([16,  7,  3, 11, 15,  6,  2, 12,  8,  4, 10,  8, 14, 13,  5,  1],\n",
       "       dtype=int32)}"
      ]
     },
     "execution_count": 5,
     "metadata": {},
     "output_type": "execute_result"
    }
   ],
   "source": [
    "grid_search.cv_results_"
   ]
  },
  {
   "cell_type": "code",
   "execution_count": 7,
   "metadata": {},
   "outputs": [
    {
     "data": {
      "text/plain": [
       "array([0.70606061, 0.74299242, 0.77329545, 0.73049242, 0.71231061,\n",
       "       0.74905303, 0.77348485, 0.72462121, 0.73674242, 0.76780303,\n",
       "       0.73655303, 0.73674242, 0.71856061, 0.72424242, 0.76723485,\n",
       "       0.78598485])"
      ]
     },
     "execution_count": 7,
     "metadata": {},
     "output_type": "execute_result"
    }
   ],
   "source": [
    "grid_search.cv_results_[\"mean_test_score\"]"
   ]
  },
  {
   "cell_type": "code",
   "execution_count": null,
   "metadata": {},
   "outputs": [],
   "source": []
  }
 ],
 "metadata": {
  "kernelspec": {
   "display_name": "hierarchical-shrinkage",
   "language": "python",
   "name": "python3"
  },
  "language_info": {
   "codemirror_mode": {
    "name": "ipython",
    "version": 3
   },
   "file_extension": ".py",
   "mimetype": "text/x-python",
   "name": "python",
   "nbconvert_exporter": "python",
   "pygments_lexer": "ipython3",
   "version": "3.10.9"
  },
  "orig_nbformat": 4,
  "vscode": {
   "interpreter": {
    "hash": "b2514d54674e2b03a853d73b59381182ddcfa01219b058bbb52b8926a029c115"
   }
  }
 },
 "nbformat": 4,
 "nbformat_minor": 2
}
