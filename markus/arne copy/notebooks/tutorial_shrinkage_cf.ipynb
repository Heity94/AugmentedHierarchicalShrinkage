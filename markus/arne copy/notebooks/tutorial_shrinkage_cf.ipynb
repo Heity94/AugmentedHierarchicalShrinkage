{
 "cells": [
  {
   "cell_type": "markdown",
   "metadata": {},
   "source": [
    "# Tutorial: Cross-validating hierarchical shrinkage hyperparameters\n",
    "Hyperparameters for (augmented) hierarchical shrinkage (i.e. `shrink_mode` and\n",
    "`lmb`) can be tuned using cross-validation, without having to retrain the\n",
    "underlying model. This is because (augmented) hierarchical shrinkage is a\n",
    "**fully post-hoc** procedure. As the `ShrinkageClassifier` and\n",
    "`ShrinkageRegressor` are valid scikit-learn estimators, you could simply tune\n",
    "these hyperparameters using [`GridSearchCV`](https://scikit-learn.org/stable/modules/generated/sklearn.model_selection.GridSearchCV.html) as you would do with any other scikit-learn\n",
    "model. However, this **will** retrain the decision tree or random forest, which\n",
    "leads to unnecessary performance loss. This notebook shows how you can use our\n",
    "cross-validation function to cross-validate `shrink_mode` and `lmb` without\n",
    "this performance loss."
   ]
  },
  {
   "cell_type": "code",
   "execution_count": 1,
   "metadata": {},
   "outputs": [],
   "source": [
    "import sys\n",
    "sys.path.append('../')  # Necessary to import aughs from parent directory\n",
    "\n",
    "from aughs import ShrinkageClassifier, cross_val_shrinkage\n",
    "from sklearn.ensemble import RandomForestClassifier\n",
    "from sklearn.tree import DecisionTreeClassifier\n",
    "from imodels.util.data_util import get_clean_dataset\n",
    "from sklearn.model_selection import train_test_split\n",
    "from sklearn.metrics import balanced_accuracy_score\n",
    "from matplotlib import pyplot as plt\n",
    "import numpy as np"
   ]
  },
  {
   "attachments": {},
   "cell_type": "markdown",
   "metadata": {},
   "source": [
    "First, we load the dataset and create a classifier."
   ]
  },
  {
   "cell_type": "code",
   "execution_count": 2,
   "metadata": {},
   "outputs": [],
   "source": [
    "X, y, feature_names = get_clean_dataset(\"breast_cancer\", data_source=\"imodels\")\n",
    "clf = ShrinkageClassifier(DecisionTreeClassifier())"
   ]
  },
  {
   "attachments": {},
   "cell_type": "markdown",
   "metadata": {},
   "source": [
    "Next, we define a grid of hyperparameters to search over. This grid works\n",
    "analogously as the `param_grid` in `GridSearchCV`, but only accepts values for\n",
    "`shrink_mode` and `lmb`. Values for both variables **must** be present. For example,\n",
    "if you want to use a fixed value for `shrink_mode` and only search over `lmb`:\n",
    "```python\n",
    "param_grid = {\n",
    "    \"shrink_mode\": [\"hs_entropy\"],\n",
    "    \"lmb\": [0, 0.1, 0.5, 1, 2, 5, 10, 20, 50, 100]\n",
    "}\n",
    "```"
   ]
  },
  {
   "cell_type": "code",
   "execution_count": 3,
   "metadata": {},
   "outputs": [],
   "source": [
    "# Define a grid of parameters\n",
    "param_grid = {\n",
    "    \"shrink_mode\": [\"hs\", \"hs_entropy\", \"hs_log_cardinality\"],\n",
    "    \"lmb\": [0, 0.1, 0.5, 1, 2, 5, 10, 20, 50, 100]\n",
    "}"
   ]
  },
  {
   "attachments": {},
   "cell_type": "markdown",
   "metadata": {},
   "source": [
    "The next cell runs 5-fold cross-validation for each combination of the hyperparameters. The different combinations are tested in parallel, in `n_jobs` different processes (use -1 to use all threads). The `verbose` parameter is passed to `joblib` for the parallel execution. If `n_jobs=1`, `joblib` isn't used. In this case, any value different from 0 will show a progress bar."
   ]
  },
  {
   "cell_type": "code",
   "execution_count": 4,
   "metadata": {},
   "outputs": [
    {
     "name": "stderr",
     "output_type": "stream",
     "text": [
      "[Parallel(n_jobs=-1)]: Using backend LokyBackend with 8 concurrent workers.\n",
      "[Parallel(n_jobs=-1)]: Done   2 tasks      | elapsed:    2.6s\n",
      "[Parallel(n_jobs=-1)]: Done   9 tasks      | elapsed:    3.0s\n",
      "[Parallel(n_jobs=-1)]: Done  19 out of  30 | elapsed:    3.3s remaining:    1.9s\n",
      "[Parallel(n_jobs=-1)]: Done  23 out of  30 | elapsed:    3.4s remaining:    1.0s\n",
      "[Parallel(n_jobs=-1)]: Done  27 out of  30 | elapsed:    3.5s remaining:    0.4s\n",
      "[Parallel(n_jobs=-1)]: Done  30 out of  30 | elapsed:    3.5s finished\n"
     ]
    }
   ],
   "source": [
    "# Run cross-validation for each parameter combination\n",
    "scores, param_shrink_mode, param_lmb = cross_val_shrinkage(clf, X, y,\n",
    "                                                           param_grid,\n",
    "                                                           n_splits=5,\n",
    "                                                           n_jobs=-1,\n",
    "                                                           verbose=10)"
   ]
  },
  {
   "attachments": {},
   "cell_type": "markdown",
   "metadata": {},
   "source": [
    "The function returns 3 values:\n",
    "- `scores`: the scores for each parameter setting\n",
    "- `param_shrink_mode`: the shrink mode value for each setting\n",
    "- `param_lmb`: the lambda value for each setting\n",
    "\n",
    "For example, the score for setting 5 is `scores[5]`, and this score was achieved\n",
    "with `shrink_mode=param_shrink_mode[5]` and `lmb=param_lmb[5]`. To get the best\n",
    "score and parameter values, we can use `np.argmax` as shown below."
   ]
  },
  {
   "cell_type": "code",
   "execution_count": 5,
   "metadata": {},
   "outputs": [],
   "source": [
    "best_score_idx = np.argmax(scores)\n",
    "best_score = scores[best_score_idx]\n",
    "best_shrink_mode = param_shrink_mode[best_score_idx]\n",
    "best_lmb = param_lmb[best_score_idx]"
   ]
  },
  {
   "cell_type": "code",
   "execution_count": 6,
   "metadata": {},
   "outputs": [
    {
     "data": {
      "text/plain": [
       "array([0.57314493, 0.59387852, 0.57948372, 0.58910005, 0.55361596,\n",
       "       0.60502886, 0.56682723, 0.56621422, 0.58017499, 0.57791413,\n",
       "       0.57484419, 0.58106722, 0.554256  , 0.59072104, 0.55306865,\n",
       "       0.57090875, 0.62133025, 0.57332262, 0.62154944, 0.6098463 ,\n",
       "       0.58310738, 0.63164032, 0.56725662, 0.54856014, 0.61870608,\n",
       "       0.56711409, 0.5968484 , 0.5958139 , 0.59138629, 0.58810298])"
      ]
     },
     "execution_count": 6,
     "metadata": {},
     "output_type": "execute_result"
    }
   ],
   "source": [
    "scores"
   ]
  },
  {
   "cell_type": "code",
   "execution_count": 7,
   "metadata": {},
   "outputs": [
    {
     "data": {
      "text/plain": [
       "0.6316403204918651"
      ]
     },
     "execution_count": 7,
     "metadata": {},
     "output_type": "execute_result"
    }
   ],
   "source": [
    "best_score"
   ]
  },
  {
   "cell_type": "code",
   "execution_count": 8,
   "metadata": {},
   "outputs": [
    {
     "data": {
      "text/plain": [
       "'hs_log_cardinality'"
      ]
     },
     "execution_count": 8,
     "metadata": {},
     "output_type": "execute_result"
    }
   ],
   "source": [
    "best_shrink_mode"
   ]
  },
  {
   "cell_type": "code",
   "execution_count": 9,
   "metadata": {},
   "outputs": [
    {
     "data": {
      "text/plain": [
       "0.1"
      ]
     },
     "execution_count": 9,
     "metadata": {},
     "output_type": "execute_result"
    }
   ],
   "source": [
    "best_lmb"
   ]
  },
  {
   "cell_type": "code",
   "execution_count": null,
   "metadata": {},
   "outputs": [],
   "source": []
  }
 ],
 "metadata": {
  "kernelspec": {
   "display_name": "hierarchical-shrinkage",
   "language": "python",
   "name": "python3"
  },
  "language_info": {
   "codemirror_mode": {
    "name": "ipython",
    "version": 3
   },
   "file_extension": ".py",
   "mimetype": "text/x-python",
   "name": "python",
   "nbconvert_exporter": "python",
   "pygments_lexer": "ipython3",
   "version": "3.10.9"
  },
  "orig_nbformat": 4
 },
 "nbformat": 4,
 "nbformat_minor": 2
}
