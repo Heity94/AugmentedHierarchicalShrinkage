{
 "cells": [
  {
   "cell_type": "code",
   "execution_count": 1,
   "metadata": {},
   "outputs": [],
   "source": [
    "%load_ext autoreload\n",
    "%autoreload 2\n",
    "%matplotlib inline\n",
    "\n",
    "from imodels.util.data_util import get_clean_dataset\n",
    "import numpy as np\n",
    "from aughs import ShrinkageClassifier\n",
    "from sklearn.model_selection import cross_val_score, cross_validate\n",
    "import matplotlib.pyplot as plt\n",
    "import pandas as pd"
   ]
  },
  {
   "cell_type": "code",
   "execution_count": 2,
   "metadata": {},
   "outputs": [],
   "source": [
    "clf_datasets = [\n",
    "  (\"juvenile\", \"juvenile_clean\", \"imodels\"),\n",
    " (\"recidivism\", \"compas_two_year_clean\", \"imodels\")\n",
    "]\n",
    "lmbs = np.arange(0, 100, 2)"
   ]
  },
  {
   "attachments": {},
   "cell_type": "markdown",
   "metadata": {},
   "source": [
    "### Our own code aughs"
   ]
  },
  {
   "cell_type": "code",
   "execution_count": 4,
   "metadata": {},
   "outputs": [
    {
     "name": "stdout",
     "output_type": "stream",
     "text": [
      "done with juvenile\n",
      "done with recidivism\n",
      "CPU times: user 1.97 s, sys: 627 ms, total: 2.6 s\n",
      "Wall time: 1min 9s\n"
     ]
    }
   ],
   "source": [
    "%%time\n",
    "\n",
    "for ds_name, id, source in clf_datasets:\n",
    "    X, y, feature_names = get_clean_dataset(id, data_source=source)\n",
    "    \n",
    "    for shrink_mode in [\"hs\"]:\n",
    "        for lmb in lmbs:\n",
    "            clf = ShrinkageClassifier(shrink_mode=shrink_mode, lmb=lmb)\n",
    "            CVscores = cross_validate(clf, X, y, cv=10, n_jobs=-1,\n",
    "                                scoring=(\"balanced_accuracy\", \"roc_auc\"))   \n",
    "            \n",
    "    print(\"done with %s\" % ds_name)\n",
    "#Overall took \n",
    "#CPU times: user 1.97 s, sys: 627 ms, total: 2.6 s\n",
    "#Wall time: 1min 9s"
   ]
  },
  {
   "attachments": {},
   "cell_type": "markdown",
   "metadata": {},
   "source": [
    "### imodels code\n",
    "\n",
    "\n",
    "https://csinva.io/imodels/shrinkage.html"
   ]
  },
  {
   "cell_type": "code",
   "execution_count": 6,
   "metadata": {},
   "outputs": [],
   "source": [
    "from imodels import HSTreeClassifierCV"
   ]
  },
  {
   "cell_type": "code",
   "execution_count": 7,
   "metadata": {},
   "outputs": [
    {
     "data": {
      "text/plain": [
       "imodels.tree.hierarchical_shrinkage.HSTreeClassifierCV"
      ]
     },
     "execution_count": 7,
     "metadata": {},
     "output_type": "execute_result"
    }
   ],
   "source": [
    "HSTreeClassifierCV()"
   ]
  },
  {
   "cell_type": "code",
   "execution_count": 8,
   "metadata": {},
   "outputs": [
    {
     "name": "stdout",
     "output_type": "stream",
     "text": [
      "done with juvenile\n",
      "done with recidivism\n",
      "CPU times: user 1min 32s, sys: 2.78 s, total: 1min 34s\n",
      "Wall time: 1min 35s\n"
     ]
    }
   ],
   "source": [
    "%%time\n",
    "\n",
    "for ds_name, id, source in clf_datasets:\n",
    "    X, y, feature_names = get_clean_dataset(id, data_source=source)\n",
    "\n",
    "    model = HSTreeClassifierCV(reg_param_list=lmbs, cv=10, max_leaf_nodes=None)  # initialize a model\n",
    "    model.fit(X, y)   # fit model   \n",
    "            \n",
    "    print(\"done with %s\" % ds_name)\n",
    "#Overall took \n",
    "#CPU times: user 1min 32s, sys: 2.78 s, total: 1min 34s\n",
    "#Wall time: 1min 35s"
   ]
  }
 ],
 "metadata": {
  "kernelspec": {
   "display_name": ".venv",
   "language": "python",
   "name": "python3"
  },
  "language_info": {
   "codemirror_mode": {
    "name": "ipython",
    "version": 3
   },
   "file_extension": ".py",
   "mimetype": "text/x-python",
   "name": "python",
   "nbconvert_exporter": "python",
   "pygments_lexer": "ipython3",
   "version": "3.9.6"
  },
  "orig_nbformat": 4
 },
 "nbformat": 4,
 "nbformat_minor": 2
}
