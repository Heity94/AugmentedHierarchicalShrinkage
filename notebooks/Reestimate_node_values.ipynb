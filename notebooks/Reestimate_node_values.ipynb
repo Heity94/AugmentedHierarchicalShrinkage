{
 "cells": [
  {
   "cell_type": "code",
   "execution_count": 1,
   "id": "6ae46a97",
   "metadata": {},
   "outputs": [],
   "source": [
    "%load_ext autoreload\n",
    "%autoreload 2"
   ]
  },
  {
   "cell_type": "code",
   "execution_count": 2,
   "id": "8bfef773",
   "metadata": {},
   "outputs": [],
   "source": [
    "from sklearn import datasets\n",
    "import numpy as np\n",
    "import pandas as pd\n",
    "from sklearn.model_selection import train_test_split\n",
    "import matplotlib.pyplot as plt\n",
    "import seaborn as sns"
   ]
  },
  {
   "cell_type": "code",
   "execution_count": 3,
   "id": "2dd33cfa",
   "metadata": {},
   "outputs": [],
   "source": [
    "#Import Tree Models from scratch functions\n",
    "import sys\n",
    "import os\n",
    "\n",
    "module_path = os.path.abspath(os.path.join('..'))\n",
    "if module_path not in sys.path:\n",
    "    sys.path.append(module_path+\"/TreeModelsFromScratch\")\n",
    "\n",
    "from DecisionTree import DecisionTree\n",
    "from RandomForest import RandomForest\n",
    "from SmoothShap import verify_shap_model, smooth_shap"
   ]
  },
  {
   "cell_type": "markdown",
   "id": "bbf8f14e",
   "metadata": {},
   "source": [
    "# Reestimate node values based on oob/ test set"
   ]
  },
  {
   "cell_type": "markdown",
   "id": "01f0f21c",
   "metadata": {},
   "source": [
    "## Regression"
   ]
  },
  {
   "cell_type": "code",
   "execution_count": 113,
   "id": "3a2bfc90",
   "metadata": {},
   "outputs": [],
   "source": [
    "# Load data\n",
    "X, y = datasets.load_diabetes(return_X_y=True, as_frame=True)\n",
    "\n",
    "# Train test split\n",
    "X_train, X_test, y_train, y_test = train_test_split(X, y, test_size=0.2, random_state=42)"
   ]
  },
  {
   "cell_type": "code",
   "execution_count": 114,
   "id": "f65e8904",
   "metadata": {},
   "outputs": [],
   "source": [
    "reg_tree = DecisionTree(max_depth=4, treetype=\"regression\", random_state=42)\n",
    "reg_tree.fit(X_train, y_train)"
   ]
  },
  {
   "cell_type": "markdown",
   "id": "16de5ded",
   "metadata": {
    "heading_collapsed": true
   },
   "source": [
    "### Code for development of function"
   ]
  },
  {
   "cell_type": "code",
   "execution_count": 321,
   "id": "627bdc9a",
   "metadata": {
    "hidden": true
   },
   "outputs": [
    {
     "data": {
      "text/plain": [
       "[153.73654390934846,\n",
       " 118.04306220095694,\n",
       " 100.5592105263158,\n",
       " 164.66666666666666,\n",
       " 205.54166666666666,\n",
       " 191.10169491525423,\n",
       " 271.0769230769231]"
      ]
     },
     "execution_count": 321,
     "metadata": {},
     "output_type": "execute_result"
    }
   ],
   "source": [
    "[node.value for node in reg_tree.node_list]"
   ]
  },
  {
   "cell_type": "code",
   "execution_count": 322,
   "id": "0165ee3a",
   "metadata": {
    "hidden": true
   },
   "outputs": [],
   "source": [
    "traversed_nodes = reg_tree.explain_decision_path(X_train)[:,0].copy()"
   ]
  },
  {
   "cell_type": "code",
   "execution_count": 323,
   "id": "ce071236",
   "metadata": {
    "hidden": true
   },
   "outputs": [],
   "source": [
    "y_vals_array = np.full((reg_tree.n_nodes, X_train.shape[0]), np.nan)"
   ]
  },
  {
   "cell_type": "code",
   "execution_count": 324,
   "id": "83328e0d",
   "metadata": {
    "hidden": true
   },
   "outputs": [],
   "source": [
    "for i, (idxs, y) in enumerate(zip(traversed_nodes, y_train.values)):\n",
    "    y_vals_array[list(idxs),[i]] = y"
   ]
  },
  {
   "cell_type": "code",
   "execution_count": 325,
   "id": "6cde92e9",
   "metadata": {
    "hidden": true
   },
   "outputs": [
    {
     "data": {
      "text/plain": [
       "array([[144., 150., 280., ..., 148.,  64., 302.],\n",
       "       [ nan, 150.,  nan, ..., 148.,  64.,  nan],\n",
       "       [ nan, 150.,  nan, ..., 148.,  64.,  nan],\n",
       "       ...,\n",
       "       [144.,  nan, 280., ...,  nan,  nan, 302.],\n",
       "       [144.,  nan, 280., ...,  nan,  nan, 302.],\n",
       "       [ nan,  nan,  nan, ...,  nan,  nan,  nan]])"
      ]
     },
     "execution_count": 325,
     "metadata": {},
     "output_type": "execute_result"
    }
   ],
   "source": [
    "y_vals_array"
   ]
  },
  {
   "cell_type": "code",
   "execution_count": 326,
   "id": "aa27e418",
   "metadata": {
    "hidden": true
   },
   "outputs": [
    {
     "data": {
      "text/plain": [
       "array([False, False, False, False, False, False, False])"
      ]
     },
     "execution_count": 326,
     "metadata": {},
     "output_type": "execute_result"
    }
   ],
   "source": [
    "# Check if one of the nodes only contains nan values -> no observation reached this node\n",
    "np.isnan(y_vals_array.all(axis=1))"
   ]
  },
  {
   "cell_type": "code",
   "execution_count": 327,
   "id": "29861506",
   "metadata": {
    "hidden": true
   },
   "outputs": [
    {
     "data": {
      "text/plain": [
       "array([153.73654391, 118.0430622 , 100.55921053, 164.66666667,\n",
       "       205.54166667, 191.10169492, 271.07692308])"
      ]
     },
     "execution_count": 327,
     "metadata": {},
     "output_type": "execute_result"
    }
   ],
   "source": [
    "#calculate mean value per node \n",
    "np.nanmean(y_vals_array, axis=1)"
   ]
  },
  {
   "cell_type": "code",
   "execution_count": 328,
   "id": "8070a745",
   "metadata": {
    "hidden": true
   },
   "outputs": [],
   "source": [
    "#Check if node values train are equal to newly calculated node values (should be the case since we are only passing training data)\n",
    "assert np.round([node.value for node in reg_tree.node_list],8).all() == np.nanmean(y_vals_array, axis=1).all()"
   ]
  },
  {
   "cell_type": "markdown",
   "id": "2411865a",
   "metadata": {
    "hidden": true
   },
   "source": [
    "Lets calculate the node values based on the test set"
   ]
  },
  {
   "cell_type": "code",
   "execution_count": 329,
   "id": "32edc818",
   "metadata": {
    "hidden": true
   },
   "outputs": [],
   "source": [
    "traversed_nodes_test = reg_tree.explain_decision_path(X_test)[:,0].copy()"
   ]
  },
  {
   "cell_type": "code",
   "execution_count": 330,
   "id": "02fd713d",
   "metadata": {
    "hidden": true
   },
   "outputs": [],
   "source": [
    "y_vals_array_test = np.full((reg_tree.n_nodes, X_test.shape[0]), np.nan)"
   ]
  },
  {
   "cell_type": "code",
   "execution_count": 331,
   "id": "d8d3b08b",
   "metadata": {
    "hidden": true
   },
   "outputs": [],
   "source": [
    "for i, (idxs, y) in enumerate(zip(traversed_nodes_test, y_test.values)):\n",
    "    y_vals_array_test[list(idxs),[i]] = y"
   ]
  },
  {
   "cell_type": "code",
   "execution_count": 332,
   "id": "831dcd37",
   "metadata": {
    "hidden": true
   },
   "outputs": [
    {
     "data": {
      "text/plain": [
       "array([False, False, False, False, False, False, False])"
      ]
     },
     "execution_count": 332,
     "metadata": {},
     "output_type": "execute_result"
    }
   ],
   "source": [
    "# Check if one of the nodes only contains nan values -> no observation reached this node\n",
    "np.isnan(y_vals_array_test.all(axis=1))"
   ]
  },
  {
   "cell_type": "code",
   "execution_count": 333,
   "id": "58298591",
   "metadata": {
    "hidden": true
   },
   "outputs": [
    {
     "data": {
      "text/plain": [
       "array([145.7752809 , 123.07142857,  98.97222222, 166.45      ,\n",
       "       184.3030303 , 179.4137931 , 219.75      ])"
      ]
     },
     "execution_count": 333,
     "metadata": {},
     "output_type": "execute_result"
    }
   ],
   "source": [
    "#calculate mean value per node \n",
    "node_vals_test = np.nanmean(y_vals_array_test, axis=1)\n",
    "node_vals_test"
   ]
  },
  {
   "cell_type": "code",
   "execution_count": 334,
   "id": "535b0585",
   "metadata": {
    "hidden": true
   },
   "outputs": [],
   "source": [
    "orig_node_vals = np.round([node.value for node in reg_tree.node_list],8)"
   ]
  },
  {
   "cell_type": "code",
   "execution_count": 335,
   "id": "63d18ebd",
   "metadata": {
    "hidden": true
   },
   "outputs": [
    {
     "data": {
      "text/plain": [
       "array([ 7.96126301, -5.02836637,  1.58698831, -1.78333333, 21.23863637,\n",
       "       11.68790182, 51.32692308])"
      ]
     },
     "execution_count": 335,
     "metadata": {},
     "output_type": "execute_result"
    }
   ],
   "source": [
    "# Difference between original node values and node values based on test set\n",
    "orig_node_vals -node_vals_test"
   ]
  },
  {
   "cell_type": "code",
   "execution_count": 336,
   "id": "56032c59",
   "metadata": {
    "hidden": true
   },
   "outputs": [],
   "source": [
    "n_samples = np.count_nonzero(~np.isnan(y_vals_array_test), axis=1)"
   ]
  },
  {
   "cell_type": "code",
   "execution_count": 337,
   "id": "7df0e840",
   "metadata": {
    "hidden": true
   },
   "outputs": [],
   "source": [
    "#store regression results in dict \n",
    "res = {}\n",
    "node_vals = np.nanmean(y_vals_array_test, axis=1)\n",
    "n_samples = np.count_nonzero(~np.isnan(y_vals_array_test), axis=1)\n",
    "\n",
    "for i in range(y_vals_array_test.shape[0]):\n",
    "    \n",
    "    res[i]={\"samples\": n_samples[i],\n",
    "            \"value\": node_vals[i]\n",
    "           }"
   ]
  },
  {
   "cell_type": "code",
   "execution_count": 338,
   "id": "b1791f53",
   "metadata": {
    "hidden": true
   },
   "outputs": [
    {
     "data": {
      "text/plain": [
       "{0: {'samples': 89, 'value': 145.77528089887642},\n",
       " 1: {'samples': 56, 'value': 123.07142857142857},\n",
       " 2: {'samples': 36, 'value': 98.97222222222223},\n",
       " 3: {'samples': 20, 'value': 166.45},\n",
       " 4: {'samples': 33, 'value': 184.3030303030303},\n",
       " 5: {'samples': 29, 'value': 179.41379310344828},\n",
       " 6: {'samples': 4, 'value': 219.75}}"
      ]
     },
     "execution_count": 338,
     "metadata": {},
     "output_type": "execute_result"
    }
   ],
   "source": [
    "res"
   ]
  },
  {
   "cell_type": "markdown",
   "id": "2454f479",
   "metadata": {},
   "source": [
    "### Test implemented class function"
   ]
  },
  {
   "cell_type": "code",
   "execution_count": 115,
   "id": "c98a9ae2",
   "metadata": {},
   "outputs": [],
   "source": [
    "node_vals, result, nan_rows = reg_tree._reestimate_node_values(X_train,y_train)"
   ]
  },
  {
   "cell_type": "code",
   "execution_count": 116,
   "id": "759315e6",
   "metadata": {},
   "outputs": [
    {
     "data": {
      "text/plain": [
       "array([], dtype=int64)"
      ]
     },
     "execution_count": 116,
     "metadata": {},
     "output_type": "execute_result"
    }
   ],
   "source": [
    "nan_rows"
   ]
  },
  {
   "cell_type": "code",
   "execution_count": 117,
   "id": "b5fb8c48",
   "metadata": {},
   "outputs": [
    {
     "data": {
      "text/plain": [
       "{0: {'samples': 353, 'value': 153.73654390934846},\n",
       " 1: {'samples': 209, 'value': 118.04306220095694},\n",
       " 2: {'samples': 152, 'value': 100.5592105263158},\n",
       " 3: {'samples': 49, 'value': 80.87755102040816},\n",
       " 4: {'samples': 28, 'value': 94.75},\n",
       " 5: {'samples': 21, 'value': 62.38095238095238},\n",
       " 6: {'samples': 103, 'value': 109.92233009708738},\n",
       " 7: {'samples': 64, 'value': 121.859375},\n",
       " 8: {'samples': 39, 'value': 90.33333333333333},\n",
       " 9: {'samples': 57, 'value': 164.66666666666666},\n",
       " 10: {'samples': 54, 'value': 159.57407407407408},\n",
       " 11: {'samples': 21, 'value': 134.8095238095238},\n",
       " 12: {'samples': 33, 'value': 175.33333333333334},\n",
       " 13: {'samples': 3, 'value': 256.3333333333333},\n",
       " 14: {'samples': 1, 'value': 292.0},\n",
       " 15: {'samples': 2, 'value': 238.5},\n",
       " 16: {'samples': 144, 'value': 205.54166666666666},\n",
       " 17: {'samples': 118, 'value': 191.10169491525423},\n",
       " 18: {'samples': 85, 'value': 175.8},\n",
       " 19: {'samples': 10, 'value': 123.5},\n",
       " 20: {'samples': 75, 'value': 182.77333333333334},\n",
       " 21: {'samples': 33, 'value': 230.5151515151515},\n",
       " 22: {'samples': 3, 'value': 123.66666666666667},\n",
       " 23: {'samples': 30, 'value': 241.2},\n",
       " 24: {'samples': 26, 'value': 271.0769230769231},\n",
       " 25: {'samples': 18, 'value': 291.22222222222223},\n",
       " 26: {'samples': 11, 'value': 278.1818181818182},\n",
       " 27: {'samples': 7, 'value': 311.7142857142857},\n",
       " 28: {'samples': 8, 'value': 225.75},\n",
       " 29: {'samples': 2, 'value': 292.5},\n",
       " 30: {'samples': 6, 'value': 203.5}}"
      ]
     },
     "execution_count": 117,
     "metadata": {},
     "output_type": "execute_result"
    }
   ],
   "source": [
    "result"
   ]
  },
  {
   "cell_type": "code",
   "execution_count": 118,
   "id": "acd46787",
   "metadata": {},
   "outputs": [],
   "source": [
    "orig_node_vals = np.array([node.value for node in reg_tree.node_list])"
   ]
  },
  {
   "cell_type": "code",
   "execution_count": 119,
   "id": "5ced4a25",
   "metadata": {},
   "outputs": [
    {
     "data": {
      "text/plain": [
       "False"
      ]
     },
     "execution_count": 119,
     "metadata": {},
     "output_type": "execute_result"
    }
   ],
   "source": [
    "np.array_equal(node_vals_train, orig_node_vals)"
   ]
  },
  {
   "cell_type": "markdown",
   "id": "6fa70973",
   "metadata": {},
   "source": [
    "Works :) "
   ]
  },
  {
   "cell_type": "code",
   "execution_count": 121,
   "id": "b0559b44",
   "metadata": {},
   "outputs": [],
   "source": [
    "node_vals_test, result_test, nan_rows = reg_tree._reestimate_node_values(X_test, y_test)"
   ]
  },
  {
   "cell_type": "code",
   "execution_count": 122,
   "id": "467708bd",
   "metadata": {},
   "outputs": [
    {
     "data": {
      "text/plain": [
       "array([145.7752809 , 123.07142857,  98.97222222,  89.125     ,\n",
       "        66.33333333,  94.38461538, 106.85      , 122.125     ,\n",
       "        96.66666667, 166.45      , 166.70588235, 147.        ,\n",
       "       184.22222222, 165.        , 162.        , 171.        ,\n",
       "       184.3030303 , 179.4137931 , 163.45833333, 110.8       ,\n",
       "       177.31578947, 256.        , 256.        , 256.        ,\n",
       "       219.75      , 219.75      , 219.75      , 219.75      ,\n",
       "       219.75      , 140.        , 246.33333333])"
      ]
     },
     "execution_count": 122,
     "metadata": {},
     "output_type": "execute_result"
    }
   ],
   "source": [
    "node_vals_test"
   ]
  },
  {
   "cell_type": "code",
   "execution_count": 123,
   "id": "fe86e867",
   "metadata": {},
   "outputs": [
    {
     "data": {
      "text/plain": [
       "array([153.73654391, 118.0430622 , 100.55921053,  80.87755102,\n",
       "        94.75      ,  62.38095238, 109.9223301 , 121.859375  ,\n",
       "        90.33333333, 164.66666667, 159.57407407, 134.80952381,\n",
       "       175.33333333, 256.33333333, 292.        , 238.5       ,\n",
       "       205.54166667, 191.10169492, 175.8       , 123.5       ,\n",
       "       182.77333333, 230.51515152, 123.66666667, 241.2       ,\n",
       "       271.07692308, 291.22222222, 278.18181818, 311.71428571,\n",
       "       225.75      , 292.5       , 203.5       ])"
      ]
     },
     "execution_count": 123,
     "metadata": {},
     "output_type": "execute_result"
    }
   ],
   "source": [
    "orig_node_vals"
   ]
  },
  {
   "cell_type": "code",
   "execution_count": 124,
   "id": "7b587684",
   "metadata": {},
   "outputs": [
    {
     "data": {
      "text/plain": [
       "False"
      ]
     },
     "execution_count": 124,
     "metadata": {},
     "output_type": "execute_result"
    }
   ],
   "source": [
    "# This should not be equal\n",
    "np.array_equal(node_vals_test, orig_node_vals)"
   ]
  },
  {
   "cell_type": "code",
   "execution_count": 125,
   "id": "32691b2d",
   "metadata": {},
   "outputs": [
    {
     "data": {
      "text/plain": [
       "array([   7.96126301,   -5.02836637,    1.5869883 ,   -8.24744898,\n",
       "         28.41666667,  -32.003663  ,    3.0723301 ,   -0.265625  ,\n",
       "         -6.33333333,   -1.78333333,   -7.13180828,  -12.19047619,\n",
       "         -8.88888889,   91.33333333,  130.        ,   67.5       ,\n",
       "         21.23863636,   11.68790181,   12.34166667,   12.7       ,\n",
       "          5.45754386,  -25.48484848, -132.33333333,  -14.8       ,\n",
       "         51.32692308,   71.47222222,   58.43181818,   91.96428571,\n",
       "          6.        ,  152.5       ,  -42.83333333])"
      ]
     },
     "execution_count": 125,
     "metadata": {},
     "output_type": "execute_result"
    }
   ],
   "source": [
    "# show difference\n",
    "orig_node_vals-node_vals_test"
   ]
  },
  {
   "cell_type": "code",
   "execution_count": 133,
   "id": "153cd28d",
   "metadata": {},
   "outputs": [
    {
     "data": {
      "text/plain": [
       "array([1.05461326, 0.9591427 , 1.01603468, 0.907462  , 1.42839196,\n",
       "       0.66092289, 1.02875367, 0.99782497, 0.93448276, 0.98928607,\n",
       "       0.95721922, 0.91707159, 0.9517491 , 1.55353535, 1.80246914,\n",
       "       1.39473684, 1.11523759, 1.06514495, 1.07550344, 1.11462094,\n",
       "       1.03077867, 0.90044981, 0.48307292, 0.9421875 , 1.23356962,\n",
       "       1.32524333, 1.26590133, 1.41849504, 1.02730375, 2.08928571,\n",
       "       0.82611637])"
      ]
     },
     "execution_count": 133,
     "metadata": {},
     "output_type": "execute_result"
    }
   ],
   "source": [
    "# Change in pct between orig and node val new\n",
    "np.divide(orig_node_vals,node_vals_test)"
   ]
  },
  {
   "cell_type": "markdown",
   "id": "85871d46",
   "metadata": {},
   "source": [
    "## Classification"
   ]
  },
  {
   "cell_type": "code",
   "execution_count": 106,
   "id": "fc73c2ee",
   "metadata": {},
   "outputs": [],
   "source": [
    "# Load data\n",
    "X, y = datasets.load_breast_cancer(return_X_y=True, as_frame=True)\n",
    "\n",
    "# Train test split\n",
    "X_train, X_test, y_train, y_test = train_test_split(X, y, test_size=0.2, random_state=42)"
   ]
  },
  {
   "cell_type": "code",
   "execution_count": 107,
   "id": "14b97ca0",
   "metadata": {},
   "outputs": [],
   "source": [
    "clf_tree = DecisionTree(max_depth=2, treetype=\"classification\", random_state=42)\n",
    "clf_tree.fit(X_train, y_train)"
   ]
  },
  {
   "cell_type": "markdown",
   "id": "5b3bdebd",
   "metadata": {
    "heading_collapsed": true
   },
   "source": [
    "### Code for development of function "
   ]
  },
  {
   "cell_type": "code",
   "execution_count": 265,
   "id": "acf4161c",
   "metadata": {
    "hidden": true
   },
   "outputs": [
    {
     "data": {
      "text/plain": [
       "[1, 1, 1, 0, 0, 1, 0]"
      ]
     },
     "execution_count": 265,
     "metadata": {},
     "output_type": "execute_result"
    }
   ],
   "source": [
    "[node.value for node in clf_tree.node_list]"
   ]
  },
  {
   "cell_type": "code",
   "execution_count": 266,
   "id": "4a7262df",
   "metadata": {
    "hidden": true
   },
   "outputs": [],
   "source": [
    "traversed_nodes = clf_tree.explain_decision_path(X_train)[:,0].copy()"
   ]
  },
  {
   "cell_type": "code",
   "execution_count": 267,
   "id": "4d5d1bb5",
   "metadata": {
    "hidden": true
   },
   "outputs": [],
   "source": [
    "y_vals_array = np.full((clf_tree.n_nodes, X_train.shape[0]), np.nan)"
   ]
  },
  {
   "cell_type": "code",
   "execution_count": 268,
   "id": "f8e91bc6",
   "metadata": {
    "hidden": true
   },
   "outputs": [],
   "source": [
    "for i, (idxs, y) in enumerate(zip(traversed_nodes, y_train.values)):\n",
    "    y_vals_array[list(idxs),[i]] = y"
   ]
  },
  {
   "cell_type": "code",
   "execution_count": 269,
   "id": "0cf8d71d",
   "metadata": {
    "hidden": true
   },
   "outputs": [
    {
     "data": {
      "text/plain": [
       "array([[ 1.,  0.,  1., ...,  1.,  0.,  1.],\n",
       "       [ 1., nan,  1., ...,  1., nan,  1.],\n",
       "       [ 1., nan,  1., ...,  1., nan,  1.],\n",
       "       ...,\n",
       "       [nan,  0., nan, ..., nan,  0., nan],\n",
       "       [nan, nan, nan, ..., nan, nan, nan],\n",
       "       [nan,  0., nan, ..., nan,  0., nan]])"
      ]
     },
     "execution_count": 269,
     "metadata": {},
     "output_type": "execute_result"
    }
   ],
   "source": [
    "y_vals_array"
   ]
  },
  {
   "cell_type": "code",
   "execution_count": 270,
   "id": "4d549e75",
   "metadata": {
    "hidden": true
   },
   "outputs": [],
   "source": [
    "#store classification results in dict \n",
    "res = {}\n",
    "\n",
    "for i in range(y_vals_array.shape[0]):\n",
    "    \n",
    "    val, cnts = np.unique(y_vals_array[i,:], return_counts=True)\n",
    "    counts = {k: v for k, v in zip(val, cnts)}\n",
    "    \n",
    "    clf_value_dis = [counts.get(0) or 0, counts.get(1) or 0]\n",
    "    n_samples = np.sum(clf_value_dis)\n",
    "    \n",
    "    clf_prob_dis = (np.array(clf_value_dis) / n_samples)\n",
    "    leaf_value = np.argmax(clf_prob_dis)\n",
    "    \n",
    "    res[i]={\"samples\": n_samples,\n",
    "            \"value\": leaf_value,\n",
    "            \"value_distribution\": clf_value_dis,\n",
    "            \"prob_distribution\": clf_prob_dis\n",
    "           }"
   ]
  },
  {
   "cell_type": "code",
   "execution_count": 271,
   "id": "ca6a1dd7",
   "metadata": {
    "hidden": true
   },
   "outputs": [
    {
     "data": {
      "text/plain": [
       "{0: {'samples': 455,\n",
       "  'value': 1,\n",
       "  'value_distribution': [169, 286],\n",
       "  'prob_distribution': array([0.37142857, 0.62857143])},\n",
       " 1: {'samples': 282,\n",
       "  'value': 1,\n",
       "  'value_distribution': [16, 266],\n",
       "  'prob_distribution': array([0.05673759, 0.94326241])},\n",
       " 2: {'samples': 263,\n",
       "  'value': 1,\n",
       "  'value_distribution': [5, 258],\n",
       "  'prob_distribution': array([0.01901141, 0.98098859])},\n",
       " 3: {'samples': 19,\n",
       "  'value': 0,\n",
       "  'value_distribution': [11, 8],\n",
       "  'prob_distribution': array([0.57894737, 0.42105263])},\n",
       " 4: {'samples': 173,\n",
       "  'value': 0,\n",
       "  'value_distribution': [153, 20],\n",
       "  'prob_distribution': array([0.88439306, 0.11560694])},\n",
       " 5: {'samples': 35,\n",
       "  'value': 1,\n",
       "  'value_distribution': [17, 18],\n",
       "  'prob_distribution': array([0.48571429, 0.51428571])},\n",
       " 6: {'samples': 138,\n",
       "  'value': 0,\n",
       "  'value_distribution': [136, 2],\n",
       "  'prob_distribution': array([0.98550725, 0.01449275])}}"
      ]
     },
     "execution_count": 271,
     "metadata": {},
     "output_type": "execute_result"
    }
   ],
   "source": [
    "res"
   ]
  },
  {
   "cell_type": "code",
   "execution_count": 272,
   "id": "d751067c",
   "metadata": {
    "hidden": true
   },
   "outputs": [
    {
     "data": {
      "text/plain": [
       "array([False, False, False, False, False, False, False])"
      ]
     },
     "execution_count": 272,
     "metadata": {},
     "output_type": "execute_result"
    }
   ],
   "source": [
    "# Check if one of the nodes only contains nan values -> no observation reached this node\n",
    "np.isnan(y_vals_array.all(axis=1))"
   ]
  },
  {
   "cell_type": "code",
   "execution_count": 273,
   "id": "48ec04f9",
   "metadata": {
    "hidden": true
   },
   "outputs": [
    {
     "data": {
      "text/plain": [
       "array([0.62857143, 0.94326241, 0.98098859, 0.42105263, 0.11560694,\n",
       "       0.51428571, 0.01449275])"
      ]
     },
     "execution_count": 273,
     "metadata": {},
     "output_type": "execute_result"
    }
   ],
   "source": [
    "#calculate mean value per node \n",
    "np.nanmean(y_vals_array, axis=1)"
   ]
  },
  {
   "cell_type": "code",
   "execution_count": 274,
   "id": "b569becb",
   "metadata": {
    "hidden": true
   },
   "outputs": [
    {
     "data": {
      "text/plain": [
       "[(0.37142857142857144, 0.6285714285714286),\n",
       " (0.05673758865248224, 0.9432624113475178),\n",
       " (0.019011406844106515, 0.9809885931558935),\n",
       " (0.5789473684210527, 0.42105263157894735),\n",
       " (0.8843930635838151, 0.11560693641618497),\n",
       " (0.48571428571428577, 0.5142857142857142),\n",
       " (0.9855072463768116, 0.014492753623188406)]"
      ]
     },
     "execution_count": 274,
     "metadata": {},
     "output_type": "execute_result"
    }
   ],
   "source": [
    "# get probabilities for each class p. node (binary classification)\n",
    "[(1-val, val) for val in np.nanmean(y_vals_array, axis=1)]"
   ]
  },
  {
   "cell_type": "code",
   "execution_count": 286,
   "id": "5ee255e0",
   "metadata": {
    "hidden": true
   },
   "outputs": [],
   "source": [
    "#Check if node prob distribution are equal to newly calculated node values (should be the case since we are only passing training data)\n",
    "assert np.round([node.clf_prob_dis for node in clf_tree.node_list],8).all() == np.array([(1-val, val) for val in np.nanmean(y_vals_array, axis=1)]).all()"
   ]
  },
  {
   "cell_type": "markdown",
   "id": "7b9fd9b6",
   "metadata": {
    "hidden": true
   },
   "source": [
    "Lets calculate the node values based on the test set"
   ]
  },
  {
   "cell_type": "code",
   "execution_count": 293,
   "id": "300e2f7c",
   "metadata": {
    "hidden": true
   },
   "outputs": [],
   "source": [
    "traversed_nodes_test = clf_tree.explain_decision_path(X_test)[:,0].copy()"
   ]
  },
  {
   "cell_type": "code",
   "execution_count": 294,
   "id": "54da51e6",
   "metadata": {
    "hidden": true
   },
   "outputs": [],
   "source": [
    "y_vals_array_test = np.full((clf_tree.n_nodes, X_test.shape[0]), np.nan)"
   ]
  },
  {
   "cell_type": "code",
   "execution_count": 295,
   "id": "ba17eb4e",
   "metadata": {
    "hidden": true
   },
   "outputs": [],
   "source": [
    "for i, (idxs, y) in enumerate(zip(traversed_nodes_test, y_test.values)):\n",
    "    y_vals_array_test[list(idxs),[i]] = y"
   ]
  },
  {
   "cell_type": "code",
   "execution_count": 296,
   "id": "304c3750",
   "metadata": {
    "hidden": true
   },
   "outputs": [
    {
     "data": {
      "text/plain": [
       "array([False, False, False, False, False, False, False])"
      ]
     },
     "execution_count": 296,
     "metadata": {},
     "output_type": "execute_result"
    }
   ],
   "source": [
    "# Check if one of the nodes only contains nan values -> no observation reached this node\n",
    "np.isnan(y_vals_array_test.all(axis=1))"
   ]
  },
  {
   "cell_type": "code",
   "execution_count": 297,
   "id": "2fd84772",
   "metadata": {
    "hidden": true
   },
   "outputs": [
    {
     "data": {
      "text/plain": [
       "array([0.62280702, 0.94029851, 0.96923077, 0.        , 0.17021277,\n",
       "       0.6       , 0.05405405])"
      ]
     },
     "execution_count": 297,
     "metadata": {},
     "output_type": "execute_result"
    }
   ],
   "source": [
    "#calculate mean value per node \n",
    "node_vals_test = np.nanmean(y_vals_array_test, axis=1)\n",
    "node_vals_test"
   ]
  },
  {
   "cell_type": "code",
   "execution_count": 299,
   "id": "a49ea442",
   "metadata": {
    "hidden": true
   },
   "outputs": [],
   "source": [
    "# probabilities for class 1\n",
    "orig_node_vals = np.round([node.clf_prob_dis[1] for node in clf_tree.node_list],8)"
   ]
  },
  {
   "cell_type": "code",
   "execution_count": 300,
   "id": "688e09c4",
   "metadata": {
    "hidden": true
   },
   "outputs": [
    {
     "data": {
      "text/plain": [
       "array([ 0.00576441,  0.0029639 ,  0.01175782,  0.42105263, -0.05460583,\n",
       "       -0.08571429, -0.0395613 ])"
      ]
     },
     "execution_count": 300,
     "metadata": {},
     "output_type": "execute_result"
    }
   ],
   "source": [
    "# Difference between original node values and node values based on test set\n",
    "orig_node_vals -node_vals_test"
   ]
  },
  {
   "cell_type": "markdown",
   "id": "5d1d31a0",
   "metadata": {},
   "source": [
    "### Test implemented class function"
   ]
  },
  {
   "cell_type": "code",
   "execution_count": 109,
   "id": "3b29ec0a",
   "metadata": {},
   "outputs": [],
   "source": [
    "node_probs_train, result, nan_rows = clf_tree._reestimate_node_values(X_train, y_train)"
   ]
  },
  {
   "cell_type": "code",
   "execution_count": 311,
   "id": "84f4cf0a",
   "metadata": {},
   "outputs": [
    {
     "data": {
      "text/plain": [
       "array([[0.37142857, 0.62857143],\n",
       "       [0.05673759, 0.94326241],\n",
       "       [0.01901141, 0.98098859],\n",
       "       [0.57894737, 0.42105263],\n",
       "       [0.88439306, 0.11560694],\n",
       "       [0.48571429, 0.51428571],\n",
       "       [0.98550725, 0.01449275]])"
      ]
     },
     "execution_count": 311,
     "metadata": {},
     "output_type": "execute_result"
    }
   ],
   "source": [
    "node_probs_train"
   ]
  },
  {
   "cell_type": "code",
   "execution_count": 306,
   "id": "2bc56ffb",
   "metadata": {},
   "outputs": [],
   "source": [
    "orig_node_probs = np.array([node.clf_prob_dis for node in clf_tree.node_list])"
   ]
  },
  {
   "cell_type": "code",
   "execution_count": 315,
   "id": "bebcfab7",
   "metadata": {},
   "outputs": [],
   "source": [
    "assert node_probs_train.all() == orig_node_probs.all()"
   ]
  },
  {
   "cell_type": "markdown",
   "id": "6f71b13a",
   "metadata": {},
   "source": [
    "Works :) "
   ]
  },
  {
   "cell_type": "code",
   "execution_count": 316,
   "id": "f4e302a0",
   "metadata": {},
   "outputs": [],
   "source": [
    "node_probs_test, result_test = clf_tree._reestimate_node_values(X_test, y_test)"
   ]
  },
  {
   "cell_type": "code",
   "execution_count": 317,
   "id": "c7c6327c",
   "metadata": {},
   "outputs": [
    {
     "ename": "AssertionError",
     "evalue": "",
     "output_type": "error",
     "traceback": [
      "\u001b[0;31m---------------------------------------------------------------------------\u001b[0m",
      "\u001b[0;31mAssertionError\u001b[0m                            Traceback (most recent call last)",
      "Cell \u001b[0;32mIn [317], line 2\u001b[0m\n\u001b[1;32m      1\u001b[0m \u001b[38;5;66;03m# This should not be equal\u001b[39;00m\n\u001b[0;32m----> 2\u001b[0m \u001b[38;5;28;01massert\u001b[39;00m node_probs_test\u001b[38;5;241m.\u001b[39mall() \u001b[38;5;241m==\u001b[39m orig_node_probs\u001b[38;5;241m.\u001b[39mall()\n",
      "\u001b[0;31mAssertionError\u001b[0m: "
     ]
    }
   ],
   "source": [
    "# This should not be equal\n",
    "assert node_probs_test.all() == orig_node_probs.all()"
   ]
  },
  {
   "cell_type": "code",
   "execution_count": 318,
   "id": "a1f6939b",
   "metadata": {},
   "outputs": [
    {
     "data": {
      "text/plain": [
       "array([[-0.00576441,  0.00576441],\n",
       "       [-0.0029639 ,  0.0029639 ],\n",
       "       [-0.01175782,  0.01175782],\n",
       "       [-0.42105263,  0.42105263],\n",
       "       [ 0.05460583, -0.05460583],\n",
       "       [ 0.08571429, -0.08571429],\n",
       "       [ 0.0395613 , -0.0395613 ]])"
      ]
     },
     "execution_count": 318,
     "metadata": {},
     "output_type": "execute_result"
    }
   ],
   "source": [
    "# show difference\n",
    "orig_node_probs-node_probs_test"
   ]
  }
 ],
 "metadata": {
  "kernelspec": {
   "display_name": "Python 3 (ipykernel)",
   "language": "python",
   "name": "python3"
  },
  "language_info": {
   "codemirror_mode": {
    "name": "ipython",
    "version": 3
   },
   "file_extension": ".py",
   "mimetype": "text/x-python",
   "name": "python",
   "nbconvert_exporter": "python",
   "pygments_lexer": "ipython3",
   "version": "3.10.6"
  },
  "toc": {
   "base_numbering": 1,
   "nav_menu": {},
   "number_sections": true,
   "sideBar": true,
   "skip_h1_title": false,
   "title_cell": "Table of Contents",
   "title_sidebar": "Contents",
   "toc_cell": false,
   "toc_position": {},
   "toc_section_display": true,
   "toc_window_display": false
  }
 },
 "nbformat": 4,
 "nbformat_minor": 5
}
