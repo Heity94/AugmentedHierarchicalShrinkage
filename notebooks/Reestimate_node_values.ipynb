{
 "cells": [
  {
   "cell_type": "code",
   "execution_count": 1,
   "id": "6ae46a97",
   "metadata": {},
   "outputs": [],
   "source": [
    "%load_ext autoreload\n",
    "%autoreload 2"
   ]
  },
  {
   "cell_type": "code",
   "execution_count": 2,
   "id": "8bfef773",
   "metadata": {},
   "outputs": [],
   "source": [
    "from sklearn import datasets\n",
    "import numpy as np\n",
    "import pandas as pd\n",
    "from sklearn.model_selection import train_test_split\n",
    "import matplotlib.pyplot as plt\n",
    "import seaborn as sns"
   ]
  },
  {
   "cell_type": "code",
   "execution_count": 3,
   "id": "2dd33cfa",
   "metadata": {},
   "outputs": [],
   "source": [
    "#Import Tree Models from scratch functions\n",
    "import sys\n",
    "import os\n",
    "\n",
    "module_path = os.path.abspath(os.path.join('..'))\n",
    "if module_path not in sys.path:\n",
    "    sys.path.append(module_path+\"/TreeModelsFromScratch\")\n",
    "\n",
    "from DecisionTree import DecisionTree\n",
    "from RandomForest import RandomForest\n",
    "from SmoothShap import verify_shap_model, smooth_shap"
   ]
  },
  {
   "cell_type": "markdown",
   "id": "bbf8f14e",
   "metadata": {},
   "source": [
    "# Reestimate node values based on oob/ test set"
   ]
  },
  {
   "cell_type": "markdown",
   "id": "01f0f21c",
   "metadata": {},
   "source": [
    "## Regression"
   ]
  },
  {
   "cell_type": "code",
   "execution_count": 319,
   "id": "3a2bfc90",
   "metadata": {},
   "outputs": [],
   "source": [
    "# Load data\n",
    "X, y = datasets.load_diabetes(return_X_y=True, as_frame=True)\n",
    "\n",
    "# Train test split\n",
    "X_train, X_test, y_train, y_test = train_test_split(X, y, test_size=0.2, random_state=42)"
   ]
  },
  {
   "cell_type": "code",
   "execution_count": 320,
   "id": "f65e8904",
   "metadata": {},
   "outputs": [],
   "source": [
    "reg_tree = DecisionTree(max_depth=2, treetype=\"regression\", random_state=42)\n",
    "reg_tree.fit(X_train, y_train)"
   ]
  },
  {
   "cell_type": "code",
   "execution_count": 321,
   "id": "627bdc9a",
   "metadata": {},
   "outputs": [
    {
     "data": {
      "text/plain": [
       "[153.73654390934846,\n",
       " 118.04306220095694,\n",
       " 100.5592105263158,\n",
       " 164.66666666666666,\n",
       " 205.54166666666666,\n",
       " 191.10169491525423,\n",
       " 271.0769230769231]"
      ]
     },
     "execution_count": 321,
     "metadata": {},
     "output_type": "execute_result"
    }
   ],
   "source": [
    "[node.value for node in reg_tree.node_list]"
   ]
  },
  {
   "cell_type": "code",
   "execution_count": 322,
   "id": "0165ee3a",
   "metadata": {},
   "outputs": [],
   "source": [
    "traversed_nodes = reg_tree.explain_decision_path(X_train)[:,0].copy()"
   ]
  },
  {
   "cell_type": "code",
   "execution_count": 323,
   "id": "ce071236",
   "metadata": {},
   "outputs": [],
   "source": [
    "y_vals_array = np.full((reg_tree.n_nodes, X_train.shape[0]), np.nan)"
   ]
  },
  {
   "cell_type": "code",
   "execution_count": 324,
   "id": "83328e0d",
   "metadata": {},
   "outputs": [],
   "source": [
    "for i, (idxs, y) in enumerate(zip(traversed_nodes, y_train.values)):\n",
    "    y_vals_array[list(idxs),[i]] = y"
   ]
  },
  {
   "cell_type": "code",
   "execution_count": 325,
   "id": "6cde92e9",
   "metadata": {},
   "outputs": [
    {
     "data": {
      "text/plain": [
       "array([[144., 150., 280., ..., 148.,  64., 302.],\n",
       "       [ nan, 150.,  nan, ..., 148.,  64.,  nan],\n",
       "       [ nan, 150.,  nan, ..., 148.,  64.,  nan],\n",
       "       ...,\n",
       "       [144.,  nan, 280., ...,  nan,  nan, 302.],\n",
       "       [144.,  nan, 280., ...,  nan,  nan, 302.],\n",
       "       [ nan,  nan,  nan, ...,  nan,  nan,  nan]])"
      ]
     },
     "execution_count": 325,
     "metadata": {},
     "output_type": "execute_result"
    }
   ],
   "source": [
    "y_vals_array"
   ]
  },
  {
   "cell_type": "code",
   "execution_count": 326,
   "id": "aa27e418",
   "metadata": {},
   "outputs": [
    {
     "data": {
      "text/plain": [
       "array([False, False, False, False, False, False, False])"
      ]
     },
     "execution_count": 326,
     "metadata": {},
     "output_type": "execute_result"
    }
   ],
   "source": [
    "# Check if one of the nodes only contains nan values -> no observation reached this node\n",
    "np.isnan(y_vals_array.all(axis=1))"
   ]
  },
  {
   "cell_type": "code",
   "execution_count": 327,
   "id": "29861506",
   "metadata": {},
   "outputs": [
    {
     "data": {
      "text/plain": [
       "array([153.73654391, 118.0430622 , 100.55921053, 164.66666667,\n",
       "       205.54166667, 191.10169492, 271.07692308])"
      ]
     },
     "execution_count": 327,
     "metadata": {},
     "output_type": "execute_result"
    }
   ],
   "source": [
    "#calculate mean value per node \n",
    "np.nanmean(y_vals_array, axis=1)"
   ]
  },
  {
   "cell_type": "code",
   "execution_count": 328,
   "id": "8070a745",
   "metadata": {},
   "outputs": [],
   "source": [
    "#Check if node values train are equal to newly calculated node values (should be the case since we are only passing training data)\n",
    "assert np.round([node.value for node in reg_tree.node_list],8).all() == np.nanmean(y_vals_array, axis=1).all()"
   ]
  },
  {
   "cell_type": "markdown",
   "id": "2411865a",
   "metadata": {},
   "source": [
    "Lets calculate the node values based on the test set"
   ]
  },
  {
   "cell_type": "code",
   "execution_count": 329,
   "id": "32edc818",
   "metadata": {},
   "outputs": [],
   "source": [
    "traversed_nodes_test = reg_tree.explain_decision_path(X_test)[:,0].copy()"
   ]
  },
  {
   "cell_type": "code",
   "execution_count": 330,
   "id": "02fd713d",
   "metadata": {},
   "outputs": [],
   "source": [
    "y_vals_array_test = np.full((reg_tree.n_nodes, X_test.shape[0]), np.nan)"
   ]
  },
  {
   "cell_type": "code",
   "execution_count": 331,
   "id": "d8d3b08b",
   "metadata": {},
   "outputs": [],
   "source": [
    "for i, (idxs, y) in enumerate(zip(traversed_nodes_test, y_test.values)):\n",
    "    y_vals_array_test[list(idxs),[i]] = y"
   ]
  },
  {
   "cell_type": "code",
   "execution_count": 332,
   "id": "831dcd37",
   "metadata": {},
   "outputs": [
    {
     "data": {
      "text/plain": [
       "array([False, False, False, False, False, False, False])"
      ]
     },
     "execution_count": 332,
     "metadata": {},
     "output_type": "execute_result"
    }
   ],
   "source": [
    "# Check if one of the nodes only contains nan values -> no observation reached this node\n",
    "np.isnan(y_vals_array_test.all(axis=1))"
   ]
  },
  {
   "cell_type": "code",
   "execution_count": 333,
   "id": "58298591",
   "metadata": {},
   "outputs": [
    {
     "data": {
      "text/plain": [
       "array([145.7752809 , 123.07142857,  98.97222222, 166.45      ,\n",
       "       184.3030303 , 179.4137931 , 219.75      ])"
      ]
     },
     "execution_count": 333,
     "metadata": {},
     "output_type": "execute_result"
    }
   ],
   "source": [
    "#calculate mean value per node \n",
    "node_vals_test = np.nanmean(y_vals_array_test, axis=1)\n",
    "node_vals_test"
   ]
  },
  {
   "cell_type": "code",
   "execution_count": 334,
   "id": "535b0585",
   "metadata": {},
   "outputs": [],
   "source": [
    "orig_node_vals = np.round([node.value for node in reg_tree.node_list],8)"
   ]
  },
  {
   "cell_type": "code",
   "execution_count": 335,
   "id": "63d18ebd",
   "metadata": {},
   "outputs": [
    {
     "data": {
      "text/plain": [
       "array([ 7.96126301, -5.02836637,  1.58698831, -1.78333333, 21.23863637,\n",
       "       11.68790182, 51.32692308])"
      ]
     },
     "execution_count": 335,
     "metadata": {},
     "output_type": "execute_result"
    }
   ],
   "source": [
    "# Difference between original node values and node values based on test set\n",
    "orig_node_vals -node_vals_test"
   ]
  },
  {
   "cell_type": "code",
   "execution_count": 336,
   "id": "56032c59",
   "metadata": {},
   "outputs": [],
   "source": [
    "n_samples = np.count_nonzero(~np.isnan(y_vals_array_test), axis=1)"
   ]
  },
  {
   "cell_type": "code",
   "execution_count": 337,
   "id": "7df0e840",
   "metadata": {},
   "outputs": [],
   "source": [
    "#store regression results in dict \n",
    "res = {}\n",
    "node_vals = np.nanmean(y_vals_array_test, axis=1)\n",
    "n_samples = np.count_nonzero(~np.isnan(y_vals_array_test), axis=1)\n",
    "\n",
    "for i in range(y_vals_array_test.shape[0]):\n",
    "    \n",
    "    res[i]={\"samples\": n_samples[i],\n",
    "            \"value\": node_vals[i]\n",
    "           }"
   ]
  },
  {
   "cell_type": "code",
   "execution_count": 338,
   "id": "b1791f53",
   "metadata": {},
   "outputs": [
    {
     "data": {
      "text/plain": [
       "{0: {'samples': 89, 'value': 145.77528089887642},\n",
       " 1: {'samples': 56, 'value': 123.07142857142857},\n",
       " 2: {'samples': 36, 'value': 98.97222222222223},\n",
       " 3: {'samples': 20, 'value': 166.45},\n",
       " 4: {'samples': 33, 'value': 184.3030303030303},\n",
       " 5: {'samples': 29, 'value': 179.41379310344828},\n",
       " 6: {'samples': 4, 'value': 219.75}}"
      ]
     },
     "execution_count": 338,
     "metadata": {},
     "output_type": "execute_result"
    }
   ],
   "source": [
    "res"
   ]
  },
  {
   "cell_type": "markdown",
   "id": "2454f479",
   "metadata": {},
   "source": [
    "### Test implemented class function"
   ]
  },
  {
   "cell_type": "code",
   "execution_count": 339,
   "id": "1bc574db",
   "metadata": {},
   "outputs": [],
   "source": [
    "node_vals_train, result = reg_tree._reestimate_node_values(X_train, y_train)"
   ]
  },
  {
   "cell_type": "code",
   "execution_count": 340,
   "id": "5c6eea71",
   "metadata": {},
   "outputs": [
    {
     "data": {
      "text/plain": [
       "array([153.73654391, 118.0430622 , 100.55921053, 164.66666667,\n",
       "       205.54166667, 191.10169492, 271.07692308])"
      ]
     },
     "execution_count": 340,
     "metadata": {},
     "output_type": "execute_result"
    }
   ],
   "source": [
    "node_vals_train"
   ]
  },
  {
   "cell_type": "code",
   "execution_count": 342,
   "id": "acd46787",
   "metadata": {},
   "outputs": [],
   "source": [
    "orig_node_vals = np.array([node.value for node in reg_tree.node_list])"
   ]
  },
  {
   "cell_type": "code",
   "execution_count": 354,
   "id": "5ced4a25",
   "metadata": {},
   "outputs": [
    {
     "data": {
      "text/plain": [
       "True"
      ]
     },
     "execution_count": 354,
     "metadata": {},
     "output_type": "execute_result"
    }
   ],
   "source": [
    "np.array_equal(node_vals_train, orig_node_vals)"
   ]
  },
  {
   "cell_type": "markdown",
   "id": "6fa70973",
   "metadata": {},
   "source": [
    "Works :) "
   ]
  },
  {
   "cell_type": "code",
   "execution_count": 344,
   "id": "b0559b44",
   "metadata": {},
   "outputs": [],
   "source": [
    "node_vals_test, result_test = reg_tree._reestimate_node_values(X_test, y_test)"
   ]
  },
  {
   "cell_type": "code",
   "execution_count": 346,
   "id": "467708bd",
   "metadata": {},
   "outputs": [
    {
     "data": {
      "text/plain": [
       "array([145.7752809 , 123.07142857,  98.97222222, 166.45      ,\n",
       "       184.3030303 , 179.4137931 , 219.75      ])"
      ]
     },
     "execution_count": 346,
     "metadata": {},
     "output_type": "execute_result"
    }
   ],
   "source": [
    "node_vals_test"
   ]
  },
  {
   "cell_type": "code",
   "execution_count": 347,
   "id": "fe86e867",
   "metadata": {},
   "outputs": [
    {
     "data": {
      "text/plain": [
       "array([153.73654391, 118.0430622 , 100.55921053, 164.66666667,\n",
       "       205.54166667, 191.10169492, 271.07692308])"
      ]
     },
     "execution_count": 347,
     "metadata": {},
     "output_type": "execute_result"
    }
   ],
   "source": [
    "orig_node_vals"
   ]
  },
  {
   "cell_type": "code",
   "execution_count": 353,
   "id": "7b587684",
   "metadata": {},
   "outputs": [
    {
     "data": {
      "text/plain": [
       "False"
      ]
     },
     "execution_count": 353,
     "metadata": {},
     "output_type": "execute_result"
    }
   ],
   "source": [
    "# This should not be equal\n",
    "np.array_equal(node_vals_test, orig_node_vals)"
   ]
  },
  {
   "cell_type": "code",
   "execution_count": 355,
   "id": "32691b2d",
   "metadata": {},
   "outputs": [
    {
     "data": {
      "text/plain": [
       "array([ 7.96126301, -5.02836637,  1.5869883 , -1.78333333, 21.23863636,\n",
       "       11.68790181, 51.32692308])"
      ]
     },
     "execution_count": 355,
     "metadata": {},
     "output_type": "execute_result"
    }
   ],
   "source": [
    "# show difference\n",
    "orig_node_vals-node_vals_test"
   ]
  },
  {
   "cell_type": "markdown",
   "id": "85871d46",
   "metadata": {},
   "source": [
    "## Classification"
   ]
  },
  {
   "cell_type": "code",
   "execution_count": 263,
   "id": "fc73c2ee",
   "metadata": {},
   "outputs": [],
   "source": [
    "# Load data\n",
    "X, y = datasets.load_breast_cancer(return_X_y=True, as_frame=True)\n",
    "\n",
    "# Train test split\n",
    "X_train, X_test, y_train, y_test = train_test_split(X, y, test_size=0.2, random_state=42)"
   ]
  },
  {
   "cell_type": "code",
   "execution_count": 264,
   "id": "14b97ca0",
   "metadata": {},
   "outputs": [],
   "source": [
    "clf_tree = DecisionTree(max_depth=2, treetype=\"classification\", random_state=42)\n",
    "clf_tree.fit(X_train, y_train)"
   ]
  },
  {
   "cell_type": "code",
   "execution_count": 265,
   "id": "acf4161c",
   "metadata": {},
   "outputs": [
    {
     "data": {
      "text/plain": [
       "[1, 1, 1, 0, 0, 1, 0]"
      ]
     },
     "execution_count": 265,
     "metadata": {},
     "output_type": "execute_result"
    }
   ],
   "source": [
    "[node.value for node in clf_tree.node_list]"
   ]
  },
  {
   "cell_type": "code",
   "execution_count": 266,
   "id": "4a7262df",
   "metadata": {},
   "outputs": [],
   "source": [
    "traversed_nodes = clf_tree.explain_decision_path(X_train)[:,0].copy()"
   ]
  },
  {
   "cell_type": "code",
   "execution_count": 267,
   "id": "4d5d1bb5",
   "metadata": {},
   "outputs": [],
   "source": [
    "y_vals_array = np.full((clf_tree.n_nodes, X_train.shape[0]), np.nan)"
   ]
  },
  {
   "cell_type": "code",
   "execution_count": 268,
   "id": "f8e91bc6",
   "metadata": {},
   "outputs": [],
   "source": [
    "for i, (idxs, y) in enumerate(zip(traversed_nodes, y_train.values)):\n",
    "    y_vals_array[list(idxs),[i]] = y"
   ]
  },
  {
   "cell_type": "code",
   "execution_count": 269,
   "id": "0cf8d71d",
   "metadata": {},
   "outputs": [
    {
     "data": {
      "text/plain": [
       "array([[ 1.,  0.,  1., ...,  1.,  0.,  1.],\n",
       "       [ 1., nan,  1., ...,  1., nan,  1.],\n",
       "       [ 1., nan,  1., ...,  1., nan,  1.],\n",
       "       ...,\n",
       "       [nan,  0., nan, ..., nan,  0., nan],\n",
       "       [nan, nan, nan, ..., nan, nan, nan],\n",
       "       [nan,  0., nan, ..., nan,  0., nan]])"
      ]
     },
     "execution_count": 269,
     "metadata": {},
     "output_type": "execute_result"
    }
   ],
   "source": [
    "y_vals_array"
   ]
  },
  {
   "cell_type": "code",
   "execution_count": 270,
   "id": "4d549e75",
   "metadata": {},
   "outputs": [],
   "source": [
    "#store classification results in dict \n",
    "res = {}\n",
    "\n",
    "for i in range(y_vals_array.shape[0]):\n",
    "    \n",
    "    val, cnts = np.unique(y_vals_array[i,:], return_counts=True)\n",
    "    counts = {k: v for k, v in zip(val, cnts)}\n",
    "    \n",
    "    clf_value_dis = [counts.get(0) or 0, counts.get(1) or 0]\n",
    "    n_samples = np.sum(clf_value_dis)\n",
    "    \n",
    "    clf_prob_dis = (np.array(clf_value_dis) / n_samples)\n",
    "    leaf_value = np.argmax(clf_prob_dis)\n",
    "    \n",
    "    res[i]={\"samples\": n_samples,\n",
    "            \"value\": leaf_value,\n",
    "            \"value_distribution\": clf_value_dis,\n",
    "            \"prob_distribution\": clf_prob_dis\n",
    "           }"
   ]
  },
  {
   "cell_type": "code",
   "execution_count": 271,
   "id": "ca6a1dd7",
   "metadata": {},
   "outputs": [
    {
     "data": {
      "text/plain": [
       "{0: {'samples': 455,\n",
       "  'value': 1,\n",
       "  'value_distribution': [169, 286],\n",
       "  'prob_distribution': array([0.37142857, 0.62857143])},\n",
       " 1: {'samples': 282,\n",
       "  'value': 1,\n",
       "  'value_distribution': [16, 266],\n",
       "  'prob_distribution': array([0.05673759, 0.94326241])},\n",
       " 2: {'samples': 263,\n",
       "  'value': 1,\n",
       "  'value_distribution': [5, 258],\n",
       "  'prob_distribution': array([0.01901141, 0.98098859])},\n",
       " 3: {'samples': 19,\n",
       "  'value': 0,\n",
       "  'value_distribution': [11, 8],\n",
       "  'prob_distribution': array([0.57894737, 0.42105263])},\n",
       " 4: {'samples': 173,\n",
       "  'value': 0,\n",
       "  'value_distribution': [153, 20],\n",
       "  'prob_distribution': array([0.88439306, 0.11560694])},\n",
       " 5: {'samples': 35,\n",
       "  'value': 1,\n",
       "  'value_distribution': [17, 18],\n",
       "  'prob_distribution': array([0.48571429, 0.51428571])},\n",
       " 6: {'samples': 138,\n",
       "  'value': 0,\n",
       "  'value_distribution': [136, 2],\n",
       "  'prob_distribution': array([0.98550725, 0.01449275])}}"
      ]
     },
     "execution_count": 271,
     "metadata": {},
     "output_type": "execute_result"
    }
   ],
   "source": [
    "res"
   ]
  },
  {
   "cell_type": "code",
   "execution_count": 272,
   "id": "d751067c",
   "metadata": {},
   "outputs": [
    {
     "data": {
      "text/plain": [
       "array([False, False, False, False, False, False, False])"
      ]
     },
     "execution_count": 272,
     "metadata": {},
     "output_type": "execute_result"
    }
   ],
   "source": [
    "# Check if one of the nodes only contains nan values -> no observation reached this node\n",
    "np.isnan(y_vals_array.all(axis=1))"
   ]
  },
  {
   "cell_type": "code",
   "execution_count": 273,
   "id": "48ec04f9",
   "metadata": {},
   "outputs": [
    {
     "data": {
      "text/plain": [
       "array([0.62857143, 0.94326241, 0.98098859, 0.42105263, 0.11560694,\n",
       "       0.51428571, 0.01449275])"
      ]
     },
     "execution_count": 273,
     "metadata": {},
     "output_type": "execute_result"
    }
   ],
   "source": [
    "#calculate mean value per node \n",
    "np.nanmean(y_vals_array, axis=1)"
   ]
  },
  {
   "cell_type": "code",
   "execution_count": 274,
   "id": "b569becb",
   "metadata": {},
   "outputs": [
    {
     "data": {
      "text/plain": [
       "[(0.37142857142857144, 0.6285714285714286),\n",
       " (0.05673758865248224, 0.9432624113475178),\n",
       " (0.019011406844106515, 0.9809885931558935),\n",
       " (0.5789473684210527, 0.42105263157894735),\n",
       " (0.8843930635838151, 0.11560693641618497),\n",
       " (0.48571428571428577, 0.5142857142857142),\n",
       " (0.9855072463768116, 0.014492753623188406)]"
      ]
     },
     "execution_count": 274,
     "metadata": {},
     "output_type": "execute_result"
    }
   ],
   "source": [
    "# get probabilities for each class p. node (binary classification)\n",
    "[(1-val, val) for val in np.nanmean(y_vals_array, axis=1)]"
   ]
  },
  {
   "cell_type": "code",
   "execution_count": 286,
   "id": "5ee255e0",
   "metadata": {},
   "outputs": [],
   "source": [
    "#Check if node prob distribution are equal to newly calculated node values (should be the case since we are only passing training data)\n",
    "assert np.round([node.clf_prob_dis for node in clf_tree.node_list],8).all() == np.array([(1-val, val) for val in np.nanmean(y_vals_array, axis=1)]).all()"
   ]
  },
  {
   "cell_type": "markdown",
   "id": "7b9fd9b6",
   "metadata": {},
   "source": [
    "Lets calculate the node values based on the test set"
   ]
  },
  {
   "cell_type": "code",
   "execution_count": 293,
   "id": "300e2f7c",
   "metadata": {},
   "outputs": [],
   "source": [
    "traversed_nodes_test = clf_tree.explain_decision_path(X_test)[:,0].copy()"
   ]
  },
  {
   "cell_type": "code",
   "execution_count": 294,
   "id": "54da51e6",
   "metadata": {},
   "outputs": [],
   "source": [
    "y_vals_array_test = np.full((clf_tree.n_nodes, X_test.shape[0]), np.nan)"
   ]
  },
  {
   "cell_type": "code",
   "execution_count": 295,
   "id": "ba17eb4e",
   "metadata": {},
   "outputs": [],
   "source": [
    "for i, (idxs, y) in enumerate(zip(traversed_nodes_test, y_test.values)):\n",
    "    y_vals_array_test[list(idxs),[i]] = y"
   ]
  },
  {
   "cell_type": "code",
   "execution_count": 296,
   "id": "304c3750",
   "metadata": {},
   "outputs": [
    {
     "data": {
      "text/plain": [
       "array([False, False, False, False, False, False, False])"
      ]
     },
     "execution_count": 296,
     "metadata": {},
     "output_type": "execute_result"
    }
   ],
   "source": [
    "# Check if one of the nodes only contains nan values -> no observation reached this node\n",
    "np.isnan(y_vals_array_test.all(axis=1))"
   ]
  },
  {
   "cell_type": "code",
   "execution_count": 297,
   "id": "2fd84772",
   "metadata": {},
   "outputs": [
    {
     "data": {
      "text/plain": [
       "array([0.62280702, 0.94029851, 0.96923077, 0.        , 0.17021277,\n",
       "       0.6       , 0.05405405])"
      ]
     },
     "execution_count": 297,
     "metadata": {},
     "output_type": "execute_result"
    }
   ],
   "source": [
    "#calculate mean value per node \n",
    "node_vals_test = np.nanmean(y_vals_array_test, axis=1)\n",
    "node_vals_test"
   ]
  },
  {
   "cell_type": "code",
   "execution_count": 299,
   "id": "a49ea442",
   "metadata": {},
   "outputs": [],
   "source": [
    "# probabilities for class 1\n",
    "orig_node_vals = np.round([node.clf_prob_dis[1] for node in clf_tree.node_list],8)"
   ]
  },
  {
   "cell_type": "code",
   "execution_count": 300,
   "id": "688e09c4",
   "metadata": {},
   "outputs": [
    {
     "data": {
      "text/plain": [
       "array([ 0.00576441,  0.0029639 ,  0.01175782,  0.42105263, -0.05460583,\n",
       "       -0.08571429, -0.0395613 ])"
      ]
     },
     "execution_count": 300,
     "metadata": {},
     "output_type": "execute_result"
    }
   ],
   "source": [
    "# Difference between original node values and node values based on test set\n",
    "orig_node_vals -node_vals_test"
   ]
  },
  {
   "cell_type": "markdown",
   "id": "5d1d31a0",
   "metadata": {},
   "source": [
    "### Test implemented class function"
   ]
  },
  {
   "cell_type": "code",
   "execution_count": 310,
   "id": "3b29ec0a",
   "metadata": {},
   "outputs": [
    {
     "name": "stderr",
     "output_type": "stream",
     "text": [
      "\"is not\" with a literal. Did you mean \"!=\"?\n"
     ]
    }
   ],
   "source": [
    "node_probs_train, result = clf_tree._reestimate_node_values(X_train, y_train)"
   ]
  },
  {
   "cell_type": "code",
   "execution_count": 311,
   "id": "84f4cf0a",
   "metadata": {},
   "outputs": [
    {
     "data": {
      "text/plain": [
       "array([[0.37142857, 0.62857143],\n",
       "       [0.05673759, 0.94326241],\n",
       "       [0.01901141, 0.98098859],\n",
       "       [0.57894737, 0.42105263],\n",
       "       [0.88439306, 0.11560694],\n",
       "       [0.48571429, 0.51428571],\n",
       "       [0.98550725, 0.01449275]])"
      ]
     },
     "execution_count": 311,
     "metadata": {},
     "output_type": "execute_result"
    }
   ],
   "source": [
    "node_probs_train"
   ]
  },
  {
   "cell_type": "code",
   "execution_count": 306,
   "id": "2bc56ffb",
   "metadata": {},
   "outputs": [],
   "source": [
    "orig_node_probs = np.array([node.clf_prob_dis for node in clf_tree.node_list])"
   ]
  },
  {
   "cell_type": "code",
   "execution_count": 315,
   "id": "bebcfab7",
   "metadata": {},
   "outputs": [],
   "source": [
    "assert node_probs_train.all() == orig_node_probs.all()"
   ]
  },
  {
   "cell_type": "markdown",
   "id": "6f71b13a",
   "metadata": {},
   "source": [
    "Works :) "
   ]
  },
  {
   "cell_type": "code",
   "execution_count": 316,
   "id": "f4e302a0",
   "metadata": {},
   "outputs": [],
   "source": [
    "node_probs_test, result_test = clf_tree._reestimate_node_values(X_test, y_test)"
   ]
  },
  {
   "cell_type": "code",
   "execution_count": 317,
   "id": "c7c6327c",
   "metadata": {},
   "outputs": [
    {
     "ename": "AssertionError",
     "evalue": "",
     "output_type": "error",
     "traceback": [
      "\u001b[0;31m---------------------------------------------------------------------------\u001b[0m",
      "\u001b[0;31mAssertionError\u001b[0m                            Traceback (most recent call last)",
      "Cell \u001b[0;32mIn [317], line 2\u001b[0m\n\u001b[1;32m      1\u001b[0m \u001b[38;5;66;03m# This should not be equal\u001b[39;00m\n\u001b[0;32m----> 2\u001b[0m \u001b[38;5;28;01massert\u001b[39;00m node_probs_test\u001b[38;5;241m.\u001b[39mall() \u001b[38;5;241m==\u001b[39m orig_node_probs\u001b[38;5;241m.\u001b[39mall()\n",
      "\u001b[0;31mAssertionError\u001b[0m: "
     ]
    }
   ],
   "source": [
    "# This should not be equal\n",
    "assert node_probs_test.all() == orig_node_probs.all()"
   ]
  },
  {
   "cell_type": "code",
   "execution_count": 318,
   "id": "a1f6939b",
   "metadata": {},
   "outputs": [
    {
     "data": {
      "text/plain": [
       "array([[-0.00576441,  0.00576441],\n",
       "       [-0.0029639 ,  0.0029639 ],\n",
       "       [-0.01175782,  0.01175782],\n",
       "       [-0.42105263,  0.42105263],\n",
       "       [ 0.05460583, -0.05460583],\n",
       "       [ 0.08571429, -0.08571429],\n",
       "       [ 0.0395613 , -0.0395613 ]])"
      ]
     },
     "execution_count": 318,
     "metadata": {},
     "output_type": "execute_result"
    }
   ],
   "source": [
    "# show difference\n",
    "orig_node_probs-node_probs_test"
   ]
  }
 ],
 "metadata": {
  "kernelspec": {
   "display_name": "Python 3 (ipykernel)",
   "language": "python",
   "name": "python3"
  },
  "language_info": {
   "codemirror_mode": {
    "name": "ipython",
    "version": 3
   },
   "file_extension": ".py",
   "mimetype": "text/x-python",
   "name": "python",
   "nbconvert_exporter": "python",
   "pygments_lexer": "ipython3",
   "version": "3.10.6"
  },
  "toc": {
   "base_numbering": 1,
   "nav_menu": {},
   "number_sections": true,
   "sideBar": true,
   "skip_h1_title": false,
   "title_cell": "Table of Contents",
   "title_sidebar": "Contents",
   "toc_cell": false,
   "toc_position": {},
   "toc_section_display": true,
   "toc_window_display": false
  }
 },
 "nbformat": 4,
 "nbformat_minor": 5
}
