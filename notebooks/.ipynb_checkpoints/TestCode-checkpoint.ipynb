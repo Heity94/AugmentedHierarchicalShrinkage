{
 "cells": [
  {
   "cell_type": "code",
   "execution_count": 4,
   "id": "ff178a76",
   "metadata": {},
   "outputs": [
    {
     "name": "stdout",
     "output_type": "stream",
     "text": [
      "The autoreload extension is already loaded. To reload it, use:\n",
      "  %reload_ext autoreload\n"
     ]
    }
   ],
   "source": [
    "%load_ext autoreload\n",
    "%autoreload 2"
   ]
  },
  {
   "cell_type": "code",
   "execution_count": 296,
   "id": "f3ba2b47",
   "metadata": {},
   "outputs": [],
   "source": [
    "#Import Random Forest from scratch functions\n",
    "import sys\n",
    "import os\n",
    "\n",
    "module_path = os.path.abspath(os.path.join('..'))\n",
    "if module_path not in sys.path:\n",
    "    sys.path.append(module_path)\n",
    "\n",
    "from DecisionTree import DecisionTree, ClassificationTree\n",
    "from RandomForest import RandomForest"
   ]
  },
  {
   "cell_type": "code",
   "execution_count": 47,
   "id": "9593ff46",
   "metadata": {},
   "outputs": [],
   "source": [
    "import numpy as np\n",
    "import pandas as pd\n",
    "from sklearn.tree import DecisionTreeClassifier"
   ]
  },
  {
   "cell_type": "markdown",
   "id": "c4f7c698",
   "metadata": {},
   "source": [
    "# Data"
   ]
  },
  {
   "cell_type": "code",
   "execution_count": 625,
   "id": "16b9f3fc",
   "metadata": {},
   "outputs": [],
   "source": [
    "# Load data\n",
    "data = datasets.load_breast_cancer()\n",
    "X = pd.DataFrame(data.data, columns=data.feature_names)\n",
    "y = data.target\n",
    "\n",
    "# Train test split\n",
    "X_train, X_test, y_train, y_test = train_test_split(X, y, test_size=0.2, random_state=1234)"
   ]
  },
  {
   "cell_type": "code",
   "execution_count": 177,
   "id": "ec414aa9",
   "metadata": {},
   "outputs": [],
   "source": [
    "def accuracy(y_true, y_pred):\n",
    "    accuracy = np.sum(y_true == y_pred) / len(y_true)\n",
    "    return accuracy"
   ]
  },
  {
   "cell_type": "markdown",
   "id": "9a6164d2",
   "metadata": {},
   "source": [
    "# Decision Tree from Scratch"
   ]
  },
  {
   "cell_type": "code",
   "execution_count": 639,
   "id": "087cd9f4",
   "metadata": {},
   "outputs": [],
   "source": [
    "# Train DecisionTree from scratch\n",
    "clf_tree = DecisionTree(max_depth=2, k=1, min_samples_split=200)\n",
    "clf_tree.fit(X_train.values, y_train)\n",
    "\n",
    "# Predict\n",
    "predictions = clf_tree.predict(X_test)"
   ]
  },
  {
   "cell_type": "code",
   "execution_count": 640,
   "id": "bee95851",
   "metadata": {},
   "outputs": [
    {
     "data": {
      "text/plain": [
       "0.9210526315789473"
      ]
     },
     "execution_count": 640,
     "metadata": {},
     "output_type": "execute_result"
    }
   ],
   "source": [
    "acc = accuracy(y_test, predictions)\n",
    "acc"
   ]
  },
  {
   "cell_type": "code",
   "execution_count": 641,
   "id": "24431c53",
   "metadata": {},
   "outputs": [
    {
     "data": {
      "text/plain": [
       "[<DecisionTree.Node at 0x12fe274f0>,\n",
       " <DecisionTree.Node at 0x12fe27490>,\n",
       " <DecisionTree.Node at 0x12fcec2e0>,\n",
       " <DecisionTree.Node at 0x12fe27460>,\n",
       " <DecisionTree.Node at 0x12fe270a0>]"
      ]
     },
     "execution_count": 641,
     "metadata": {},
     "output_type": "execute_result"
    }
   ],
   "source": [
    "clf_tree.node_list"
   ]
  },
  {
   "cell_type": "code",
   "execution_count": 642,
   "id": "5e772806",
   "metadata": {},
   "outputs": [
    {
     "data": {
      "text/plain": [
       "[(0, 1, 2), (0, 1, 3), (0, 4)]"
      ]
     },
     "execution_count": 642,
     "metadata": {},
     "output_type": "execute_result"
    }
   ],
   "source": [
    "clf_tree.decision_paths"
   ]
  },
  {
   "cell_type": "code",
   "execution_count": 643,
   "id": "9b4d91b7",
   "metadata": {},
   "outputs": [
    {
     "data": {
      "text/plain": [
       "['0->1->2', '0->1->3', '0->4']"
      ]
     },
     "execution_count": 643,
     "metadata": {},
     "output_type": "execute_result"
    }
   ],
   "source": [
    "clf_tree.decision_paths_str"
   ]
  },
  {
   "cell_type": "code",
   "execution_count": 644,
   "id": "0986fdfc",
   "metadata": {},
   "outputs": [
    {
     "data": {
      "text/plain": [
       "{0: {'node': <DecisionTree.Node at 0x12fe274f0>,\n",
       "  'id': 0,\n",
       "  'depth': 0,\n",
       "  'feature': 27,\n",
       "  'is_leaf_node': False,\n",
       "  'threshold': 0.1417,\n",
       "  'gini': 0.4656629713898436,\n",
       "  'samples': 455,\n",
       "  'value': 1},\n",
       " 1: {'node': <DecisionTree.Node at 0x12fe27490>,\n",
       "  'id': 1,\n",
       "  'depth': 1,\n",
       "  'feature': 23,\n",
       "  'is_leaf_node': False,\n",
       "  'threshold': 957.45,\n",
       "  'gini': 0.14161683277962347,\n",
       "  'samples': 301,\n",
       "  'value': 1},\n",
       " 2: {'node': <DecisionTree.Node at 0x12fcec2e0>,\n",
       "  'id': 2,\n",
       "  'depth': 2,\n",
       "  'feature': None,\n",
       "  'is_leaf_node': True,\n",
       "  'threshold': None,\n",
       "  'gini': 0.04858534615481677,\n",
       "  'samples': 282,\n",
       "  'value': 1},\n",
       " 3: {'node': <DecisionTree.Node at 0x12fe27460>,\n",
       "  'id': 3,\n",
       "  'depth': 2,\n",
       "  'feature': None,\n",
       "  'is_leaf_node': True,\n",
       "  'threshold': None,\n",
       "  'gini': 0.28070175438596506,\n",
       "  'samples': 19,\n",
       "  'value': 0},\n",
       " 4: {'node': <DecisionTree.Node at 0x12fe270a0>,\n",
       "  'id': 4,\n",
       "  'depth': 1,\n",
       "  'feature': None,\n",
       "  'is_leaf_node': True,\n",
       "  'threshold': None,\n",
       "  'gini': 0.12223071046600464,\n",
       "  'samples': 154,\n",
       "  'value': 0}}"
      ]
     },
     "execution_count": 644,
     "metadata": {},
     "output_type": "execute_result"
    }
   ],
   "source": [
    "clf_tree.node_id_dict"
   ]
  },
  {
   "cell_type": "code",
   "execution_count": null,
   "id": "40978abb",
   "metadata": {},
   "outputs": [],
   "source": []
  },
  {
   "cell_type": "code",
   "execution_count": 404,
   "id": "06b427ae",
   "metadata": {},
   "outputs": [],
   "source": [
    "# Filter for leaf nodes \n",
    "number_of_leafs = len([[node.id, node] for node in clf_tree.node_list if node.is_leaf_node()==True])\n",
    "\n"
   ]
  },
  {
   "cell_type": "code",
   "execution_count": 405,
   "id": "dccae91a",
   "metadata": {},
   "outputs": [],
   "source": [
    "def number_nodes(node, number_leafs, counter=0):\n",
    "    while number_leafs>=0:\n",
    "        node.id = counter\n",
    "        counter+=1\n",
    "\n",
    "        if node.is_leaf_node():\n",
    "            number_leafs-=1\n",
    "            continue\n",
    "        number_nodes(node.left, number_leafs, counter=counter)\n",
    "        #number_nodes(node.right, number_leafs, counter=counter)\n"
   ]
  },
  {
   "cell_type": "code",
   "execution_count": 424,
   "id": "c27ccaf5",
   "metadata": {},
   "outputs": [
    {
     "data": {
      "text/plain": [
       "[(0, 3, 1), (0, 3, 2), (0, 6, 4), (0, 6, 5)]"
      ]
     },
     "execution_count": 424,
     "metadata": {},
     "output_type": "execute_result"
    }
   ],
   "source": [
    "clf_tree.get_decision_paths()"
   ]
  },
  {
   "cell_type": "code",
   "execution_count": null,
   "id": "6ff478dc",
   "metadata": {},
   "outputs": [],
   "source": [
    "clf_tree"
   ]
  },
  {
   "cell_type": "code",
   "execution_count": 399,
   "id": "8bc330bb",
   "metadata": {},
   "outputs": [
    {
     "data": {
      "text/plain": [
       "{0: {'node': <DecisionTree.Node at 0x12ee71b70>,\n",
       "  'id': 0,\n",
       "  'depth': 0,\n",
       "  'feature': 'worst concave points',\n",
       "  'is_leaf_node': False,\n",
       "  'threshold': 0.1417,\n",
       "  'gini': 0.4646395362878879,\n",
       "  'samples': 455,\n",
       "  'value': 1},\n",
       " 6: {'node': <DecisionTree.Node at 0x12ee736d0>,\n",
       "  'id': 6,\n",
       "  'depth': 1,\n",
       "  'feature': 'worst area',\n",
       "  'is_leaf_node': False,\n",
       "  'threshold': 686.45,\n",
       "  'gini': 0.12143700455388773,\n",
       "  'samples': 154,\n",
       "  'value': 0},\n",
       " 5: {'node': <DecisionTree.Node at 0x12ee71d80>,\n",
       "  'id': 5,\n",
       "  'depth': 2,\n",
       "  'feature': None,\n",
       "  'is_leaf_node': True,\n",
       "  'threshold': None,\n",
       "  'gini': 0.04079861111111116,\n",
       "  'samples': 144,\n",
       "  'value': 0},\n",
       " 4: {'node': <DecisionTree.Node at 0x12ee73550>,\n",
       "  'id': 4,\n",
       "  'depth': 2,\n",
       "  'feature': None,\n",
       "  'is_leaf_node': True,\n",
       "  'threshold': None,\n",
       "  'gini': 0.42000000000000004,\n",
       "  'samples': 10,\n",
       "  'value': 1},\n",
       " 3: {'node': <DecisionTree.Node at 0x12ee71ab0>,\n",
       "  'id': 3,\n",
       "  'depth': 1,\n",
       "  'feature': 'worst area',\n",
       "  'is_leaf_node': False,\n",
       "  'threshold': 957.45,\n",
       "  'gini': 0.14114634496307987,\n",
       "  'samples': 301,\n",
       "  'value': 1},\n",
       " 2: {'node': <DecisionTree.Node at 0x12ee71e70>,\n",
       "  'id': 2,\n",
       "  'depth': 2,\n",
       "  'feature': None,\n",
       "  'is_leaf_node': True,\n",
       "  'threshold': None,\n",
       "  'gini': 0.2659279778393353,\n",
       "  'samples': 19,\n",
       "  'value': 0},\n",
       " 1: {'node': <DecisionTree.Node at 0x12ee65120>,\n",
       "  'id': 1,\n",
       "  'depth': 2,\n",
       "  'feature': None,\n",
       "  'is_leaf_node': True,\n",
       "  'threshold': None,\n",
       "  'gini': 0.048413057693274864,\n",
       "  'samples': 282,\n",
       "  'value': 1}}"
      ]
     },
     "execution_count": 399,
     "metadata": {},
     "output_type": "execute_result"
    }
   ],
   "source": [
    "clf_tree.node_id_dict"
   ]
  },
  {
   "cell_type": "code",
   "execution_count": 384,
   "id": "f629e3b4",
   "metadata": {},
   "outputs": [
    {
     "data": {
      "text/plain": [
       "{0: {'node': <DecisionTree.Node at 0x12ee47670>,\n",
       "  'id': 0,\n",
       "  'depth': 0,\n",
       "  'feature': 'worst concave points',\n",
       "  'is_leaf_node': False,\n",
       "  'threshold': 0.1417,\n",
       "  'gini': 0.4646395362878879,\n",
       "  'samples': 455,\n",
       "  'value': 1},\n",
       " 6: {'node': <DecisionTree.Node at 0x12ee476d0>,\n",
       "  'id': 6,\n",
       "  'depth': 1,\n",
       "  'feature': 'worst area',\n",
       "  'is_leaf_node': False,\n",
       "  'threshold': 686.45,\n",
       "  'gini': 0.12143700455388773,\n",
       "  'samples': 154,\n",
       "  'value': 0},\n",
       " 5: {'node': <DecisionTree.Node at 0x12ee47790>,\n",
       "  'id': 5,\n",
       "  'depth': 2,\n",
       "  'feature': None,\n",
       "  'is_leaf_node': True,\n",
       "  'threshold': None,\n",
       "  'gini': 0.04079861111111116,\n",
       "  'samples': 144,\n",
       "  'value': 0},\n",
       " 4: {'node': <DecisionTree.Node at 0x12ee47760>,\n",
       "  'id': 4,\n",
       "  'depth': 2,\n",
       "  'feature': None,\n",
       "  'is_leaf_node': True,\n",
       "  'threshold': None,\n",
       "  'gini': 0.42000000000000004,\n",
       "  'samples': 10,\n",
       "  'value': 1},\n",
       " 3: {'node': <DecisionTree.Node at 0x12ee47700>,\n",
       "  'id': 3,\n",
       "  'depth': 1,\n",
       "  'feature': 'worst area',\n",
       "  'is_leaf_node': False,\n",
       "  'threshold': 957.45,\n",
       "  'gini': 0.14114634496307987,\n",
       "  'samples': 301,\n",
       "  'value': 1},\n",
       " 2: {'node': <DecisionTree.Node at 0x12ee47730>,\n",
       "  'id': 2,\n",
       "  'depth': 2,\n",
       "  'feature': None,\n",
       "  'is_leaf_node': True,\n",
       "  'threshold': None,\n",
       "  'gini': 0.2659279778393353,\n",
       "  'samples': 19,\n",
       "  'value': 0},\n",
       " 1: {'node': <DecisionTree.Node at 0x12ee47520>,\n",
       "  'id': 1,\n",
       "  'depth': 2,\n",
       "  'feature': None,\n",
       "  'is_leaf_node': True,\n",
       "  'threshold': None,\n",
       "  'gini': 0.048413057693274864,\n",
       "  'samples': 282,\n",
       "  'value': 1}}"
      ]
     },
     "execution_count": 384,
     "metadata": {},
     "output_type": "execute_result"
    }
   ],
   "source": [
    "clf_tree.node_id_dict"
   ]
  },
  {
   "cell_type": "code",
   "execution_count": 368,
   "id": "b15525c9",
   "metadata": {},
   "outputs": [
    {
     "data": {
      "text/plain": [
       "{0: {'node': <DecisionTree.Node at 0x12e75b610>,\n",
       "  'depth': 0,\n",
       "  'feature': 'worst concave points',\n",
       "  'is_leaf_node': False,\n",
       "  'threshold': 0.1417,\n",
       "  'gini': 0.4646395362878879,\n",
       "  'samples': 455,\n",
       "  'value': 1},\n",
       " 6: {'node': <DecisionTree.Node at 0x12e75a110>,\n",
       "  'depth': 1,\n",
       "  'feature': 'worst area',\n",
       "  'is_leaf_node': False,\n",
       "  'threshold': 686.45,\n",
       "  'gini': 0.12143700455388773,\n",
       "  'samples': 154,\n",
       "  'value': 0},\n",
       " 5: {'node': <DecisionTree.Node at 0x12e75b790>,\n",
       "  'depth': 2,\n",
       "  'feature': None,\n",
       "  'is_leaf_node': True,\n",
       "  'threshold': None,\n",
       "  'gini': 0.04079861111111116,\n",
       "  'samples': 144,\n",
       "  'value': 0},\n",
       " 4: {'node': <DecisionTree.Node at 0x12e75bc40>,\n",
       "  'depth': 2,\n",
       "  'feature': None,\n",
       "  'is_leaf_node': True,\n",
       "  'threshold': None,\n",
       "  'gini': 0.42000000000000004,\n",
       "  'samples': 10,\n",
       "  'value': 1},\n",
       " 3: {'node': <DecisionTree.Node at 0x12ed98760>,\n",
       "  'depth': 1,\n",
       "  'feature': 'worst area',\n",
       "  'is_leaf_node': False,\n",
       "  'threshold': 957.45,\n",
       "  'gini': 0.14114634496307987,\n",
       "  'samples': 301,\n",
       "  'value': 1},\n",
       " 2: {'node': <DecisionTree.Node at 0x12ed98a00>,\n",
       "  'depth': 2,\n",
       "  'feature': None,\n",
       "  'is_leaf_node': True,\n",
       "  'threshold': None,\n",
       "  'gini': 0.2659279778393353,\n",
       "  'samples': 19,\n",
       "  'value': 0},\n",
       " 1: {'node': <DecisionTree.Node at 0x12e5893c0>,\n",
       "  'depth': 2,\n",
       "  'feature': None,\n",
       "  'is_leaf_node': True,\n",
       "  'threshold': None,\n",
       "  'gini': 0.048413057693274864,\n",
       "  'samples': 282,\n",
       "  'value': 1}}"
      ]
     },
     "execution_count": 368,
     "metadata": {},
     "output_type": "execute_result"
    }
   ],
   "source": [
    "clf_tree.node_id_dict"
   ]
  },
  {
   "cell_type": "code",
   "execution_count": 369,
   "id": "683741d2",
   "metadata": {},
   "outputs": [],
   "source": [
    "sk_cfl_tree = DecisionTreeClassifier(max_depth=2)\n",
    "sk_cfl_tree.fit(X_train, y_train)\n",
    "\n",
    "# Predict\n",
    "predictions1 = sk_cfl_tree.predict(X_test)"
   ]
  },
  {
   "cell_type": "code",
   "execution_count": 370,
   "id": "6eadcb3d",
   "metadata": {},
   "outputs": [
    {
     "data": {
      "image/png": "[encoded data removed]",
      "text/plain": [
       "<Figure size 1920x1440 with 1 Axes>"
      ]
     },
     "metadata": {},
     "output_type": "display_data"
    }
   ],
   "source": [
    "from sklearn.tree import plot_tree\n",
    "plot_tree(sk_cfl_tree, feature_names=X_train.columns);"
   ]
  },
  {
   "cell_type": "code",
   "execution_count": 318,
   "id": "6f5d5e55",
   "metadata": {},
   "outputs": [
    {
     "data": {
      "text/plain": [
       "[[2, <DecisionTree.Node at 0x12e5829e0>],\n",
       " [3, <DecisionTree.Node at 0x12e5828f0>],\n",
       " [5, <DecisionTree.Node at 0x12e582d40>],\n",
       " [6, <DecisionTree.Node at 0x12c5f4d60>]]"
      ]
     },
     "execution_count": 318,
     "metadata": {},
     "output_type": "execute_result"
    }
   ],
   "source": [
    "# Filter for leaf nodes \n",
    "[[node.id, node] for node in clf_tree.node_list if node.is_leaf_node()==True]"
   ]
  },
  {
   "cell_type": "code",
   "execution_count": 348,
   "id": "93399b44",
   "metadata": {},
   "outputs": [],
   "source": [
    "#for i in clf_tree.node_list:\n",
    "#    print(i.id, i.depth, i.samples, i.is_leaf_node(), i.value, i.feature_name, i.threshold, i.gini, i.clf_value_dis)\n",
    "    #try:\n",
    "    #    print(i.left.samples, i.right.samples)\n",
    "    #except:\n",
    "    #    continue"
   ]
  },
  {
   "cell_type": "code",
   "execution_count": 183,
   "id": "47a215cf",
   "metadata": {},
   "outputs": [
    {
     "data": {
      "text/plain": [
       "0.8947368421052632"
      ]
     },
     "execution_count": 183,
     "metadata": {},
     "output_type": "execute_result"
    }
   ],
   "source": [
    "acc = accuracy(y_test, predictions1)\n",
    "acc"
   ]
  },
  {
   "cell_type": "code",
   "execution_count": 52,
   "id": "c8706100",
   "metadata": {},
   "outputs": [],
   "source": [
    "# Access different nodes\n",
    "#clf_tree.root.left.left.left.is_leaf_node()"
   ]
  },
  {
   "cell_type": "code",
   "execution_count": 59,
   "id": "1ed86c6e",
   "metadata": {},
   "outputs": [
    {
     "name": "stdout",
     "output_type": "stream",
     "text": [
      "14 3 1 True 0\n",
      "13 3 281 True 1\n",
      "12 2 282 False 1\n",
      "11 3 4 True 1\n",
      "10 3 15 True 0\n",
      "9 2 19 False 0\n",
      "8 1 301 False 1\n",
      "7 3 7 True 1\n",
      "6 3 3 True 0\n",
      "5 2 10 False 1\n",
      "4 3 3 True 1\n",
      "3 3 141 True 0\n",
      "2 2 144 False 0\n",
      "1 1 154 False 0\n",
      "0 0 455 False 1\n"
     ]
    }
   ],
   "source": [
    "for i in clf_tree.node_list:\n",
    "    print(i.id, i.depth, i.samples, i.is_leaf_node(), i.value)"
   ]
  },
  {
   "cell_type": "code",
   "execution_count": null,
   "id": "c00acec2",
   "metadata": {},
   "outputs": [],
   "source": [
    "# Train DecisionTree from scratch\n",
    "reg_tree = DecisionTree(max_depth=3, treetype=\"regression\")\n",
    "reg_tree.fit(X_train, y_train)\n",
    "\n",
    "# Predict\n",
    "predictions = reg_tree.predict(X_test)"
   ]
  },
  {
   "cell_type": "code",
   "execution_count": null,
   "id": "15577729",
   "metadata": {},
   "outputs": [],
   "source": [
    "from sklearn.metrics import mean_squared_error"
   ]
  },
  {
   "cell_type": "code",
   "execution_count": null,
   "id": "9258815b",
   "metadata": {},
   "outputs": [],
   "source": [
    "mean_squared_error(y_test, predictions)"
   ]
  },
  {
   "cell_type": "code",
   "execution_count": null,
   "id": "6c5761c8",
   "metadata": {},
   "outputs": [],
   "source": [
    "for i in reg_tree.node_list:\n",
    "    print(i.id, i.is_leaf_node(), i.depth, i.value)"
   ]
  },
  {
   "cell_type": "code",
   "execution_count": null,
   "id": "53c3e192",
   "metadata": {},
   "outputs": [],
   "source": []
  },
  {
   "cell_type": "code",
   "execution_count": null,
   "id": "fa6749bb",
   "metadata": {},
   "outputs": [],
   "source": []
  },
  {
   "cell_type": "code",
   "execution_count": null,
   "id": "9525d2ea",
   "metadata": {},
   "outputs": [],
   "source": []
  },
  {
   "cell_type": "code",
   "execution_count": null,
   "id": "802cbfe9",
   "metadata": {},
   "outputs": [],
   "source": []
  },
  {
   "cell_type": "code",
   "execution_count": null,
   "id": "f9b69b13",
   "metadata": {},
   "outputs": [],
   "source": []
  },
  {
   "cell_type": "code",
   "execution_count": null,
   "id": "20f2524f",
   "metadata": {},
   "outputs": [],
   "source": []
  },
  {
   "cell_type": "code",
   "execution_count": null,
   "id": "98d45559",
   "metadata": {},
   "outputs": [],
   "source": [
    "clf_tree.root.id"
   ]
  },
  {
   "cell_type": "code",
   "execution_count": null,
   "id": "f60015f2",
   "metadata": {},
   "outputs": [],
   "source": [
    "clf_tree.root.id"
   ]
  },
  {
   "cell_type": "code",
   "execution_count": null,
   "id": "356222e9",
   "metadata": {},
   "outputs": [],
   "source": [
    "clf_tree.root.feature = 23"
   ]
  },
  {
   "cell_type": "code",
   "execution_count": null,
   "id": "ca0154d6",
   "metadata": {},
   "outputs": [],
   "source": [
    "clf_tree.root.feature"
   ]
  },
  {
   "cell_type": "code",
   "execution_count": null,
   "id": "364f9301",
   "metadata": {},
   "outputs": [],
   "source": [
    "for j, i in enumerate(clf_tree.node_list[::-1]):\n",
    "    #print(j, i.id, i.is_leaf_node(), i.depth, i.feature)\n",
    "    i.id = j"
   ]
  },
  {
   "cell_type": "code",
   "execution_count": null,
   "id": "c604351d",
   "metadata": {},
   "outputs": [],
   "source": [
    "for i in clf_tree.node_list:\n",
    "    print(i.id, i.is_leaf_node(), i.depth, i.feature)"
   ]
  },
  {
   "cell_type": "code",
   "execution_count": null,
   "id": "225fc10d",
   "metadata": {},
   "outputs": [],
   "source": [
    "## Check if random state is working\n",
    "#res = []\n",
    "#\n",
    "#for i in range(10):\n",
    "#\n",
    "#    clf_tree1 = DecisionTree(max_depth=2, random_state=42)\n",
    "#    clf_tree1.fit(X_train, y_train)\n",
    "#\n",
    "#    # Predict\n",
    "#    predictions = clf_tree1.predict(X_test)\n",
    "#    acc =  accuracy(y_test, predictions)\n",
    "#    \n",
    "#    res.append(acc)"
   ]
  },
  {
   "cell_type": "code",
   "execution_count": null,
   "id": "4d2f8f46",
   "metadata": {},
   "outputs": [],
   "source": [
    "#np.unique(res, return_counts=True)"
   ]
  },
  {
   "cell_type": "code",
   "execution_count": null,
   "id": "31388dd6",
   "metadata": {},
   "outputs": [],
   "source": []
  },
  {
   "cell_type": "markdown",
   "id": "928b30dd",
   "metadata": {},
   "source": [
    "# Comparison Dingyi vs. my_code"
   ]
  },
  {
   "cell_type": "code",
   "execution_count": 7,
   "id": "c0e5588f",
   "metadata": {},
   "outputs": [],
   "source": [
    "module_path = os.path.abspath(os.path.join('../..'))\n",
    "if module_path not in sys.path:\n",
    "    sys.path.append(module_path+\"/ExplainableAI/RF_from_scratch/utils\")"
   ]
  },
  {
   "cell_type": "code",
   "execution_count": 20,
   "id": "3741249d",
   "metadata": {},
   "outputs": [],
   "source": [
    "import pandas as pd\n",
    "import numpy as np\n",
    "import pyreadr\n",
    "import random\n",
    "from pathlib import Path\n",
    "from sklearn.tree import DecisionTreeRegressor\n",
    "from sklearn.metrics import mean_squared_error\n",
    "from imodels import HSTreeClassifierCV, HSTreeRegressor, HSTreeRegressorCV\n",
    "from random import random\n",
    "from sklearn import datasets\n",
    "from sklearn.model_selection import train_test_split\n",
    "import numpy as np\n",
    "\n",
    "#tree functions\n",
    "from helper_function import check_purity, check_purity, classify_data, split_data, calculate_impurity, calculate_overall_impurity, determine_best_split, split_in_loop, get_potential_splits, create_leaf, determine_type_of_feature, decision_tree_algorithm, predict_example, decision_tree_predictions\n"
   ]
  },
  {
   "cell_type": "code",
   "execution_count": 21,
   "id": "85c04a9a",
   "metadata": {},
   "outputs": [],
   "source": [
    "#Import Random Forest from scratch functions\n",
    "import sys\n",
    "import os\n",
    "\n",
    "module_path = os.path.abspath(os.path.join('..'))\n",
    "if module_path not in sys.path:\n",
    "    sys.path.append(module_path+\"/utils\")\n",
    "\n",
    "#tree functions\n",
    "from helper_function import check_purity, check_purity, classify_data, split_data, calculate_impurity, calculate_overall_impurity, determine_best_split, split_in_loop, get_potential_splits, create_leaf, determine_type_of_feature, decision_tree_algorithm, predict_example, decision_tree_predictions\n",
    "\n",
    "#RF functions\n",
    "from helper_function import _generate_sample_indices, _generate_unsampled_indices, random_forest_algorithm_oob, random_forest_predictions\n",
    "\n",
    "#Test/metrics functions?\n",
    "\n",
    "from helper_function import generate_mse_fi, generate_mse_sklearn, easy_for_test, num_leaf_sklearn"
   ]
  },
  {
   "cell_type": "code",
   "execution_count": 154,
   "id": "b1ff4994",
   "metadata": {},
   "outputs": [],
   "source": [
    "# Read data\n",
    "data = pyreadr.read_r(os.path.join(os.path.dirname(os.path.dirname(Path.cwd())),'ExplainableAI/ConferenceSubmission/Data/SRData.RData')) # regression\n",
    "\n",
    "\n",
    "X0 = data['boston'][0:50]\n",
    "X1 = X0.select_dtypes(include=np.number).iloc[:,:-1] # numerical features exclude the last column (y)\n",
    "if len(X0.select_dtypes(include='category').columns) !=0: # recognize categorical feature\n",
    "    X2 = pd.get_dummies(X0[(X0.select_dtypes(include='category')).columns], drop_first=True) # change it into one_hot_encoding\n",
    "else: X2 = pd.DataFrame()\n",
    "\n",
    "X = pd.concat(objs=[X2, X1], axis=1) # combine dummies and numerical features\n",
    "y = data['boston'].iloc[0:50,-1] # the last column is y"
   ]
  },
  {
   "cell_type": "code",
   "execution_count": 155,
   "id": "3c264af2",
   "metadata": {},
   "outputs": [
    {
     "data": {
      "text/plain": [
       "20.502000000000002"
      ]
     },
     "execution_count": 155,
     "metadata": {},
     "output_type": "execute_result"
    }
   ],
   "source": [
    "np.mean(y)"
   ]
  },
  {
   "cell_type": "code",
   "execution_count": 175,
   "id": "ca89dc89",
   "metadata": {},
   "outputs": [
    {
     "name": "stdout",
     "output_type": "stream",
     "text": [
      "6.605693862433863\n"
     ]
    }
   ],
   "source": [
    "# Fit regression model sklearn\n",
    "\n",
    "\n",
    "regr_1 = DecisionTreeRegressor(max_depth=2, random_state=42)\n",
    "regr_1.fit(X, y)\n",
    "\n",
    "# Predict\n",
    "mse_sklearn = mean_squared_error(y, regr_1.predict(X))\n",
    "print(mse_sklearn)"
   ]
  },
  {
   "cell_type": "code",
   "execution_count": 192,
   "id": "515f1ba9",
   "metadata": {},
   "outputs": [
    {
     "data": {
      "text/plain": [
       "[Text(0.5, 0.8333333333333334, 'X[12] <= 6.195\\nsquared_error = 35.567\\nsamples = 50\\nvalue = 20.502'),\n",
       " Text(0.25, 0.5, 'X[5] <= 6.884\\nsquared_error = 18.414\\nsamples = 9\\nvalue = 30.511'),\n",
       " Text(0.125, 0.16666666666666666, 'squared_error = 5.87\\nsamples = 5\\nvalue = 27.08'),\n",
       " Text(0.375, 0.16666666666666666, 'squared_error = 0.985\\nsamples = 4\\nvalue = 34.8'),\n",
       " Text(0.75, 0.5, 'X[0] <= 0.2\\nsquared_error = 12.514\\nsamples = 41\\nvalue = 18.305'),\n",
       " Text(0.625, 0.16666666666666666, 'squared_error = 5.986\\nsamples = 14\\nvalue = 21.493'),\n",
       " Text(0.875, 0.16666666666666666, 'squared_error = 7.896\\nsamples = 27\\nvalue = 16.652')]"
      ]
     },
     "execution_count": 192,
     "metadata": {},
     "output_type": "execute_result"
    },
    {
     "data": {
      "image/png": "[encoded data removed]",
      "text/plain": [
       "<Figure size 1920x1440 with 1 Axes>"
      ]
     },
     "metadata": {},
     "output_type": "display_data"
    }
   ],
   "source": [
    "plot_tree(regr_1)"
   ]
  },
  {
   "cell_type": "code",
   "execution_count": 174,
   "id": "14cfb599",
   "metadata": {},
   "outputs": [
    {
     "name": "stdout",
     "output_type": "stream",
     "text": [
      "8.116444008152804\n"
     ]
    }
   ],
   "source": [
    "# Fit Tree with self-made code\n",
    "\n",
    "sub_tree, feature_gain, y_above_list = decision_tree_algorithm(X, y, max_depth=2, n=len(y), random_state=42)# \n",
    "y_2 = decision_tree_predictions(X, sub_tree)\n",
    "\n",
    "mse_from_scratch = mean_squared_error(y, y_2)\n",
    "print(mse_from_scratch)"
   ]
  },
  {
   "cell_type": "code",
   "execution_count": 158,
   "id": "7cc2e00d",
   "metadata": {},
   "outputs": [
    {
     "name": "stdout",
     "output_type": "stream",
     "text": [
      "{'lstat <= 6.195 with num of samples 50 and current y 20.502000000000002 and above y {0: [0, 50, 20.502000000000002]}': [{'rm <= 6.884 with num of samples 9 and current y 30.511111111111113 and above y {0: [0, 50, 20.502000000000002], 1: [1, 9, 30.511111111111113]}': [27.217662768031193, 30.87450487329435]}, {'crim <= 0.1998 with num of samples 41 and current y 18.304878048780488 and above y {0: [0, 50, 20.502000000000002], 1: [1, 9, 30.511111111111113], 2: [2, 5, 27.217662768031193], 3: [2, 4, 30.87450487329435], 4: [1, 41, 18.304878048780488]}': [21.23395019471203, 17.34216162743327]}]}\n"
     ]
    }
   ],
   "source": [
    "# What is sub_tree ? \n",
    "print(sub_tree)"
   ]
  },
  {
   "cell_type": "code",
   "execution_count": 159,
   "id": "a55df95a",
   "metadata": {},
   "outputs": [
    {
     "data": {
      "text/plain": [
       "[[0, 'lstat', 0.7598857959183718],\n",
       " [0, 'rm', -1.1247666666666674],\n",
       " -1,\n",
       " -1,\n",
       " [0, 'crim', 0.29531000000000174],\n",
       " -1,\n",
       " -1]"
      ]
     },
     "execution_count": 159,
     "metadata": {},
     "output_type": "execute_result"
    }
   ],
   "source": [
    "# What is feature gain?\n",
    "feature_gain"
   ]
  },
  {
   "cell_type": "code",
   "execution_count": 160,
   "id": "be83cf62",
   "metadata": {},
   "outputs": [
    {
     "data": {
      "text/plain": [
       "{0: [0, 50, 20.502000000000002],\n",
       " 1: [1, 9, 30.511111111111113],\n",
       " 2: [2, 5, 27.217662768031193],\n",
       " 3: [2, 4, 30.87450487329435],\n",
       " 4: [1, 41, 18.304878048780488],\n",
       " 5: [2, 14, 21.23395019471203],\n",
       " 6: [2, 27, 17.34216162743327]}"
      ]
     },
     "execution_count": 160,
     "metadata": {},
     "output_type": "execute_result"
    }
   ],
   "source": [
    "# What is y above list ? \n",
    "y_above_list"
   ]
  },
  {
   "cell_type": "code",
   "execution_count": 161,
   "id": "19dfeb64",
   "metadata": {},
   "outputs": [],
   "source": [
    "t = X.values.copy()"
   ]
  },
  {
   "cell_type": "code",
   "execution_count": 162,
   "id": "549f6bb1",
   "metadata": {},
   "outputs": [
    {
     "data": {
      "text/plain": [
       "True"
      ]
     },
     "execution_count": 162,
     "metadata": {},
     "output_type": "execute_result"
    }
   ],
   "source": [
    "isinstance(X, pd.DataFrame)"
   ]
  },
  {
   "cell_type": "code",
   "execution_count": 163,
   "id": "03e4ce29",
   "metadata": {},
   "outputs": [
    {
     "data": {
      "text/plain": [
       "'lstat'"
      ]
     },
     "execution_count": 163,
     "metadata": {},
     "output_type": "execute_result"
    }
   ],
   "source": [
    "X.columns[12]"
   ]
  },
  {
   "cell_type": "code",
   "execution_count": 171,
   "id": "902b80aa",
   "metadata": {},
   "outputs": [],
   "source": [
    "# Train DecisionTree from scratch\n",
    "reg_treee = DecisionTree(max_depth=2, treetype=\"regression\", random_state=42)\n",
    "reg_treee.fit(X, y.values)\n",
    "\n",
    "# Predict\n",
    "predictions = reg_treee.predict(X.values)"
   ]
  },
  {
   "cell_type": "code",
   "execution_count": 172,
   "id": "a86aec55",
   "metadata": {},
   "outputs": [
    {
     "data": {
      "text/plain": [
       "6.605693862433863"
      ]
     },
     "execution_count": 172,
     "metadata": {},
     "output_type": "execute_result"
    }
   ],
   "source": [
    "mean_squared_error(y, predictions)"
   ]
  },
  {
   "cell_type": "code",
   "execution_count": 173,
   "id": "37a5ea27",
   "metadata": {},
   "outputs": [
    {
     "name": "stdout",
     "output_type": "stream",
     "text": [
      "6 2 5 True 27.080000000000002 None None\n",
      "5 2 4 True 34.8 None None\n",
      "4 1 9 False 30.511111111111113 rm 6.884\n",
      "3 2 14 True 21.49285714285714 None None\n",
      "2 2 27 True 16.651851851851852 None None\n",
      "1 1 41 False 18.304878048780488 crim 0.1998\n",
      "0 0 50 False 20.502000000000002 lstat 6.195\n"
     ]
    }
   ],
   "source": [
    "for i in reg_treee.node_list:\n",
    "    print(i.id, i.depth, i.samples, i.is_leaf_node(), i.value, i.feature_name, i.threshold)"
   ]
  },
  {
   "cell_type": "code",
   "execution_count": null,
   "id": "525f3713",
   "metadata": {},
   "outputs": [],
   "source": [
    "reg_treee.r"
   ]
  },
  {
   "cell_type": "markdown",
   "id": "cbdde4d0",
   "metadata": {},
   "source": [
    "# RandomForest from Scratch"
   ]
  },
  {
   "cell_type": "code",
   "execution_count": 858,
   "id": "83dfcca6",
   "metadata": {},
   "outputs": [
    {
     "name": "stderr",
     "output_type": "stream",
     "text": [
      "/Users/philippheitmann/code/Heity94/TreeModelsFromScratch/RandomForest.py:80: UserWarning: 116 out of 455 samples do not have OOB scores. This probably means too few trees were used to compute any reliable OOB estimates. These samples were dropped before computing the oob_score\n",
      "  mask[nan_indxs] = False\n"
     ]
    }
   ],
   "source": [
    "# Train RandomForest from scratch\n",
    "rf = RandomForest(n_trees=3, treetype=\"regression\")\n",
    "rf.fit(X_train, y_train)"
   ]
  },
  {
   "cell_type": "code",
   "execution_count": 859,
   "id": "02a636db",
   "metadata": {},
   "outputs": [
    {
     "name": "stdout",
     "output_type": "stream",
     "text": [
      "regression\n"
     ]
    },
    {
     "data": {
      "text/plain": [
       "0.22918063334573857"
      ]
     },
     "execution_count": 859,
     "metadata": {},
     "output_type": "execute_result"
    }
   ],
   "source": [
    "print(rf.treetype)\n",
    "rf.oob_score"
   ]
  },
  {
   "cell_type": "code",
   "execution_count": 860,
   "id": "c1e5965b",
   "metadata": {},
   "outputs": [],
   "source": [
    "predictions = rf.predict(X_test)"
   ]
  },
  {
   "cell_type": "code",
   "execution_count": 861,
   "id": "df296cb8",
   "metadata": {},
   "outputs": [
    {
     "data": {
      "text/plain": [
       "array([1.        , 1.        , 1.        , 1.        , 1.        ,\n",
       "       1.        , 0.66666667, 1.        , 0.        , 0.        ,\n",
       "       0.        , 1.        , 1.        , 0.66666667, 1.        ,\n",
       "       0.        , 1.        , 1.        , 1.        , 0.        ,\n",
       "       1.        , 0.        , 0.        , 0.        , 0.        ,\n",
       "       1.        , 0.33333333, 1.        , 1.        , 1.        ,\n",
       "       1.        , 1.        , 0.        , 1.        , 1.        ,\n",
       "       0.33333333, 1.        , 0.        , 0.        , 1.        ,\n",
       "       0.        , 1.        , 0.        , 1.        , 1.        ,\n",
       "       1.        , 1.        , 0.        , 0.        , 1.        ,\n",
       "       0.33333333, 1.        , 1.        , 0.        , 0.33333333,\n",
       "       1.        , 1.        , 1.        , 1.        , 0.        ,\n",
       "       0.66666667, 1.        , 0.66666667, 1.        , 1.        ,\n",
       "       0.33333333, 0.        , 1.        , 1.        , 1.        ,\n",
       "       1.        , 0.        , 1.        , 1.        , 1.        ,\n",
       "       1.        , 1.        , 0.        , 1.        , 0.        ,\n",
       "       1.        , 1.        , 1.        , 0.        , 0.        ,\n",
       "       0.        , 0.        , 0.33333333, 1.        , 0.66666667,\n",
       "       1.        , 1.        , 1.        , 0.        , 0.        ,\n",
       "       1.        , 1.        , 0.66666667, 1.        , 0.66666667,\n",
       "       0.        , 0.        , 1.        , 1.        , 0.33333333,\n",
       "       1.        , 1.        , 0.        , 0.        , 1.        ,\n",
       "       0.        , 1.        , 0.66666667, 0.        ])"
      ]
     },
     "execution_count": 861,
     "metadata": {},
     "output_type": "execute_result"
    }
   ],
   "source": [
    "predictions"
   ]
  },
  {
   "cell_type": "code",
   "execution_count": 862,
   "id": "68b2dd9e",
   "metadata": {},
   "outputs": [
    {
     "data": {
      "text/plain": [
       "0.23570226039551584"
      ]
     },
     "execution_count": 862,
     "metadata": {},
     "output_type": "execute_result"
    }
   ],
   "source": [
    "mean_squared_error(y_test, predictions, squared=False)"
   ]
  },
  {
   "cell_type": "code",
   "execution_count": 854,
   "id": "f1de891d",
   "metadata": {},
   "outputs": [
    {
     "name": "stderr",
     "output_type": "stream",
     "text": [
      "/Users/philippheitmann/code/Heity94/TreeModelsFromScratch/RandomForest.py:80: UserWarning: 6 out of 455 samples do not have OOB scores. This probably means too few trees were used to compute any reliable OOB estimates. These samples were dropped before computing the oob_score\n",
      "  mask[nan_indxs] = False\n"
     ]
    }
   ],
   "source": [
    "# Train RandomForest from scratch\n",
    "rf = RandomForest(n_trees=10, treetype=\"classification\")\n",
    "rf.fit(X_train, y_train)"
   ]
  },
  {
   "cell_type": "code",
   "execution_count": 855,
   "id": "c2680d27",
   "metadata": {},
   "outputs": [
    {
     "name": "stdout",
     "output_type": "stream",
     "text": [
      "classification\n"
     ]
    },
    {
     "data": {
      "text/plain": [
       "0.9398663697104677"
      ]
     },
     "execution_count": 855,
     "metadata": {},
     "output_type": "execute_result"
    }
   ],
   "source": [
    "print(rf.treetype)\n",
    "rf.oob_score"
   ]
  },
  {
   "cell_type": "code",
   "execution_count": 856,
   "id": "214ffbfc",
   "metadata": {},
   "outputs": [],
   "source": [
    "predictions = rf.predict(X_test)"
   ]
  },
  {
   "cell_type": "code",
   "execution_count": 857,
   "id": "b5ef9eb3",
   "metadata": {},
   "outputs": [
    {
     "data": {
      "text/plain": [
       "array([1, 1, 1, 1, 1, 1, 1, 1, 0, 0, 0, 1, 1, 0, 1, 0, 1, 1, 1, 0, 1, 0,\n",
       "       0, 0, 0, 1, 0, 1, 1, 1, 1, 1, 0, 1, 1, 0, 1, 0, 1, 1, 0, 1, 0, 1,\n",
       "       1, 1, 1, 1, 0, 1, 0, 1, 1, 0, 1, 1, 1, 1, 1, 0, 1, 1, 1, 1, 1, 0,\n",
       "       0, 1, 1, 1, 1, 0, 1, 0, 1, 1, 1, 0, 1, 0, 1, 1, 0, 0, 0, 0, 0, 0,\n",
       "       0, 1, 1, 1, 1, 0, 0, 1, 1, 0, 1, 0, 0, 0, 1, 1, 0, 1, 1, 0, 0, 1,\n",
       "       0, 1, 0, 0])"
      ]
     },
     "execution_count": 857,
     "metadata": {},
     "output_type": "execute_result"
    }
   ],
   "source": [
    "predictions"
   ]
  },
  {
   "cell_type": "code",
   "execution_count": 805,
   "id": "67edc35f",
   "metadata": {},
   "outputs": [
    {
     "data": {
      "text/plain": [
       "0.9298245614035088"
      ]
     },
     "execution_count": 805,
     "metadata": {},
     "output_type": "execute_result"
    }
   ],
   "source": [
    "accuracy_score(y_test, predictions)"
   ]
  },
  {
   "cell_type": "code",
   "execution_count": null,
   "id": "8d7f251f",
   "metadata": {},
   "outputs": [],
   "source": []
  }
 ],
 "metadata": {
  "kernelspec": {
   "display_name": "Python 3 (ipykernel)",
   "language": "python",
   "name": "python3"
  },
  "language_info": {
   "codemirror_mode": {
    "name": "ipython",
    "version": 3
   },
   "file_extension": ".py",
   "mimetype": "text/x-python",
   "name": "python",
   "nbconvert_exporter": "python",
   "pygments_lexer": "ipython3",
   "version": "3.10.6"
  },
  "toc": {
   "base_numbering": 1,
   "nav_menu": {},
   "number_sections": true,
   "sideBar": true,
   "skip_h1_title": false,
   "title_cell": "Table of Contents",
   "title_sidebar": "Contents",
   "toc_cell": false,
   "toc_position": {},
   "toc_section_display": true,
   "toc_window_display": false
  }
 },
 "nbformat": 4,
 "nbformat_minor": 5
}
