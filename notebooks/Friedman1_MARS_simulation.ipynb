{
 "cells": [
  {
   "cell_type": "code",
   "execution_count": 9,
   "id": "b95a582c",
   "metadata": {},
   "outputs": [],
   "source": [
    "%load_ext autoreload\n",
    "%autoreload 2"
   ]
  },
  {
   "cell_type": "code",
   "execution_count": 10,
   "id": "b26b2d7b",
   "metadata": {},
   "outputs": [],
   "source": [
    "#Import Tree Models from scratch functions\n",
    "import sys\n",
    "import os\n",
    "\n",
    "module_path = os.path.abspath(os.path.join('..'))\n",
    "if module_path not in sys.path:\n",
    "    sys.path.append(module_path+\"/TreeModelsFromScratch\")\n",
    "\n",
    "from DecisionTree import DecisionTree\n",
    "from RandomForest import RandomForest\n",
    "from SmoothShap import verify_shap_model, smooth_shap, cross_val_score_scratch, export_imodels_for_SHAP, GridSearchCV_scratch"
   ]
  },
  {
   "cell_type": "code",
   "execution_count": 25,
   "id": "ff41c56b",
   "metadata": {},
   "outputs": [],
   "source": [
    "import numpy as np\n",
    "import pandas as pd\n",
    "from sklearn.datasets import make_friedman1\n",
    "import matplotlib.pyplot as plt\n",
    "import matplotlib as mpl\n",
    "from imodels import HSTreeClassifier, HSTreeRegressor\n",
    "from sklearn.tree import DecisionTreeRegressor, DecisionTreeClassifier\n",
    "from sklearn.ensemble import RandomForestClassifier, RandomForestRegressor\n",
    "from copy import deepcopy\n",
    "from sklearn.model_selection import train_test_split, cross_validate, cross_val_score, KFold\n",
    "from shap import TreeExplainer"
   ]
  },
  {
   "cell_type": "code",
   "execution_count": 12,
   "id": "38dc985d",
   "metadata": {},
   "outputs": [],
   "source": [
    "# Gloabl figure settings\n",
    "mpl.rcParams['axes.spines.top'] = False\n",
    "mpl.rcParams['axes.spines.right'] = False"
   ]
  },
  {
   "cell_type": "code",
   "execution_count": 28,
   "id": "564fba7b",
   "metadata": {},
   "outputs": [],
   "source": [
    "import warnings\n",
    "warnings.filterwarnings(\"ignore\", category=DeprecationWarning)"
   ]
  },
  {
   "cell_type": "markdown",
   "id": "77b54a19",
   "metadata": {},
   "source": [
    "# `\"Friedman1\"` simulation \n",
    "`Friedman1` (also referred as `MARS` simulation) [source] was also used as one of the benchmark datasets in the HS paper []. <br>\n",
    "- HS paper calls a function which is implemented in imodels [`get_clean_dataset` function](https://github.com/csinva/imodels/blob/3c6ebbd4868711efaf237da99711dea747124aba/imodels/util/data_util.py#L119) to create the so called \"friedman1\" dataset\n",
    "- The imodels function however just calls the sklearn `make_friedman1` [function](https://scikit-learn.org/stable/modules/generated/sklearn.datasets.make_friedman1.html)"
   ]
  },
  {
   "cell_type": "markdown",
   "id": "6e095b9e",
   "metadata": {},
   "source": [
    "**Definition from sklearn**<br>\n",
    "Inputs `X` are independent features uniformly distributed on the interval [0, 1]. The output `y` is created according to the formula: <br>\n",
    "`y(X) = 10 * sin(pi * X[:, 0] * X[:, 1]) + 20 * (X[:, 2] - 0.5) ** 2 + 10 * X[:, 3] + 5 * X[:, 4] + noise * N(0, 1)`\n",
    "<br>\n",
    "Out of the `n_features` features, only 5 are actually used to compute `y`. The remaining features are independent of `y`."
   ]
  },
  {
   "cell_type": "markdown",
   "id": "675f9d46",
   "metadata": {},
   "source": [
    "- Friedman, Grosse ans Stuetzle (1983) originally created this function to uncover interaction effects that are present in data. In the original setting they used `n_samples=200` and `n_features=6` (one noisy feature)\n",
    "- Mentch (2020) used the same function in his paper (source), but in a more difficult setting. They reduced the `n_samples=100` and increased the `n_features=10` so that there are 5 noise features independent of f(x)\n",
    "- The HS paper used the same function with `n_samples=200` and `n_features=10`"
   ]
  },
  {
   "cell_type": "markdown",
   "id": "358b7bf6",
   "metadata": {},
   "source": [
    "For this thesis, we will also use the syntetic dataset with two different parameter settings:\n",
    "\n",
    "1) Same parameter settings as in the HS paper: `n_samples=200` and `n_features=10` <br>\n",
    "2) Same parameter settings as in Mentch (2020): `n_samples=100` and `n_features=10`\n",
    "\n",
    "Sample size of 100 should be enough for continuous outcome? "
   ]
  },
  {
   "cell_type": "markdown",
   "id": "1a0ccbae",
   "metadata": {},
   "source": [
    "## Follow approach from HS paper\n",
    "`n_samples=200` and `n_features=10`"
   ]
  },
  {
   "cell_type": "code",
   "execution_count": 31,
   "id": "a6f1d42a",
   "metadata": {},
   "outputs": [],
   "source": [
    "def simulate_friedman1(n_samples=200, n_features=10, n_trees=1, M=100, reg_param=10, random_seed=None):\n",
    "    \n",
    "    random_state = np.random.RandomState(random_seed)\n",
    "    \n",
    "    #X and y\n",
    "    Xs = np.full((M, n_samples, n_features), 0)\n",
    "    ys = np.full((M, n_samples), 0)\n",
    "    \n",
    "    #MDI\n",
    "    mdi_sk = [] #sklearn\n",
    "    mdi_im = [] #imodels\n",
    "    mdi_scr = [] #scratch\n",
    "    mdi_scrHS = [] #scratch with HS\n",
    "    \n",
    "    #SHAP\n",
    "    shap_sk = [] #sklearn\n",
    "    shap_im = [] #imodels\n",
    "    shap_scr = [] #scratch\n",
    "    shap_scr_inbag = [] #scratch\n",
    "    shap_scr_oob = [] #scratch\n",
    "    shap_scrHS = [] #scratch with HS\n",
    "    shap_scrHS_inbag = [] #scratch with HS\n",
    "    shap_scrHS_oob = [] #scratch with HS\n",
    "    \n",
    "    #Smooth SHAP\n",
    "    smshap_scr = [] #scratch\n",
    "    smshap_scrHS = [] #scratch with HS\n",
    "    \n",
    "    for i in range(M):\n",
    "        \n",
    "        # Create dataset\n",
    "        X, y = make_friedman1(n_samples=n_samples, n_features=n_features, noise=0.0, random_state=random_seed)\n",
    "        Xs[i,:,:] = X\n",
    "        ys[i,:] = y\n",
    "        \n",
    "        #Fit sklearn\n",
    "        if n_trees==1:\n",
    "            reg_sk = DecisionTreeRegressor(random_state=random_seed).fit(X, y)\n",
    "        else:\n",
    "            reg_sk = RandomForestRegressor(n_estimators=n_trees, random_state=random_seed).fit(X, y)\n",
    "        mdi_sk.append(reg_sk.feature_importances_) #MDI\n",
    "        explainer_sk = TreeExplainer(reg_sk)\n",
    "        shap_values_sk = explainer_sk.shap_values(X) #shap\n",
    "        shap_sk.append(shap_values_sk)\n",
    "            \n",
    "        #Fit imodels\n",
    "        reg_im = HSTreeRegressor(deepcopy(reg_sk), reg_param=reg_param)\n",
    "        mdi_im.append(reg_im.estimator_.feature_importances_) #MDI\n",
    "        export_im = export_imodels_for_SHAP(reg_im, is_forest=False if n_trees==1 else True)\n",
    "        explainer_im = TreeExplainer(export_im)\n",
    "        shap_values_im = explainer_im.shap_values(X) #shap\n",
    "        shap_im.append(shap_values_im)\n",
    "            \n",
    "        #Fit scratch\n",
    "        if n_trees==1:\n",
    "            reg_scr = DecisionTree(treetype=\"regression\", random_state=random_seed)\n",
    "        else:\n",
    "            reg_scr = RandomForest(n_trees=n_trees, oob_SHAP=True, treetype=\"regression\", random_state=random_seed)\n",
    "        reg_scr.fit(X, y)\n",
    "        mdi_scr.append(reg_scr.feature_importances_) #MDI\n",
    "        if n_trees==1:\n",
    "            export_model_scr = reg_scr.export_tree_for_SHAP()\n",
    "        else:\n",
    "            export_model_scr = reg_scr.export_forest_for_SHAP()\n",
    "        explainer_scr = TreeExplainer(export_model_scr)\n",
    "        shap_values_scr = explainer_scr.shap_values(X)\n",
    "        shap_scr.append(shap_values_scr) #SHAP\n",
    "        if n_trees!=1:\n",
    "            shap_scr_inbag.append(reg_scr.inbag_SHAP_values) # shap inbag\n",
    "            shap_scr_oob.append(reg_scr.oob_SHAP_values) # shap oob\n",
    "            smooth_shap_vals_scr, _ = smooth_shap(reg_scr.inbag_SHAP_values, reg_scr.oob_SHAP_values) #smooth shap\n",
    "            smshap_scr.append(smooth_shap_vals_scr)\n",
    "\n",
    "        #Fit scratch HS\n",
    "        if n_trees==1:\n",
    "            reg_scrHS = DecisionTree(treetype=\"regression\", HShrinkage=True, HS_lambda=reg_param, random_state=random_seed)\n",
    "        else:\n",
    "            reg_scrHS = RandomForest(n_trees=n_trees, HShrinkage=True, HS_lambda=reg_param, oob_SHAP=True, treetype=\"regression\", random_state=random_seed)\n",
    "        reg_scrHS.fit(X, y)\n",
    "        mdi_scrHS.append(reg_scr.feature_importances_) #MDI\n",
    "        if n_trees==1:\n",
    "            export_model_scrHS = reg_scrHS.export_tree_for_SHAP()\n",
    "        else:\n",
    "            export_model_scrHS = reg_scrHS.export_forest_for_SHAP()\n",
    "        explainer_scrHS = TreeExplainer(export_model_scrHS)\n",
    "        shap_values_scrHS = explainer_scrHS.shap_values(X)\n",
    "        shap_scrHS.append(shap_values_scrHS) #SHAP\n",
    "        if n_trees!=1:\n",
    "            shap_scrHS_inbag.append(reg_scrHS.inbag_SHAP_values) # shap inbag\n",
    "            shap_scrHS_oob.append(reg_scrHS.oob_SHAP_values) # shap oob\n",
    "            smooth_shap_vals_scrHS, _ = smooth_shap(reg_scrHS.inbag_SHAP_values, reg_scrHS.oob_SHAP_values) #smooth shap\n",
    "            smshap_scrHS.append(smooth_shap_vals_scrHS)\n",
    "\n",
    "    #store all observations in lists of lists\n",
    "    mdi_vals = [mdi_sk, mdi_im, mdi_scr, mdi_scrHS]\n",
    "    shap_vals = [shap_sk, shap_im, shap_scr, shap_scr_inbag, shap_scr_oob, shap_scrHS, shap_scrHS_inbag, shap_scrHS_oob]\n",
    "    smshap_vals = [smshap_scr, smshap_scrHS]\n",
    "    \n",
    "    return [Xs, ys], mdi_vals, shap_vals, smshap_vals\n"
   ]
  },
  {
   "cell_type": "code",
   "execution_count": null,
   "id": "f83ec768",
   "metadata": {},
   "outputs": [],
   "source": [
    "%%time\n",
    "[X, y], mdi_vals, shap_vals, smshap_vals = simulate_friedman1(\n",
    "    n_samples=200, n_features=10, n_trees=1, M=100, reg_param=10, random_seed=41)"
   ]
  },
  {
   "cell_type": "code",
   "execution_count": 34,
   "id": "c61403a8",
   "metadata": {},
   "outputs": [
    {
     "data": {
      "text/plain": [
       "(200, 10)"
      ]
     },
     "execution_count": 34,
     "metadata": {},
     "output_type": "execute_result"
    }
   ],
   "source": [
    "X.shape"
   ]
  },
  {
   "cell_type": "markdown",
   "id": "b4115ad0",
   "metadata": {},
   "source": [
    "### SHAP values"
   ]
  },
  {
   "cell_type": "code",
   "execution_count": null,
   "id": "7bd53247",
   "metadata": {},
   "outputs": [],
   "source": []
  },
  {
   "cell_type": "code",
   "execution_count": null,
   "id": "64492b8c",
   "metadata": {},
   "outputs": [],
   "source": []
  },
  {
   "cell_type": "markdown",
   "id": "03e23220",
   "metadata": {},
   "source": [
    "### Smooth SHAP values"
   ]
  },
  {
   "cell_type": "code",
   "execution_count": null,
   "id": "236dc771",
   "metadata": {},
   "outputs": [],
   "source": []
  },
  {
   "cell_type": "code",
   "execution_count": null,
   "id": "39d83d90",
   "metadata": {},
   "outputs": [],
   "source": []
  },
  {
   "cell_type": "markdown",
   "id": "d02a29da",
   "metadata": {},
   "source": [
    "## Follow approach from Mentch (lower sample size)\n",
    "`n_samples=100` and `n_features=10`"
   ]
  },
  {
   "cell_type": "code",
   "execution_count": 7,
   "id": "dc323d26",
   "metadata": {},
   "outputs": [],
   "source": [
    "# Create dataset\n",
    "X, y = make_friedman1(n_samples=100, n_features=10, noise=0.0, random_state=None)"
   ]
  },
  {
   "cell_type": "code",
   "execution_count": null,
   "id": "e49198ab",
   "metadata": {},
   "outputs": [],
   "source": []
  }
 ],
 "metadata": {
  "kernelspec": {
   "display_name": "Python 3 (ipykernel)",
   "language": "python",
   "name": "python3"
  },
  "language_info": {
   "codemirror_mode": {
    "name": "ipython",
    "version": 3
   },
   "file_extension": ".py",
   "mimetype": "text/x-python",
   "name": "python",
   "nbconvert_exporter": "python",
   "pygments_lexer": "ipython3",
   "version": "3.10.6"
  },
  "toc": {
   "base_numbering": 1,
   "nav_menu": {},
   "number_sections": true,
   "sideBar": true,
   "skip_h1_title": false,
   "title_cell": "Table of Contents",
   "title_sidebar": "Contents",
   "toc_cell": false,
   "toc_position": {},
   "toc_section_display": true,
   "toc_window_display": false
  }
 },
 "nbformat": 4,
 "nbformat_minor": 5
}
