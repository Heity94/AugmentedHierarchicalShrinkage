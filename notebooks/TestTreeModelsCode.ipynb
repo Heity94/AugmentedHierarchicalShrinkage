{
 "cells": [
  {
   "cell_type": "code",
   "execution_count": 3,
   "id": "ff178a76",
   "metadata": {},
   "outputs": [],
   "source": [
    "%load_ext autoreload\n",
    "%autoreload 2"
   ]
  },
  {
   "cell_type": "code",
   "execution_count": 4,
   "id": "f3ba2b47",
   "metadata": {},
   "outputs": [],
   "source": [
    "#Import Random Forest from scratch functions\n",
    "import sys\n",
    "import os\n",
    "\n",
    "module_path = os.path.abspath(os.path.join('..'))\n",
    "if module_path not in sys.path:\n",
    "    sys.path.append(module_path+\"/TreeModelsFromScratch\")\n",
    "\n",
    "from DecisionTree import DecisionTree\n",
    "from RandomForest import RandomForest"
   ]
  },
  {
   "cell_type": "code",
   "execution_count": 5,
   "id": "9593ff46",
   "metadata": {},
   "outputs": [],
   "source": [
    "import numpy as np\n",
    "import pandas as pd\n",
    "from sklearn.tree import DecisionTreeClassifier\n",
    "from sklearn import datasets\n",
    "from sklearn.model_selection import train_test_split"
   ]
  },
  {
   "cell_type": "markdown",
   "id": "c4f7c698",
   "metadata": {},
   "source": [
    "# Data"
   ]
  },
  {
   "cell_type": "code",
   "execution_count": 89,
   "id": "16b9f3fc",
   "metadata": {},
   "outputs": [],
   "source": [
    "# Load data\n",
    "data = datasets.load_breast_cancer()\n",
    "X = pd.DataFrame(data.data, columns=data.feature_names)\n",
    "y = data.target\n",
    "\n",
    "# Train test split\n",
    "X_train, X_test, y_train, y_test = train_test_split(X, y, test_size=0.2, random_state=1234)"
   ]
  },
  {
   "cell_type": "code",
   "execution_count": 90,
   "id": "ec414aa9",
   "metadata": {},
   "outputs": [],
   "source": [
    "def accuracy(y_true, y_pred):\n",
    "    accuracy = np.sum(y_true == y_pred) / len(y_true)\n",
    "    return accuracy"
   ]
  },
  {
   "cell_type": "markdown",
   "id": "9a6164d2",
   "metadata": {},
   "source": [
    "# Decision Tree from Scratch"
   ]
  },
  {
   "cell_type": "code",
   "execution_count": 92,
   "id": "087cd9f4",
   "metadata": {},
   "outputs": [],
   "source": [
    "# Train DecisionTree from scratch\n",
    "clf_tree = DecisionTree(max_depth=10, k=1, treetype=\"classification\", HS_lambda=10, HShrinkage=True, random_state=42)\n",
    "clf_tree.fit(X_train.values, y_train)\n",
    "\n",
    "# Predict\n",
    "predictions = clf_tree.predict(X_test)"
   ]
  },
  {
   "cell_type": "code",
   "execution_count": 93,
   "id": "bee95851",
   "metadata": {},
   "outputs": [
    {
     "data": {
      "text/plain": [
       "0.9122807017543859"
      ]
     },
     "execution_count": 93,
     "metadata": {},
     "output_type": "execute_result"
    }
   ],
   "source": [
    "acc = accuracy(y_test, predictions)\n",
    "acc"
   ]
  },
  {
   "cell_type": "code",
   "execution_count": 94,
   "id": "24431c53",
   "metadata": {},
   "outputs": [
    {
     "data": {
      "text/plain": [
       "[<DecisionTree.Node at 0x12a1ecd00>,\n",
       " <DecisionTree.Node at 0x12a1ef130>,\n",
       " <DecisionTree.Node at 0x12a1eec50>,\n",
       " <DecisionTree.Node at 0x12a99d7e0>,\n",
       " <DecisionTree.Node at 0x12a1ee7a0>,\n",
       " <DecisionTree.Node at 0x12a1eebf0>,\n",
       " <DecisionTree.Node at 0x12a1efa90>,\n",
       " <DecisionTree.Node at 0x12a1eece0>,\n",
       " <DecisionTree.Node at 0x12a1efe80>,\n",
       " <DecisionTree.Node at 0x12a1eeec0>,\n",
       " <DecisionTree.Node at 0x12a1efc70>,\n",
       " <DecisionTree.Node at 0x12a1ee830>,\n",
       " <DecisionTree.Node at 0x12a1ef0a0>,\n",
       " <DecisionTree.Node at 0x12a1ed180>,\n",
       " <DecisionTree.Node at 0x12a1eeb60>,\n",
       " <DecisionTree.Node at 0x12a1ee650>,\n",
       " <DecisionTree.Node at 0x12a1ef100>,\n",
       " <DecisionTree.Node at 0x12a1ee5f0>,\n",
       " <DecisionTree.Node at 0x12a1edf60>,\n",
       " <DecisionTree.Node at 0x12a1ed690>,\n",
       " <DecisionTree.Node at 0x12a1ee710>,\n",
       " <DecisionTree.Node at 0x12a1efd90>,\n",
       " <DecisionTree.Node at 0x12a1eff10>,\n",
       " <DecisionTree.Node at 0x12a1eccd0>,\n",
       " <DecisionTree.Node at 0x12a1edff0>,\n",
       " <DecisionTree.Node at 0x12a1ef670>,\n",
       " <DecisionTree.Node at 0x12a1ee980>,\n",
       " <DecisionTree.Node at 0x12a1ee560>,\n",
       " <DecisionTree.Node at 0x12a1ede70>,\n",
       " <DecisionTree.Node at 0x12a1effd0>,\n",
       " <DecisionTree.Node at 0x12a1eddb0>,\n",
       " <DecisionTree.Node at 0x12a1eec20>,\n",
       " <DecisionTree.Node at 0x12a1eed70>,\n",
       " <DecisionTree.Node at 0x12a1eef50>,\n",
       " <DecisionTree.Node at 0x12a1ef400>,\n",
       " <DecisionTree.Node at 0x12a1ef0d0>,\n",
       " <DecisionTree.Node at 0x12a1ecbe0>,\n",
       " <DecisionTree.Node at 0x12a1ecc10>,\n",
       " <DecisionTree.Node at 0x12a1ee9b0>,\n",
       " <DecisionTree.Node at 0x12a1eefb0>,\n",
       " <DecisionTree.Node at 0x12a1ef730>]"
      ]
     },
     "execution_count": 94,
     "metadata": {},
     "output_type": "execute_result"
    }
   ],
   "source": [
    "clf_tree.node_list"
   ]
  },
  {
   "cell_type": "code",
   "execution_count": 95,
   "id": "5e772806",
   "metadata": {},
   "outputs": [
    {
     "data": {
      "text/plain": [
       "[(0, 1, 2, 3),\n",
       " (0, 1, 2, 4, 5, 6),\n",
       " (0, 1, 2, 4, 5, 7, 8),\n",
       " (0, 1, 2, 4, 5, 7, 9, 10),\n",
       " (0, 1, 2, 4, 5, 7, 9, 11, 12),\n",
       " (0, 1, 2, 4, 5, 7, 9, 11, 13, 14),\n",
       " (0, 1, 2, 4, 5, 7, 9, 11, 13, 15, 16),\n",
       " (0, 1, 2, 4, 5, 7, 9, 11, 13, 15, 17),\n",
       " (0, 1, 2, 4, 18, 19, 20),\n",
       " (0, 1, 2, 4, 18, 19, 21),\n",
       " (0, 1, 2, 4, 18, 22),\n",
       " (0, 1, 23, 24),\n",
       " (0, 1, 23, 25, 26, 27, 28),\n",
       " (0, 1, 23, 25, 26, 27, 29),\n",
       " (0, 1, 23, 25, 26, 30),\n",
       " (0, 1, 23, 25, 31),\n",
       " (0, 32, 33, 34),\n",
       " (0, 32, 33, 35),\n",
       " (0, 32, 36, 37),\n",
       " (0, 32, 36, 38, 39),\n",
       " (0, 32, 36, 38, 40)]"
      ]
     },
     "execution_count": 95,
     "metadata": {},
     "output_type": "execute_result"
    }
   ],
   "source": [
    "clf_tree.decision_paths"
   ]
  },
  {
   "cell_type": "code",
   "execution_count": 97,
   "id": "9b4d91b7",
   "metadata": {},
   "outputs": [
    {
     "data": {
      "text/plain": [
       "['0->1->2->3',\n",
       " '0->1->2->4->5->6',\n",
       " '0->1->2->4->5->7->8',\n",
       " '0->1->2->4->5->7->9->10',\n",
       " '0->1->2->4->5->7->9->11->12',\n",
       " '0->1->2->4->5->7->9->11->13->14',\n",
       " '0->1->2->4->5->7->9->11->13->15->16',\n",
       " '0->1->2->4->5->7->9->11->13->15->17',\n",
       " '0->1->2->4->18->19->20',\n",
       " '0->1->2->4->18->19->21',\n",
       " '0->1->2->4->18->22',\n",
       " '0->1->23->24',\n",
       " '0->1->23->25->26->27->28',\n",
       " '0->1->23->25->26->27->29',\n",
       " '0->1->23->25->26->30',\n",
       " '0->1->23->25->31',\n",
       " '0->32->33->34',\n",
       " '0->32->33->35',\n",
       " '0->32->36->37',\n",
       " '0->32->36->38->39',\n",
       " '0->32->36->38->40']"
      ]
     },
     "execution_count": 97,
     "metadata": {},
     "output_type": "execute_result"
    }
   ],
   "source": [
    "clf_tree.decision_paths_str"
   ]
  },
  {
   "cell_type": "code",
   "execution_count": 98,
   "id": "062a996f",
   "metadata": {},
   "outputs": [
    {
     "data": {
      "text/plain": [
       "{0: {'node': <DecisionTree.Node at 0x12a1ecd00>,\n",
       "  'id': 0,\n",
       "  'depth': 0,\n",
       "  'feature': 27,\n",
       "  'is_leaf_node': False,\n",
       "  'threshold': 0.1417,\n",
       "  'gini': 0.4656629713898436,\n",
       "  'samples': 455,\n",
       "  'value': 1},\n",
       " 1: {'node': <DecisionTree.Node at 0x12a1ef130>,\n",
       "  'id': 1,\n",
       "  'depth': 1,\n",
       "  'feature': 23,\n",
       "  'is_leaf_node': False,\n",
       "  'threshold': 957.45,\n",
       "  'gini': 0.14161683277962347,\n",
       "  'samples': 301,\n",
       "  'value': 1},\n",
       " 2: {'node': <DecisionTree.Node at 0x12a1eec50>,\n",
       "  'id': 2,\n",
       "  'depth': 2,\n",
       "  'feature': 29,\n",
       "  'is_leaf_node': False,\n",
       "  'threshold': 0.055995,\n",
       "  'gini': 0.04858534615481677,\n",
       "  'samples': 282,\n",
       "  'value': 1},\n",
       " 3: {'node': <DecisionTree.Node at 0x12a99d7e0>,\n",
       "  'id': 3,\n",
       "  'depth': 3,\n",
       "  'feature': None,\n",
       "  'is_leaf_node': True,\n",
       "  'threshold': None,\n",
       "  'gini': 0.0,\n",
       "  'samples': 1,\n",
       "  'value': 0},\n",
       " 4: {'node': <DecisionTree.Node at 0x12a1ee7a0>,\n",
       "  'id': 4,\n",
       "  'depth': 3,\n",
       "  'feature': 22,\n",
       "  'is_leaf_node': False,\n",
       "  'threshold': 104.1,\n",
       "  'gini': 0.0419420437214032,\n",
       "  'samples': 281,\n",
       "  'value': 1},\n",
       " 5: {'node': <DecisionTree.Node at 0x12a1eebf0>,\n",
       "  'id': 5,\n",
       "  'depth': 4,\n",
       "  'feature': 23,\n",
       "  'is_leaf_node': False,\n",
       "  'threshold': 269.3,\n",
       "  'gini': 0.00787401574803153,\n",
       "  'samples': 254,\n",
       "  'value': 1},\n",
       " 6: {'node': <DecisionTree.Node at 0x12a1efa90>,\n",
       "  'id': 6,\n",
       "  'depth': 5,\n",
       "  'feature': None,\n",
       "  'is_leaf_node': True,\n",
       "  'threshold': None,\n",
       "  'gini': 0.0,\n",
       "  'samples': 8,\n",
       "  'value': 1},\n",
       " 7: {'node': <DecisionTree.Node at 0x12a1eece0>,\n",
       "  'id': 7,\n",
       "  'depth': 5,\n",
       "  'feature': 21,\n",
       "  'is_leaf_node': False,\n",
       "  'threshold': 16.33,\n",
       "  'gini': 0.008130081300812844,\n",
       "  'samples': 246,\n",
       "  'value': 1},\n",
       " 8: {'node': <DecisionTree.Node at 0x12a1efe80>,\n",
       "  'id': 8,\n",
       "  'depth': 6,\n",
       "  'feature': None,\n",
       "  'is_leaf_node': True,\n",
       "  'threshold': None,\n",
       "  'gini': 0.0,\n",
       "  'samples': 15,\n",
       "  'value': 1},\n",
       " 9: {'node': <DecisionTree.Node at 0x12a1eeec0>,\n",
       "  'id': 9,\n",
       "  'depth': 6,\n",
       "  'feature': 28,\n",
       "  'is_leaf_node': False,\n",
       "  'threshold': 0.2172,\n",
       "  'gini': 0.008658008658008485,\n",
       "  'samples': 231,\n",
       "  'value': 1},\n",
       " 10: {'node': <DecisionTree.Node at 0x12a1efc70>,\n",
       "  'id': 10,\n",
       "  'depth': 7,\n",
       "  'feature': None,\n",
       "  'is_leaf_node': True,\n",
       "  'threshold': None,\n",
       "  'gini': 0.0,\n",
       "  'samples': 18,\n",
       "  'value': 1},\n",
       " 11: {'node': <DecisionTree.Node at 0x12a1ee830>,\n",
       "  'id': 11,\n",
       "  'depth': 7,\n",
       "  'feature': 28,\n",
       "  'is_leaf_node': False,\n",
       "  'threshold': 0.22494999999999998,\n",
       "  'gini': 0.009389671361502165,\n",
       "  'samples': 213,\n",
       "  'value': 1},\n",
       " 12: {'node': <DecisionTree.Node at 0x12a1ef0a0>,\n",
       "  'id': 12,\n",
       "  'depth': 8,\n",
       "  'feature': None,\n",
       "  'is_leaf_node': True,\n",
       "  'threshold': None,\n",
       "  'gini': 0.0,\n",
       "  'samples': 10,\n",
       "  'value': 1},\n",
       " 13: {'node': <DecisionTree.Node at 0x12a1ed180>,\n",
       "  'id': 13,\n",
       "  'depth': 8,\n",
       "  'feature': 13,\n",
       "  'is_leaf_node': False,\n",
       "  'threshold': 14.99,\n",
       "  'gini': 0.00985221674876835,\n",
       "  'samples': 203,\n",
       "  'value': 1},\n",
       " 14: {'node': <DecisionTree.Node at 0x12a1eeb60>,\n",
       "  'id': 14,\n",
       "  'depth': 9,\n",
       "  'feature': None,\n",
       "  'is_leaf_node': True,\n",
       "  'threshold': None,\n",
       "  'gini': 0.0,\n",
       "  'samples': 47,\n",
       "  'value': 1},\n",
       " 15: {'node': <DecisionTree.Node at 0x12a1ee650>,\n",
       "  'id': 15,\n",
       "  'depth': 9,\n",
       "  'feature': 1,\n",
       "  'is_leaf_node': False,\n",
       "  'threshold': 13.879999999999999,\n",
       "  'gini': 0.012820512820512673,\n",
       "  'samples': 156,\n",
       "  'value': 1},\n",
       " 16: {'node': <DecisionTree.Node at 0x12a1ef100>,\n",
       "  'id': 16,\n",
       "  'depth': 10,\n",
       "  'feature': None,\n",
       "  'is_leaf_node': True,\n",
       "  'threshold': None,\n",
       "  'gini': 0.0,\n",
       "  'samples': 12,\n",
       "  'value': 1},\n",
       " 17: {'node': <DecisionTree.Node at 0x12a1ee5f0>,\n",
       "  'id': 17,\n",
       "  'depth': 10,\n",
       "  'feature': None,\n",
       "  'is_leaf_node': True,\n",
       "  'threshold': None,\n",
       "  'gini': 0.013888888888888761,\n",
       "  'samples': 144,\n",
       "  'value': 1},\n",
       " 18: {'node': <DecisionTree.Node at 0x12a1edf60>,\n",
       "  'id': 18,\n",
       "  'depth': 4,\n",
       "  'feature': 24,\n",
       "  'is_leaf_node': False,\n",
       "  'threshold': 0.136,\n",
       "  'gini': 0.3133903133903134,\n",
       "  'samples': 27,\n",
       "  'value': 1},\n",
       " 19: {'node': <DecisionTree.Node at 0x12a1ed690>,\n",
       "  'id': 19,\n",
       "  'depth': 5,\n",
       "  'feature': 17,\n",
       "  'is_leaf_node': False,\n",
       "  'threshold': 0.01692,\n",
       "  'gini': 0.1594202898550726,\n",
       "  'samples': 24,\n",
       "  'value': 1},\n",
       " 20: {'node': <DecisionTree.Node at 0x12a1ee710>,\n",
       "  'id': 20,\n",
       "  'depth': 6,\n",
       "  'feature': None,\n",
       "  'is_leaf_node': True,\n",
       "  'threshold': None,\n",
       "  'gini': 0.0,\n",
       "  'samples': 22,\n",
       "  'value': 1},\n",
       " 21: {'node': <DecisionTree.Node at 0x12a1efd90>,\n",
       "  'id': 21,\n",
       "  'depth': 6,\n",
       "  'feature': None,\n",
       "  'is_leaf_node': True,\n",
       "  'threshold': None,\n",
       "  'gini': 0.0,\n",
       "  'samples': 2,\n",
       "  'value': 0},\n",
       " 22: {'node': <DecisionTree.Node at 0x12a1eff10>,\n",
       "  'id': 22,\n",
       "  'depth': 5,\n",
       "  'feature': None,\n",
       "  'is_leaf_node': True,\n",
       "  'threshold': None,\n",
       "  'gini': 0.0,\n",
       "  'samples': 3,\n",
       "  'value': 0},\n",
       " 23: {'node': <DecisionTree.Node at 0x12a1eccd0>,\n",
       "  'id': 23,\n",
       "  'depth': 2,\n",
       "  'feature': 19,\n",
       "  'is_leaf_node': False,\n",
       "  'threshold': 0.0015485,\n",
       "  'gini': 0.28070175438596506,\n",
       "  'samples': 19,\n",
       "  'value': 0},\n",
       " 24: {'node': <DecisionTree.Node at 0x12a1edff0>,\n",
       "  'id': 24,\n",
       "  'depth': 3,\n",
       "  'feature': None,\n",
       "  'is_leaf_node': True,\n",
       "  'threshold': None,\n",
       "  'gini': 0.0,\n",
       "  'samples': 2,\n",
       "  'value': 1},\n",
       " 25: {'node': <DecisionTree.Node at 0x12a1ef670>,\n",
       "  'id': 25,\n",
       "  'depth': 3,\n",
       "  'feature': 22,\n",
       "  'is_leaf_node': False,\n",
       "  'threshold': 132.39999999999998,\n",
       "  'gini': 0.11764705882352933,\n",
       "  'samples': 17,\n",
       "  'value': 0},\n",
       " 26: {'node': <DecisionTree.Node at 0x12a1ee980>,\n",
       "  'id': 26,\n",
       "  'depth': 4,\n",
       "  'feature': 12,\n",
       "  'is_leaf_node': False,\n",
       "  'threshold': 2.5215,\n",
       "  'gini': 0.15384615384615366,\n",
       "  'samples': 13,\n",
       "  'value': 0},\n",
       " 27: {'node': <DecisionTree.Node at 0x12a1ee560>,\n",
       "  'id': 27,\n",
       "  'depth': 5,\n",
       "  'feature': 28,\n",
       "  'is_leaf_node': False,\n",
       "  'threshold': 0.24805,\n",
       "  'gini': 0.3999999999999998,\n",
       "  'samples': 5,\n",
       "  'value': 0},\n",
       " 28: {'node': <DecisionTree.Node at 0x12a1ede70>,\n",
       "  'id': 28,\n",
       "  'depth': 6,\n",
       "  'feature': None,\n",
       "  'is_leaf_node': True,\n",
       "  'threshold': None,\n",
       "  'gini': 0.0,\n",
       "  'samples': 1,\n",
       "  'value': 0},\n",
       " 29: {'node': <DecisionTree.Node at 0x12a1effd0>,\n",
       "  'id': 29,\n",
       "  'depth': 6,\n",
       "  'feature': None,\n",
       "  'is_leaf_node': True,\n",
       "  'threshold': None,\n",
       "  'gini': 0.0,\n",
       "  'samples': 4,\n",
       "  'value': 0},\n",
       " 30: {'node': <DecisionTree.Node at 0x12a1eddb0>,\n",
       "  'id': 30,\n",
       "  'depth': 5,\n",
       "  'feature': None,\n",
       "  'is_leaf_node': True,\n",
       "  'threshold': None,\n",
       "  'gini': 0.0,\n",
       "  'samples': 8,\n",
       "  'value': 0},\n",
       " 31: {'node': <DecisionTree.Node at 0x12a1eec20>,\n",
       "  'id': 31,\n",
       "  'depth': 4,\n",
       "  'feature': None,\n",
       "  'is_leaf_node': True,\n",
       "  'threshold': None,\n",
       "  'gini': 0.0,\n",
       "  'samples': 4,\n",
       "  'value': 0},\n",
       " 32: {'node': <DecisionTree.Node at 0x12a1eed70>,\n",
       "  'id': 32,\n",
       "  'depth': 1,\n",
       "  'feature': 13,\n",
       "  'is_leaf_node': False,\n",
       "  'threshold': 18.335,\n",
       "  'gini': 0.12223071046600464,\n",
       "  'samples': 154,\n",
       "  'value': 0},\n",
       " 33: {'node': <DecisionTree.Node at 0x12a1eef50>,\n",
       "  'id': 33,\n",
       "  'depth': 2,\n",
       "  'feature': 21,\n",
       "  'is_leaf_node': False,\n",
       "  'threshold': 28.380000000000003,\n",
       "  'gini': 0.4666666666666667,\n",
       "  'samples': 10,\n",
       "  'value': 1},\n",
       " 34: {'node': <DecisionTree.Node at 0x12a1ef400>,\n",
       "  'id': 34,\n",
       "  'depth': 3,\n",
       "  'feature': None,\n",
       "  'is_leaf_node': True,\n",
       "  'threshold': None,\n",
       "  'gini': 0.0,\n",
       "  'samples': 7,\n",
       "  'value': 1},\n",
       " 35: {'node': <DecisionTree.Node at 0x12a1ef0d0>,\n",
       "  'id': 35,\n",
       "  'depth': 3,\n",
       "  'feature': None,\n",
       "  'is_leaf_node': True,\n",
       "  'threshold': None,\n",
       "  'gini': 0.0,\n",
       "  'samples': 3,\n",
       "  'value': 0},\n",
       " 36: {'node': <DecisionTree.Node at 0x12a1ecbe0>,\n",
       "  'id': 36,\n",
       "  'depth': 2,\n",
       "  'feature': 22,\n",
       "  'is_leaf_node': False,\n",
       "  'threshold': 97.49000000000001,\n",
       "  'gini': 0.041083916083916136,\n",
       "  'samples': 144,\n",
       "  'value': 0},\n",
       " 37: {'node': <DecisionTree.Node at 0x12a1ecc10>,\n",
       "  'id': 37,\n",
       "  'depth': 3,\n",
       "  'feature': None,\n",
       "  'is_leaf_node': True,\n",
       "  'threshold': None,\n",
       "  'gini': 0.0,\n",
       "  'samples': 2,\n",
       "  'value': 1},\n",
       " 38: {'node': <DecisionTree.Node at 0x12a1ee9b0>,\n",
       "  'id': 38,\n",
       "  'depth': 3,\n",
       "  'feature': 26,\n",
       "  'is_leaf_node': False,\n",
       "  'threshold': 0.2034,\n",
       "  'gini': 0.014084507042253511,\n",
       "  'samples': 142,\n",
       "  'value': 0},\n",
       " 39: {'node': <DecisionTree.Node at 0x12a1eefb0>,\n",
       "  'id': 39,\n",
       "  'depth': 4,\n",
       "  'feature': None,\n",
       "  'is_leaf_node': True,\n",
       "  'threshold': None,\n",
       "  'gini': 0.0,\n",
       "  'samples': 1,\n",
       "  'value': 1},\n",
       " 40: {'node': <DecisionTree.Node at 0x12a1ef730>,\n",
       "  'id': 40,\n",
       "  'depth': 4,\n",
       "  'feature': None,\n",
       "  'is_leaf_node': True,\n",
       "  'threshold': None,\n",
       "  'gini': 0.0,\n",
       "  'samples': 141,\n",
       "  'value': 0}}"
      ]
     },
     "execution_count": 98,
     "metadata": {},
     "output_type": "execute_result"
    }
   ],
   "source": [
    "clf_tree.node_id_dict"
   ]
  },
  {
   "cell_type": "code",
   "execution_count": 99,
   "id": "a58a63d9",
   "metadata": {},
   "outputs": [],
   "source": [
    "# Train DecisionTree from scratch\n",
    "clf_tree_2 = DecisionTree(max_depth=10, k=1, treetype=\"classification\", random_state=42)\n",
    "clf_tree_2.fit(X_train.values, y_train)\n",
    "\n",
    "# Predict\n",
    "predictions2 = clf_tree_2.predict(X_test)"
   ]
  },
  {
   "cell_type": "code",
   "execution_count": 100,
   "id": "96572e5d",
   "metadata": {},
   "outputs": [
    {
     "name": "stdout",
     "output_type": "stream",
     "text": [
      "0.9122807017543859\n",
      "0.9122807017543859\n"
     ]
    }
   ],
   "source": [
    "acc2 = accuracy(y_test, predictions)\n",
    "print(acc)\n",
    "print(acc2)"
   ]
  },
  {
   "cell_type": "code",
   "execution_count": null,
   "id": "f8bb1b3f",
   "metadata": {},
   "outputs": [],
   "source": []
  },
  {
   "cell_type": "code",
   "execution_count": null,
   "id": "7f753444",
   "metadata": {},
   "outputs": [],
   "source": []
  },
  {
   "cell_type": "code",
   "execution_count": null,
   "id": "0842e1d1",
   "metadata": {},
   "outputs": [],
   "source": []
  },
  {
   "cell_type": "code",
   "execution_count": null,
   "id": "8ed032b6",
   "metadata": {},
   "outputs": [],
   "source": []
  },
  {
   "cell_type": "code",
   "execution_count": null,
   "id": "4a01e6d6",
   "metadata": {},
   "outputs": [],
   "source": []
  },
  {
   "cell_type": "code",
   "execution_count": 22,
   "id": "06b427ae",
   "metadata": {},
   "outputs": [],
   "source": [
    "# Filter for leaf nodes \n",
    "number_of_leafs = len([[node.id, node] for node in clf_tree.node_list if node.is_leaf_node()==True])"
   ]
  },
  {
   "cell_type": "code",
   "execution_count": 23,
   "id": "6ff478dc",
   "metadata": {},
   "outputs": [
    {
     "data": {
      "text/plain": [
       "<DecisionTree.DecisionTree at 0x12ef579d0>"
      ]
     },
     "execution_count": 23,
     "metadata": {},
     "output_type": "execute_result"
    }
   ],
   "source": [
    "clf_tree"
   ]
  },
  {
   "cell_type": "code",
   "execution_count": 24,
   "id": "8bc330bb",
   "metadata": {},
   "outputs": [
    {
     "data": {
      "text/plain": [
       "{0: {'node': <DecisionTree.Node at 0x12fc1f610>,\n",
       "  'id': 0,\n",
       "  'depth': 0,\n",
       "  'feature': 27,\n",
       "  'is_leaf_node': False,\n",
       "  'threshold': 0.1417,\n",
       "  'gini': 0.4656629713898436,\n",
       "  'samples': 455,\n",
       "  'value': 1},\n",
       " 1: {'node': <DecisionTree.Node at 0x12fc1f670>,\n",
       "  'id': 1,\n",
       "  'depth': 1,\n",
       "  'feature': 23,\n",
       "  'is_leaf_node': False,\n",
       "  'threshold': 957.45,\n",
       "  'gini': 0.14161683277962347,\n",
       "  'samples': 301,\n",
       "  'value': 1},\n",
       " 2: {'node': <DecisionTree.Node at 0x12fc1f700>,\n",
       "  'id': 2,\n",
       "  'depth': 2,\n",
       "  'feature': None,\n",
       "  'is_leaf_node': True,\n",
       "  'threshold': None,\n",
       "  'gini': 0.04858534615481677,\n",
       "  'samples': 282,\n",
       "  'value': 1},\n",
       " 3: {'node': <DecisionTree.Node at 0x12fc1f6a0>,\n",
       "  'id': 3,\n",
       "  'depth': 2,\n",
       "  'feature': None,\n",
       "  'is_leaf_node': True,\n",
       "  'threshold': None,\n",
       "  'gini': 0.28070175438596506,\n",
       "  'samples': 19,\n",
       "  'value': 0},\n",
       " 4: {'node': <DecisionTree.Node at 0x12fc1f730>,\n",
       "  'id': 4,\n",
       "  'depth': 1,\n",
       "  'feature': None,\n",
       "  'is_leaf_node': True,\n",
       "  'threshold': None,\n",
       "  'gini': 0.12223071046600464,\n",
       "  'samples': 154,\n",
       "  'value': 0}}"
      ]
     },
     "execution_count": 24,
     "metadata": {},
     "output_type": "execute_result"
    }
   ],
   "source": [
    "clf_tree.node_id_dict"
   ]
  },
  {
   "cell_type": "code",
   "execution_count": 25,
   "id": "f629e3b4",
   "metadata": {},
   "outputs": [
    {
     "data": {
      "text/plain": [
       "{0: {'node': <DecisionTree.Node at 0x12fc1f610>,\n",
       "  'id': 0,\n",
       "  'depth': 0,\n",
       "  'feature': 27,\n",
       "  'is_leaf_node': False,\n",
       "  'threshold': 0.1417,\n",
       "  'gini': 0.4656629713898436,\n",
       "  'samples': 455,\n",
       "  'value': 1},\n",
       " 1: {'node': <DecisionTree.Node at 0x12fc1f670>,\n",
       "  'id': 1,\n",
       "  'depth': 1,\n",
       "  'feature': 23,\n",
       "  'is_leaf_node': False,\n",
       "  'threshold': 957.45,\n",
       "  'gini': 0.14161683277962347,\n",
       "  'samples': 301,\n",
       "  'value': 1},\n",
       " 2: {'node': <DecisionTree.Node at 0x12fc1f700>,\n",
       "  'id': 2,\n",
       "  'depth': 2,\n",
       "  'feature': None,\n",
       "  'is_leaf_node': True,\n",
       "  'threshold': None,\n",
       "  'gini': 0.04858534615481677,\n",
       "  'samples': 282,\n",
       "  'value': 1},\n",
       " 3: {'node': <DecisionTree.Node at 0x12fc1f6a0>,\n",
       "  'id': 3,\n",
       "  'depth': 2,\n",
       "  'feature': None,\n",
       "  'is_leaf_node': True,\n",
       "  'threshold': None,\n",
       "  'gini': 0.28070175438596506,\n",
       "  'samples': 19,\n",
       "  'value': 0},\n",
       " 4: {'node': <DecisionTree.Node at 0x12fc1f730>,\n",
       "  'id': 4,\n",
       "  'depth': 1,\n",
       "  'feature': None,\n",
       "  'is_leaf_node': True,\n",
       "  'threshold': None,\n",
       "  'gini': 0.12223071046600464,\n",
       "  'samples': 154,\n",
       "  'value': 0}}"
      ]
     },
     "execution_count": 25,
     "metadata": {},
     "output_type": "execute_result"
    }
   ],
   "source": [
    "clf_tree.node_id_dict"
   ]
  },
  {
   "cell_type": "code",
   "execution_count": 26,
   "id": "b15525c9",
   "metadata": {},
   "outputs": [
    {
     "data": {
      "text/plain": [
       "{0: {'node': <DecisionTree.Node at 0x12fc1f610>,\n",
       "  'id': 0,\n",
       "  'depth': 0,\n",
       "  'feature': 27,\n",
       "  'is_leaf_node': False,\n",
       "  'threshold': 0.1417,\n",
       "  'gini': 0.4656629713898436,\n",
       "  'samples': 455,\n",
       "  'value': 1},\n",
       " 1: {'node': <DecisionTree.Node at 0x12fc1f670>,\n",
       "  'id': 1,\n",
       "  'depth': 1,\n",
       "  'feature': 23,\n",
       "  'is_leaf_node': False,\n",
       "  'threshold': 957.45,\n",
       "  'gini': 0.14161683277962347,\n",
       "  'samples': 301,\n",
       "  'value': 1},\n",
       " 2: {'node': <DecisionTree.Node at 0x12fc1f700>,\n",
       "  'id': 2,\n",
       "  'depth': 2,\n",
       "  'feature': None,\n",
       "  'is_leaf_node': True,\n",
       "  'threshold': None,\n",
       "  'gini': 0.04858534615481677,\n",
       "  'samples': 282,\n",
       "  'value': 1},\n",
       " 3: {'node': <DecisionTree.Node at 0x12fc1f6a0>,\n",
       "  'id': 3,\n",
       "  'depth': 2,\n",
       "  'feature': None,\n",
       "  'is_leaf_node': True,\n",
       "  'threshold': None,\n",
       "  'gini': 0.28070175438596506,\n",
       "  'samples': 19,\n",
       "  'value': 0},\n",
       " 4: {'node': <DecisionTree.Node at 0x12fc1f730>,\n",
       "  'id': 4,\n",
       "  'depth': 1,\n",
       "  'feature': None,\n",
       "  'is_leaf_node': True,\n",
       "  'threshold': None,\n",
       "  'gini': 0.12223071046600464,\n",
       "  'samples': 154,\n",
       "  'value': 0}}"
      ]
     },
     "execution_count": 26,
     "metadata": {},
     "output_type": "execute_result"
    }
   ],
   "source": [
    "clf_tree.node_id_dict"
   ]
  },
  {
   "cell_type": "code",
   "execution_count": 27,
   "id": "683741d2",
   "metadata": {},
   "outputs": [],
   "source": [
    "sk_cfl_tree = DecisionTreeClassifier(max_depth=2)\n",
    "sk_cfl_tree.fit(X_train, y_train)\n",
    "\n",
    "# Predict\n",
    "predictions1 = sk_cfl_tree.predict(X_test)"
   ]
  },
  {
   "cell_type": "code",
   "execution_count": 28,
   "id": "6eadcb3d",
   "metadata": {},
   "outputs": [
    {
     "data": {
      "image/png": "[encoded data removed]",
      "text/plain": [
       "<Figure size 640x480 with 1 Axes>"
      ]
     },
     "metadata": {},
     "output_type": "display_data"
    }
   ],
   "source": [
    "from sklearn.tree import plot_tree\n",
    "plot_tree(sk_cfl_tree, feature_names=X_train.columns);"
   ]
  },
  {
   "cell_type": "code",
   "execution_count": 29,
   "id": "6f5d5e55",
   "metadata": {},
   "outputs": [
    {
     "data": {
      "text/plain": [
       "[[2, <DecisionTree.Node at 0x12fc1f700>],\n",
       " [3, <DecisionTree.Node at 0x12fc1f6a0>],\n",
       " [4, <DecisionTree.Node at 0x12fc1f730>]]"
      ]
     },
     "execution_count": 29,
     "metadata": {},
     "output_type": "execute_result"
    }
   ],
   "source": [
    "# Filter for leaf nodes \n",
    "[[node.id, node] for node in clf_tree.node_list if node.is_leaf_node()==True]"
   ]
  },
  {
   "cell_type": "code",
   "execution_count": 30,
   "id": "47a215cf",
   "metadata": {},
   "outputs": [
    {
     "data": {
      "text/plain": [
       "0.9210526315789473"
      ]
     },
     "execution_count": 30,
     "metadata": {},
     "output_type": "execute_result"
    }
   ],
   "source": [
    "acc = accuracy(y_test, predictions1)\n",
    "acc"
   ]
  },
  {
   "cell_type": "code",
   "execution_count": 31,
   "id": "1ed86c6e",
   "metadata": {},
   "outputs": [
    {
     "name": "stdout",
     "output_type": "stream",
     "text": [
      "0 0 455 False 1\n",
      "1 1 301 False 1\n",
      "2 2 282 True 1\n",
      "3 2 19 True 0\n",
      "4 1 154 True 0\n"
     ]
    }
   ],
   "source": [
    "for i in clf_tree.node_list:\n",
    "    print(i.id, i.depth, i.samples, i.is_leaf_node(), i.value)"
   ]
  },
  {
   "cell_type": "code",
   "execution_count": 32,
   "id": "c00acec2",
   "metadata": {},
   "outputs": [],
   "source": [
    "# Train DecisionTree from scratch\n",
    "reg_tree = DecisionTree(max_depth=3, treetype=\"regression\")\n",
    "reg_tree.fit(X_train, y_train)\n",
    "\n",
    "# Predict\n",
    "predictions = reg_tree.predict(X_test)"
   ]
  },
  {
   "cell_type": "code",
   "execution_count": 33,
   "id": "15577729",
   "metadata": {},
   "outputs": [],
   "source": [
    "from sklearn.metrics import mean_squared_error"
   ]
  },
  {
   "cell_type": "code",
   "execution_count": 34,
   "id": "9258815b",
   "metadata": {},
   "outputs": [
    {
     "data": {
      "text/plain": [
       "0.09527350882662337"
      ]
     },
     "execution_count": 34,
     "metadata": {},
     "output_type": "execute_result"
    }
   ],
   "source": [
    "mean_squared_error(y_test, predictions)"
   ]
  },
  {
   "cell_type": "code",
   "execution_count": 35,
   "id": "6c5761c8",
   "metadata": {},
   "outputs": [
    {
     "name": "stdout",
     "output_type": "stream",
     "text": [
      "0 False 0 0.6329670329670329\n",
      "1 False 1 0.9235880398671097\n",
      "2 False 2 0.975177304964539\n",
      "3 True 3 0.9786476868327402\n",
      "4 True 3 0.0\n",
      "5 False 2 0.15789473684210525\n",
      "6 True 3 0.75\n",
      "7 True 3 0.0\n",
      "8 False 1 0.06493506493506493\n",
      "9 False 2 0.7\n",
      "10 True 3 1.0\n",
      "11 True 3 0.0\n",
      "12 False 2 0.020833333333333332\n",
      "13 True 3 1.0\n",
      "14 True 3 0.007042253521126761\n"
     ]
    }
   ],
   "source": [
    "for i in reg_tree.node_list:\n",
    "    print(i.id, i.is_leaf_node(), i.depth, i.value)"
   ]
  },
  {
   "cell_type": "markdown",
   "id": "928b30dd",
   "metadata": {},
   "source": [
    "# Comparison Dingyi vs. my_code"
   ]
  },
  {
   "cell_type": "code",
   "execution_count": 58,
   "id": "e59a0841",
   "metadata": {},
   "outputs": [],
   "source": [
    "import pyreadr\n",
    "from os import path"
   ]
  },
  {
   "cell_type": "code",
   "execution_count": 59,
   "id": "c0e5588f",
   "metadata": {},
   "outputs": [],
   "source": [
    "module_path = os.path.abspath(os.path.join('../..'))\n",
    "if module_path not in sys.path:\n",
    "    sys.path.append(module_path+\"/ExplainableAI/RF_from_scratch/utils\")"
   ]
  },
  {
   "cell_type": "code",
   "execution_count": 60,
   "id": "85c04a9a",
   "metadata": {},
   "outputs": [],
   "source": [
    "#Import Random Forest from scratch functions\n",
    "import sys\n",
    "import os\n",
    "\n",
    "module_path = os.path.abspath(os.path.join('..'))\n",
    "if module_path not in sys.path:\n",
    "    sys.path.append(module_path+\"/utils\")\n",
    "\n",
    "#tree functions\n",
    "from helper_function import check_purity, check_purity, classify_data, split_data, calculate_impurity, calculate_overall_impurity, determine_best_split, split_in_loop, get_potential_splits, create_leaf, determine_type_of_feature, decision_tree_algorithm, predict_example, decision_tree_predictions\n",
    "\n",
    "#RF functions\n",
    "from helper_function import _generate_sample_indices, _generate_unsampled_indices, random_forest_algorithm_oob, random_forest_predictions\n",
    "\n",
    "#Test/metrics functions?\n",
    "\n",
    "from helper_function import generate_mse_fi, generate_mse_sklearn, easy_for_test, num_leaf_sklearn"
   ]
  },
  {
   "cell_type": "code",
   "execution_count": 62,
   "id": "b1ff4994",
   "metadata": {},
   "outputs": [
    {
     "ename": "AttributeError",
     "evalue": "module 'posixpath' has no attribute 'cwd'",
     "output_type": "error",
     "traceback": [
      "\u001b[0;31m---------------------------------------------------------------------------\u001b[0m",
      "\u001b[0;31mAttributeError\u001b[0m                            Traceback (most recent call last)",
      "Cell \u001b[0;32mIn [62], line 2\u001b[0m\n\u001b[1;32m      1\u001b[0m \u001b[38;5;66;03m# Read data\u001b[39;00m\n\u001b[0;32m----> 2\u001b[0m data \u001b[38;5;241m=\u001b[39m pyreadr\u001b[38;5;241m.\u001b[39mread_r(os\u001b[38;5;241m.\u001b[39mpath\u001b[38;5;241m.\u001b[39mjoin(os\u001b[38;5;241m.\u001b[39mpath\u001b[38;5;241m.\u001b[39mdirname(os\u001b[38;5;241m.\u001b[39mpath\u001b[38;5;241m.\u001b[39mdirname(path\u001b[38;5;241m.\u001b[39mcwd())),\u001b[38;5;124m'\u001b[39m\u001b[38;5;124mExplainableAI/ConferenceSubmission/Data/SRData.RData\u001b[39m\u001b[38;5;124m'\u001b[39m)) \u001b[38;5;66;03m# regression\u001b[39;00m\n\u001b[1;32m      5\u001b[0m X0 \u001b[38;5;241m=\u001b[39m data[\u001b[38;5;124m'\u001b[39m\u001b[38;5;124mboston\u001b[39m\u001b[38;5;124m'\u001b[39m][\u001b[38;5;241m0\u001b[39m:\u001b[38;5;241m50\u001b[39m]\n\u001b[1;32m      6\u001b[0m X1 \u001b[38;5;241m=\u001b[39m X0\u001b[38;5;241m.\u001b[39mselect_dtypes(include\u001b[38;5;241m=\u001b[39mnp\u001b[38;5;241m.\u001b[39mnumber)\u001b[38;5;241m.\u001b[39miloc[:,:\u001b[38;5;241m-\u001b[39m\u001b[38;5;241m1\u001b[39m] \u001b[38;5;66;03m# numerical features exclude the last column (y)\u001b[39;00m\n",
      "\u001b[0;31mAttributeError\u001b[0m: module 'posixpath' has no attribute 'cwd'"
     ]
    }
   ],
   "source": [
    "# Read data\n",
    "data = pyreadr.read_r(os.path.join(os.path.dirname(os.path.dirname(Path.cwd())),'ExplainableAI/ConferenceSubmission/Data/SRData.RData')) # regression\n",
    "\n",
    "\n",
    "X0 = data['boston'][0:50]\n",
    "X1 = X0.select_dtypes(include=np.number).iloc[:,:-1] # numerical features exclude the last column (y)\n",
    "if len(X0.select_dtypes(include='category').columns) !=0: # recognize categorical feature\n",
    "    X2 = pd.get_dummies(X0[(X0.select_dtypes(include='category')).columns], drop_first=True) # change it into one_hot_encoding\n",
    "else: X2 = pd.DataFrame()\n",
    "\n",
    "X = pd.concat(objs=[X2, X1], axis=1) # combine dummies and numerical features\n",
    "y = data['boston'].iloc[0:50,-1] # the last column is y"
   ]
  },
  {
   "cell_type": "code",
   "execution_count": 155,
   "id": "3c264af2",
   "metadata": {},
   "outputs": [
    {
     "data": {
      "text/plain": [
       "20.502000000000002"
      ]
     },
     "execution_count": 155,
     "metadata": {},
     "output_type": "execute_result"
    }
   ],
   "source": [
    "np.mean(y)"
   ]
  },
  {
   "cell_type": "code",
   "execution_count": 175,
   "id": "ca89dc89",
   "metadata": {},
   "outputs": [
    {
     "name": "stdout",
     "output_type": "stream",
     "text": [
      "6.605693862433863\n"
     ]
    }
   ],
   "source": [
    "# Fit regression model sklearn\n",
    "regr_1 = DecisionTreeRegressor(max_depth=2, random_state=42)\n",
    "regr_1.fit(X, y)\n",
    "\n",
    "# Predict\n",
    "mse_sklearn = mean_squared_error(y, regr_1.predict(X))\n",
    "print(mse_sklearn)"
   ]
  },
  {
   "cell_type": "code",
   "execution_count": 192,
   "id": "515f1ba9",
   "metadata": {},
   "outputs": [
    {
     "data": {
      "text/plain": [
       "[Text(0.5, 0.8333333333333334, 'X[12] <= 6.195\\nsquared_error = 35.567\\nsamples = 50\\nvalue = 20.502'),\n",
       " Text(0.25, 0.5, 'X[5] <= 6.884\\nsquared_error = 18.414\\nsamples = 9\\nvalue = 30.511'),\n",
       " Text(0.125, 0.16666666666666666, 'squared_error = 5.87\\nsamples = 5\\nvalue = 27.08'),\n",
       " Text(0.375, 0.16666666666666666, 'squared_error = 0.985\\nsamples = 4\\nvalue = 34.8'),\n",
       " Text(0.75, 0.5, 'X[0] <= 0.2\\nsquared_error = 12.514\\nsamples = 41\\nvalue = 18.305'),\n",
       " Text(0.625, 0.16666666666666666, 'squared_error = 5.986\\nsamples = 14\\nvalue = 21.493'),\n",
       " Text(0.875, 0.16666666666666666, 'squared_error = 7.896\\nsamples = 27\\nvalue = 16.652')]"
      ]
     },
     "execution_count": 192,
     "metadata": {},
     "output_type": "execute_result"
    },
    {
     "data": {
      "image/png": "[encoded data removed]",
      "text/plain": [
       "<Figure size 1920x1440 with 1 Axes>"
      ]
     },
     "metadata": {},
     "output_type": "display_data"
    }
   ],
   "source": [
    "plot_tree(regr_1)"
   ]
  },
  {
   "cell_type": "code",
   "execution_count": 174,
   "id": "14cfb599",
   "metadata": {},
   "outputs": [
    {
     "name": "stdout",
     "output_type": "stream",
     "text": [
      "8.116444008152804\n"
     ]
    }
   ],
   "source": [
    "# Fit Tree with self-made code\n",
    "\n",
    "sub_tree, feature_gain, y_above_list = decision_tree_algorithm(X, y, max_depth=2, n=len(y), random_state=42)# \n",
    "y_2 = decision_tree_predictions(X, sub_tree)\n",
    "\n",
    "mse_from_scratch = mean_squared_error(y, y_2)\n",
    "print(mse_from_scratch)"
   ]
  },
  {
   "cell_type": "code",
   "execution_count": 158,
   "id": "7cc2e00d",
   "metadata": {},
   "outputs": [
    {
     "name": "stdout",
     "output_type": "stream",
     "text": [
      "{'lstat <= 6.195 with num of samples 50 and current y 20.502000000000002 and above y {0: [0, 50, 20.502000000000002]}': [{'rm <= 6.884 with num of samples 9 and current y 30.511111111111113 and above y {0: [0, 50, 20.502000000000002], 1: [1, 9, 30.511111111111113]}': [27.217662768031193, 30.87450487329435]}, {'crim <= 0.1998 with num of samples 41 and current y 18.304878048780488 and above y {0: [0, 50, 20.502000000000002], 1: [1, 9, 30.511111111111113], 2: [2, 5, 27.217662768031193], 3: [2, 4, 30.87450487329435], 4: [1, 41, 18.304878048780488]}': [21.23395019471203, 17.34216162743327]}]}\n"
     ]
    }
   ],
   "source": [
    "# What is sub_tree ? \n",
    "print(sub_tree)"
   ]
  },
  {
   "cell_type": "code",
   "execution_count": 159,
   "id": "a55df95a",
   "metadata": {},
   "outputs": [
    {
     "data": {
      "text/plain": [
       "[[0, 'lstat', 0.7598857959183718],\n",
       " [0, 'rm', -1.1247666666666674],\n",
       " -1,\n",
       " -1,\n",
       " [0, 'crim', 0.29531000000000174],\n",
       " -1,\n",
       " -1]"
      ]
     },
     "execution_count": 159,
     "metadata": {},
     "output_type": "execute_result"
    }
   ],
   "source": [
    "# What is feature gain?\n",
    "feature_gain"
   ]
  },
  {
   "cell_type": "code",
   "execution_count": 160,
   "id": "be83cf62",
   "metadata": {},
   "outputs": [
    {
     "data": {
      "text/plain": [
       "{0: [0, 50, 20.502000000000002],\n",
       " 1: [1, 9, 30.511111111111113],\n",
       " 2: [2, 5, 27.217662768031193],\n",
       " 3: [2, 4, 30.87450487329435],\n",
       " 4: [1, 41, 18.304878048780488],\n",
       " 5: [2, 14, 21.23395019471203],\n",
       " 6: [2, 27, 17.34216162743327]}"
      ]
     },
     "execution_count": 160,
     "metadata": {},
     "output_type": "execute_result"
    }
   ],
   "source": [
    "# What is y above list ? \n",
    "y_above_list"
   ]
  },
  {
   "cell_type": "code",
   "execution_count": 161,
   "id": "19dfeb64",
   "metadata": {},
   "outputs": [],
   "source": [
    "t = X.values.copy()"
   ]
  },
  {
   "cell_type": "code",
   "execution_count": 162,
   "id": "549f6bb1",
   "metadata": {},
   "outputs": [
    {
     "data": {
      "text/plain": [
       "True"
      ]
     },
     "execution_count": 162,
     "metadata": {},
     "output_type": "execute_result"
    }
   ],
   "source": [
    "isinstance(X, pd.DataFrame)"
   ]
  },
  {
   "cell_type": "code",
   "execution_count": 163,
   "id": "03e4ce29",
   "metadata": {},
   "outputs": [
    {
     "data": {
      "text/plain": [
       "'lstat'"
      ]
     },
     "execution_count": 163,
     "metadata": {},
     "output_type": "execute_result"
    }
   ],
   "source": [
    "X.columns[12]"
   ]
  },
  {
   "cell_type": "code",
   "execution_count": 69,
   "id": "35ce8fa6",
   "metadata": {},
   "outputs": [],
   "source": [
    "X, y = datasets.load_boston(return_X_y=True)"
   ]
  },
  {
   "cell_type": "code",
   "execution_count": 78,
   "id": "902b80aa",
   "metadata": {},
   "outputs": [],
   "source": [
    "# Train DecisionTree from scratch\n",
    "reg_treee = DecisionTree(max_depth=2, treetype=\"regression\", random_state=42)\n",
    "reg_treee.fit(X, y)\n",
    "\n",
    "# Predict\n",
    "predictions = reg_treee.predict(X)"
   ]
  },
  {
   "cell_type": "code",
   "execution_count": 79,
   "id": "e02d2e43",
   "metadata": {},
   "outputs": [],
   "source": [
    "from sklearn.metrics import mean_squared_error"
   ]
  },
  {
   "cell_type": "code",
   "execution_count": 80,
   "id": "a86aec55",
   "metadata": {},
   "outputs": [
    {
     "data": {
      "text/plain": [
       "25.69946745212606"
      ]
     },
     "execution_count": 80,
     "metadata": {},
     "output_type": "execute_result"
    }
   ],
   "source": [
    "mean_squared_error(y, predictions)"
   ]
  },
  {
   "cell_type": "code",
   "execution_count": 76,
   "id": "37a5ea27",
   "metadata": {},
   "outputs": [
    {
     "name": "stdout",
     "output_type": "stream",
     "text": [
      "0 0 506 False 22.532806324110677 None 6.941\n",
      "1 1 430 False 19.933720930232557 None 14.399999999999999\n",
      "2 2 255 True 23.347004376124353 None None\n",
      "3 2 175 True 14.972675637668418 None None\n",
      "4 1 76 False 37.238157894736844 None 7.436999999999999\n",
      "5 2 46 True 32.15059876754121 None None\n",
      "6 2 30 True 44.9656034729807 None None\n"
     ]
    }
   ],
   "source": [
    "for i in reg_treee.node_list:\n",
    "    print(i.id, i.depth, i.samples, i.is_leaf_node(), i.value, i.feature_name, i.threshold)"
   ]
  },
  {
   "cell_type": "code",
   "execution_count": 82,
   "id": "cba1d793",
   "metadata": {},
   "outputs": [
    {
     "data": {
      "text/plain": [
       "[(0, 1, 2), (0, 1, 3), (0, 4, 5), (0, 4, 6)]"
      ]
     },
     "execution_count": 82,
     "metadata": {},
     "output_type": "execute_result"
    }
   ],
   "source": [
    "reg_treee.decision_paths"
   ]
  },
  {
   "cell_type": "code",
   "execution_count": 81,
   "id": "898e9625",
   "metadata": {},
   "outputs": [
    {
     "data": {
      "text/plain": [
       "{0: {'node': <DecisionTree.Node at 0x12a7b6650>,\n",
       "  'id': 0,\n",
       "  'depth': 0,\n",
       "  'feature': 5,\n",
       "  'is_leaf_node': False,\n",
       "  'threshold': 6.941,\n",
       "  'gini': 84.41955615616556,\n",
       "  'samples': 506,\n",
       "  'value': 22.532806324110677},\n",
       " 1: {'node': <DecisionTree.Node at 0x12a7b6bc0>,\n",
       "  'id': 1,\n",
       "  'depth': 1,\n",
       "  'feature': 12,\n",
       "  'is_leaf_node': False,\n",
       "  'threshold': 14.399999999999999,\n",
       "  'gini': 40.2728396430503,\n",
       "  'samples': 430,\n",
       "  'value': 19.933720930232557},\n",
       " 2: {'node': <DecisionTree.Node at 0x12a7b64a0>,\n",
       "  'id': 2,\n",
       "  'depth': 2,\n",
       "  'feature': None,\n",
       "  'is_leaf_node': True,\n",
       "  'threshold': None,\n",
       "  'gini': 26.008696039984624,\n",
       "  'samples': 255,\n",
       "  'value': 23.349803921568625},\n",
       " 3: {'node': <DecisionTree.Node at 0x12a7b72e0>,\n",
       "  'id': 3,\n",
       "  'depth': 2,\n",
       "  'feature': None,\n",
       "  'is_leaf_node': True,\n",
       "  'threshold': None,\n",
       "  'gini': 19.27572114285714,\n",
       "  'samples': 175,\n",
       "  'value': 14.956000000000001},\n",
       " 4: {'node': <DecisionTree.Node at 0x12a7b4c10>,\n",
       "  'id': 4,\n",
       "  'depth': 1,\n",
       "  'feature': 5,\n",
       "  'is_leaf_node': False,\n",
       "  'threshold': 7.436999999999999,\n",
       "  'gini': 79.72920186980609,\n",
       "  'samples': 76,\n",
       "  'value': 37.238157894736844},\n",
       " 5: {'node': <DecisionTree.Node at 0x12a7b75e0>,\n",
       "  'id': 5,\n",
       "  'depth': 2,\n",
       "  'feature': None,\n",
       "  'is_leaf_node': True,\n",
       "  'threshold': None,\n",
       "  'gini': 41.295916824196595,\n",
       "  'samples': 46,\n",
       "  'value': 32.11304347826087},\n",
       " 6: {'node': <DecisionTree.Node at 0x12a7b52d0>,\n",
       "  'id': 6,\n",
       "  'depth': 2,\n",
       "  'feature': None,\n",
       "  'is_leaf_node': True,\n",
       "  'threshold': None,\n",
       "  'gini': 36.62832222222222,\n",
       "  'samples': 30,\n",
       "  'value': 45.09666666666667}}"
      ]
     },
     "execution_count": 81,
     "metadata": {},
     "output_type": "execute_result"
    }
   ],
   "source": [
    "reg_treee.node_id_dict"
   ]
  },
  {
   "cell_type": "code",
   "execution_count": 77,
   "id": "525f3713",
   "metadata": {},
   "outputs": [
    {
     "data": {
      "text/plain": [
       "{0: {'node': <DecisionTree.Node at 0x12a7b4d90>,\n",
       "  'id': 0,\n",
       "  'depth': 0,\n",
       "  'feature': 5,\n",
       "  'is_leaf_node': False,\n",
       "  'threshold': 6.941,\n",
       "  'gini': 84.41955615616556,\n",
       "  'samples': 506,\n",
       "  'value': 22.532806324110677},\n",
       " 1: {'node': <DecisionTree.Node at 0x12a7b6f50>,\n",
       "  'id': 1,\n",
       "  'depth': 1,\n",
       "  'feature': 12,\n",
       "  'is_leaf_node': False,\n",
       "  'threshold': 14.399999999999999,\n",
       "  'gini': 40.2728396430503,\n",
       "  'samples': 430,\n",
       "  'value': 19.933720930232557},\n",
       " 2: {'node': <DecisionTree.Node at 0x12a7b4940>,\n",
       "  'id': 2,\n",
       "  'depth': 2,\n",
       "  'feature': None,\n",
       "  'is_leaf_node': True,\n",
       "  'threshold': None,\n",
       "  'gini': 26.008696039984624,\n",
       "  'samples': 255,\n",
       "  'value': 23.347004376124353},\n",
       " 3: {'node': <DecisionTree.Node at 0x12a7b74f0>,\n",
       "  'id': 3,\n",
       "  'depth': 2,\n",
       "  'feature': None,\n",
       "  'is_leaf_node': True,\n",
       "  'threshold': None,\n",
       "  'gini': 19.27572114285714,\n",
       "  'samples': 175,\n",
       "  'value': 14.972675637668418},\n",
       " 4: {'node': <DecisionTree.Node at 0x12a7b6740>,\n",
       "  'id': 4,\n",
       "  'depth': 1,\n",
       "  'feature': 5,\n",
       "  'is_leaf_node': False,\n",
       "  'threshold': 7.436999999999999,\n",
       "  'gini': 79.72920186980609,\n",
       "  'samples': 76,\n",
       "  'value': 37.238157894736844},\n",
       " 5: {'node': <DecisionTree.Node at 0x12a7b77f0>,\n",
       "  'id': 5,\n",
       "  'depth': 2,\n",
       "  'feature': None,\n",
       "  'is_leaf_node': True,\n",
       "  'threshold': None,\n",
       "  'gini': 41.295916824196595,\n",
       "  'samples': 46,\n",
       "  'value': 32.15059876754121},\n",
       " 6: {'node': <DecisionTree.Node at 0x12a7b6a10>,\n",
       "  'id': 6,\n",
       "  'depth': 2,\n",
       "  'feature': None,\n",
       "  'is_leaf_node': True,\n",
       "  'threshold': None,\n",
       "  'gini': 36.62832222222222,\n",
       "  'samples': 30,\n",
       "  'value': 44.9656034729807}}"
      ]
     },
     "execution_count": 77,
     "metadata": {},
     "output_type": "execute_result"
    }
   ],
   "source": [
    "reg_treee.node_id_dict"
   ]
  },
  {
   "cell_type": "markdown",
   "id": "cbdde4d0",
   "metadata": {},
   "source": [
    "# RandomForest from Scratch"
   ]
  },
  {
   "cell_type": "code",
   "execution_count": 83,
   "id": "83dfcca6",
   "metadata": {},
   "outputs": [
    {
     "name": "stderr",
     "output_type": "stream",
     "text": [
      "/Users/philippheitmann/code/Heity94/SelectiveHierarchicalShrinkage/TreeModelsFromScratch/RandomForest.py:95: UserWarning: 116 out of 455 samples do not have OOB scores. This probably means too few trees were used to compute any reliable OOB estimates. These samples were dropped before computing the oob_score\n",
      "  warn(message)\n"
     ]
    }
   ],
   "source": [
    "# Train RandomForest from scratch\n",
    "rf = RandomForest(n_trees=3, treetype=\"regression\", random_state=42, HS_lambda=10, HShrinkage=True)\n",
    "rf.fit(X_train, y_train)"
   ]
  },
  {
   "cell_type": "code",
   "execution_count": 84,
   "id": "02a636db",
   "metadata": {},
   "outputs": [
    {
     "name": "stdout",
     "output_type": "stream",
     "text": [
      "regression\n"
     ]
    },
    {
     "data": {
      "text/plain": [
       "0.2625106325202247"
      ]
     },
     "execution_count": 84,
     "metadata": {},
     "output_type": "execute_result"
    }
   ],
   "source": [
    "print(rf.treetype)\n",
    "rf.oob_score"
   ]
  },
  {
   "cell_type": "code",
   "execution_count": 85,
   "id": "c1e5965b",
   "metadata": {},
   "outputs": [],
   "source": [
    "predictions = rf.predict(X_test)"
   ]
  },
  {
   "cell_type": "code",
   "execution_count": 88,
   "id": "68b2dd9e",
   "metadata": {},
   "outputs": [
    {
     "data": {
      "text/plain": [
       "0.268560526390761"
      ]
     },
     "execution_count": 88,
     "metadata": {},
     "output_type": "execute_result"
    }
   ],
   "source": [
    "mean_squared_error(y_test, predictions, squared=False)"
   ]
  },
  {
   "cell_type": "code",
   "execution_count": 87,
   "id": "d16223c6",
   "metadata": {},
   "outputs": [
    {
     "data": {
      "text/plain": [
       "0.268560526390761"
      ]
     },
     "execution_count": 87,
     "metadata": {},
     "output_type": "execute_result"
    }
   ],
   "source": [
    "mean_squared_error(y_test, predictions, squared=False)"
   ]
  },
  {
   "cell_type": "code",
   "execution_count": null,
   "id": "7bc00cb7",
   "metadata": {},
   "outputs": [],
   "source": []
  },
  {
   "cell_type": "code",
   "execution_count": 854,
   "id": "f1de891d",
   "metadata": {},
   "outputs": [
    {
     "name": "stderr",
     "output_type": "stream",
     "text": [
      "/Users/philippheitmann/code/Heity94/TreeModelsFromScratch/RandomForest.py:80: UserWarning: 6 out of 455 samples do not have OOB scores. This probably means too few trees were used to compute any reliable OOB estimates. These samples were dropped before computing the oob_score\n",
      "  mask[nan_indxs] = False\n"
     ]
    }
   ],
   "source": [
    "# Train RandomForest from scratch\n",
    "rf = RandomForest(n_trees=10, treetype=\"classification\")\n",
    "rf.fit(X_train, y_train)"
   ]
  },
  {
   "cell_type": "code",
   "execution_count": 855,
   "id": "c2680d27",
   "metadata": {},
   "outputs": [
    {
     "name": "stdout",
     "output_type": "stream",
     "text": [
      "classification\n"
     ]
    },
    {
     "data": {
      "text/plain": [
       "0.9398663697104677"
      ]
     },
     "execution_count": 855,
     "metadata": {},
     "output_type": "execute_result"
    }
   ],
   "source": [
    "print(rf.treetype)\n",
    "rf.oob_score"
   ]
  },
  {
   "cell_type": "code",
   "execution_count": 856,
   "id": "214ffbfc",
   "metadata": {},
   "outputs": [],
   "source": [
    "predictions = rf.predict(X_test)"
   ]
  },
  {
   "cell_type": "code",
   "execution_count": 857,
   "id": "b5ef9eb3",
   "metadata": {},
   "outputs": [
    {
     "data": {
      "text/plain": [
       "array([1, 1, 1, 1, 1, 1, 1, 1, 0, 0, 0, 1, 1, 0, 1, 0, 1, 1, 1, 0, 1, 0,\n",
       "       0, 0, 0, 1, 0, 1, 1, 1, 1, 1, 0, 1, 1, 0, 1, 0, 1, 1, 0, 1, 0, 1,\n",
       "       1, 1, 1, 1, 0, 1, 0, 1, 1, 0, 1, 1, 1, 1, 1, 0, 1, 1, 1, 1, 1, 0,\n",
       "       0, 1, 1, 1, 1, 0, 1, 0, 1, 1, 1, 0, 1, 0, 1, 1, 0, 0, 0, 0, 0, 0,\n",
       "       0, 1, 1, 1, 1, 0, 0, 1, 1, 0, 1, 0, 0, 0, 1, 1, 0, 1, 1, 0, 0, 1,\n",
       "       0, 1, 0, 0])"
      ]
     },
     "execution_count": 857,
     "metadata": {},
     "output_type": "execute_result"
    }
   ],
   "source": [
    "predictions"
   ]
  },
  {
   "cell_type": "code",
   "execution_count": 805,
   "id": "67edc35f",
   "metadata": {},
   "outputs": [
    {
     "data": {
      "text/plain": [
       "0.9298245614035088"
      ]
     },
     "execution_count": 805,
     "metadata": {},
     "output_type": "execute_result"
    }
   ],
   "source": [
    "accuracy_score(y_test, predictions)"
   ]
  },
  {
   "cell_type": "code",
   "execution_count": null,
   "id": "8d7f251f",
   "metadata": {},
   "outputs": [],
   "source": []
  }
 ],
 "metadata": {
  "kernelspec": {
   "display_name": "Python 3 (ipykernel)",
   "language": "python",
   "name": "python3"
  },
  "language_info": {
   "codemirror_mode": {
    "name": "ipython",
    "version": 3
   },
   "file_extension": ".py",
   "mimetype": "text/x-python",
   "name": "python",
   "nbconvert_exporter": "python",
   "pygments_lexer": "ipython3",
   "version": "3.10.6"
  },
  "toc": {
   "base_numbering": 1,
   "nav_menu": {},
   "number_sections": true,
   "sideBar": true,
   "skip_h1_title": false,
   "title_cell": "Table of Contents",
   "title_sidebar": "Contents",
   "toc_cell": false,
   "toc_position": {},
   "toc_section_display": true,
   "toc_window_display": true
  }
 },
 "nbformat": 4,
 "nbformat_minor": 5
}
