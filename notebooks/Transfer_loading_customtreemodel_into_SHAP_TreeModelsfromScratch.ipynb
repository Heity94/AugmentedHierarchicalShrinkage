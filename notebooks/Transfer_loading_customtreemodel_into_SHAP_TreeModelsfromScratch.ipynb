{
 "cells": [
  {
   "cell_type": "code",
   "execution_count": 1,
   "id": "ed0f546a",
   "metadata": {},
   "outputs": [],
   "source": [
    "%load_ext autoreload\n",
    "%autoreload 2"
   ]
  },
  {
   "cell_type": "code",
   "execution_count": 2,
   "id": "2b9ca52b",
   "metadata": {},
   "outputs": [],
   "source": [
    "#Import Tree Models from scratch functions\n",
    "import sys\n",
    "import os\n",
    "\n",
    "module_path = os.path.abspath(os.path.join('..'))\n",
    "if module_path not in sys.path:\n",
    "    sys.path.append(module_path+\"/TreeModelsFromScratch\")\n",
    "\n",
    "from DecisionTree import DecisionTree\n",
    "from RandomForest import RandomForest"
   ]
  },
  {
   "cell_type": "code",
   "execution_count": 3,
   "id": "2fadb786",
   "metadata": {},
   "outputs": [],
   "source": [
    "import numpy as np\n",
    "import pandas as pd\n",
    "import scipy\n",
    "import shap\n",
    "import sklearn\n",
    "import graphviz"
   ]
  },
  {
   "cell_type": "markdown",
   "id": "93c00edb",
   "metadata": {},
   "source": [
    "# Regression"
   ]
  },
  {
   "cell_type": "markdown",
   "id": "553aa319",
   "metadata": {},
   "source": [
    "## Example of loading a custom tree model into SHAP\n",
    "https://shap.readthedocs.io/en/latest/example_notebooks/tabular_examples/tree_based_models/Example%20of%20loading%20a%20custom%20tree%20model%20into%20SHAP.html"
   ]
  },
  {
   "cell_type": "code",
   "execution_count": null,
   "id": "d6bddfdb",
   "metadata": {},
   "outputs": [],
   "source": [
    "X,y = shap.datasets.boston()\n",
    "\n",
    "orig_model = sklearn.tree.DecisionTreeRegressor(max_depth=2, random_state=42)\n",
    "orig_model.fit(X, y)"
   ]
  },
  {
   "cell_type": "code",
   "execution_count": null,
   "id": "c6e31b54",
   "metadata": {},
   "outputs": [],
   "source": [
    "dot_data = sklearn.tree.export_graphviz(orig_model, node_ids=True, out_file=None, filled=True, rounded=True, special_characters=True)\n",
    "graph = graphviz.Source(dot_data)\n",
    "graph"
   ]
  },
  {
   "cell_type": "code",
   "execution_count": null,
   "id": "361bed3e",
   "metadata": {},
   "outputs": [],
   "source": [
    "# extract the arrays that define the tree\n",
    "children_left = orig_model.tree_.children_left\n",
    "children_right = orig_model.tree_.children_right\n",
    "children_default = children_right.copy() # because sklearn does not use missing values\n",
    "features = orig_model.tree_.feature\n",
    "thresholds = orig_model.tree_.threshold\n",
    "values = orig_model.tree_.value.reshape(orig_model.tree_.value.shape[0], 1)\n",
    "node_sample_weight = orig_model.tree_.weighted_n_node_samples\n",
    "\n",
    "print(\"     children_left\", children_left) # note that negative children values mean this is a leaf node\n",
    "print(\"    children_right\", children_right)\n",
    "print(\"  children_default\", children_default)\n",
    "print(\"          features\", features)\n",
    "print(\"        thresholds\", thresholds.round(3))\n",
    "print(\"            values\", values.round(3))\n",
    "print(\"node_sample_weight\", node_sample_weight)"
   ]
  },
  {
   "cell_type": "code",
   "execution_count": null,
   "id": "0dce609c",
   "metadata": {},
   "outputs": [],
   "source": [
    "# define a custom tree model\n",
    "tree_dict = {\n",
    "    \"children_left\": children_left,\n",
    "    \"children_right\": children_right,\n",
    "    \"children_default\": children_default,\n",
    "    \"features\": features,\n",
    "    \"thresholds\": thresholds,\n",
    "    \"values\": values,\n",
    "    \"node_sample_weight\": node_sample_weight\n",
    "}\n",
    "model = {\n",
    "    \"trees\": [tree_dict]\n",
    "}"
   ]
  },
  {
   "cell_type": "code",
   "execution_count": null,
   "id": "e8d3abe2",
   "metadata": {},
   "outputs": [],
   "source": [
    "explainer = shap.TreeExplainer(model)"
   ]
  },
  {
   "cell_type": "code",
   "execution_count": null,
   "id": "8b947e2d",
   "metadata": {},
   "outputs": [],
   "source": [
    "# Make sure that the ingested SHAP model (a TreeEnsemble object) makes the\n",
    "# same predictions as the original model\n",
    "assert np.abs(explainer.model.predict(X) - orig_model.predict(X)).max() < 1e-4"
   ]
  },
  {
   "cell_type": "code",
   "execution_count": null,
   "id": "8d75ac93",
   "metadata": {},
   "outputs": [],
   "source": [
    "# make sure the SHAP values sum up to the model output (this is the local accuracy property)\n",
    "assert np.abs(explainer.expected_value + explainer.shap_values(X).sum(1) - orig_model.predict(X)).max() < 1e-4"
   ]
  },
  {
   "cell_type": "markdown",
   "id": "165c082b",
   "metadata": {},
   "source": [
    "## Transfer to `TreeModelsfromScratch`"
   ]
  },
  {
   "cell_type": "code",
   "execution_count": null,
   "id": "cbc8e37a",
   "metadata": {},
   "outputs": [],
   "source": [
    "# Train DecisionTree from scratch\n",
    "reg_tree = DecisionTree(max_depth=2, treetype=\"regression\",random_state=42)\n",
    "reg_tree.fit(X, y)"
   ]
  },
  {
   "cell_type": "code",
   "execution_count": null,
   "id": "02585173",
   "metadata": {},
   "outputs": [],
   "source": [
    "reg_tree.node_id_dict"
   ]
  },
  {
   "cell_type": "code",
   "execution_count": null,
   "id": "ee643dae",
   "metadata": {},
   "outputs": [],
   "source": [
    "# implement children left and children right logic\n",
    "# replace \"None\" for leaf_node with -1\n",
    "# replace \"None\" for features in leaf node with \"\"-2\"\n",
    "# values in array of arrays of shape (no_nodes, 1)"
   ]
  },
  {
   "cell_type": "code",
   "execution_count": null,
   "id": "3ecb6bec",
   "metadata": {},
   "outputs": [],
   "source": [
    "chi_left = []\n",
    "chi_right = []\n",
    "\n",
    "# go over all nodes\n",
    "for node in reg_tree.node_list:\n",
    "        \n",
    "    # find child node id of corresponding node \n",
    "    if node.left is not None:\n",
    "        chi_left.append(node.left.id)\n",
    "    # if leaf return -1\n",
    "    else:\n",
    "        chi_left.append(-1)\n",
    "        \n",
    "    # find child node id of corresponding node \n",
    "    if node.right is not None:\n",
    "        chi_right.append(node.right.id)\n",
    "    # if leaf return -1\n",
    "    else:\n",
    "        chi_right.append(-1)\n",
    "        \n",
    "chi_left = np.array(chi_left)\n",
    "chi_right = np.array(chi_right)\n",
    "chi_default = chi_right.copy()"
   ]
  },
  {
   "cell_type": "code",
   "execution_count": null,
   "id": "408862d3",
   "metadata": {},
   "outputs": [],
   "source": [
    "print(chi_left)\n",
    "print(children_left)"
   ]
  },
  {
   "cell_type": "code",
   "execution_count": null,
   "id": "ab8d9d70",
   "metadata": {},
   "outputs": [],
   "source": [
    "print(chi_default)\n",
    "print(children_default)"
   ]
  },
  {
   "cell_type": "code",
   "execution_count": null,
   "id": "32efe556",
   "metadata": {},
   "outputs": [],
   "source": [
    "# replace \"None\" for features in leaf node with \"\"-2\"\n",
    "feats = np.array([node.feature if node.feature is not None else -2 for node in reg_tree.node_list])"
   ]
  },
  {
   "cell_type": "code",
   "execution_count": null,
   "id": "6089583c",
   "metadata": {},
   "outputs": [],
   "source": [
    "print(feats)\n",
    "print(features)"
   ]
  },
  {
   "cell_type": "code",
   "execution_count": null,
   "id": "6ddebac0",
   "metadata": {},
   "outputs": [],
   "source": [
    "# replace \"None\" for features in leaf node with \"\"-2\"\n",
    "thres = np.array([node.threshold if node.threshold is not None else -2 for node in reg_tree.node_list])"
   ]
  },
  {
   "cell_type": "code",
   "execution_count": null,
   "id": "b9b1808d",
   "metadata": {},
   "outputs": [],
   "source": [
    "print(thres)\n",
    "print(thresholds)"
   ]
  },
  {
   "cell_type": "code",
   "execution_count": null,
   "id": "ba9e3d8e",
   "metadata": {},
   "outputs": [],
   "source": [
    "# values in array of arrays of shape (no_nodes, 1)\n",
    "vals = np.array([node.value for node in reg_tree.node_list])\n",
    "vals = vals.reshape(vals.shape[0], 1)"
   ]
  },
  {
   "cell_type": "code",
   "execution_count": null,
   "id": "d4365c59",
   "metadata": {},
   "outputs": [],
   "source": [
    "vals"
   ]
  },
  {
   "cell_type": "code",
   "execution_count": null,
   "id": "1ad94244",
   "metadata": {},
   "outputs": [],
   "source": [
    "samples = np.array([float(node.samples) for node in reg_tree.node_list])"
   ]
  },
  {
   "cell_type": "code",
   "execution_count": null,
   "id": "22ddb4de",
   "metadata": {},
   "outputs": [],
   "source": [
    "samples"
   ]
  },
  {
   "cell_type": "code",
   "execution_count": null,
   "id": "a0f6a75f",
   "metadata": {},
   "outputs": [],
   "source": [
    "node_sample_weight"
   ]
  },
  {
   "cell_type": "markdown",
   "id": "d539b6fe",
   "metadata": {},
   "source": [
    "Lets put it in a function:"
   ]
  },
  {
   "cell_type": "code",
   "execution_count": null,
   "id": "1b429890",
   "metadata": {},
   "outputs": [],
   "source": [
    "def export_tree_for_SHAP(tree):\n",
    "    \n",
    "    # Children\n",
    "    children_left = []\n",
    "    children_right = []\n",
    "\n",
    "    # go over all nodes\n",
    "    for node in tree.node_list:\n",
    "\n",
    "        # find child node id of corresponding node \n",
    "        if node.left is not None:\n",
    "            children_left.append(node.left.id)\n",
    "        # if leaf return -1\n",
    "        else:\n",
    "            children_left.append(-1)\n",
    "\n",
    "        # find child node id of corresponding node \n",
    "        if node.right is not None:\n",
    "            children_right.append(node.right.id)\n",
    "        # if leaf return -1\n",
    "        else:\n",
    "            children_right.append(-1)\n",
    "\n",
    "    children_left = np.array(children_left)\n",
    "    children_right = np.array(children_right)\n",
    "    children_default = children_right.copy()\n",
    "    \n",
    "    #features: replace \"None\" for features in leaf node with \"\"-2\"\n",
    "    features = np.array([node.feature if node.feature is not None else -2 for node in tree.node_list])\n",
    "    \n",
    "    # Thresholds: replace \"None\" for thres in leaf node with \"\"-2\"\n",
    "    thresholds = np.array([node.threshold if node.threshold is not None else -2 for node in tree.node_list])\n",
    "    \n",
    "    # values in array of arrays of shape (no_nodes, 1)\n",
    "    if tree.treetype==\"regression\":\n",
    "        values = np.array([node.value for node in tree.node_list])\n",
    "    elif tree.treetype==\"classification\":\n",
    "        values = np.array([node.clf_prob_dis[1] for node in tree.node_list])\n",
    "    values = values.reshape(vals.shape[0], 1)\n",
    "    \n",
    "    #samples\n",
    "    samples = np.array([float(node.samples) for node in tree.node_list])\n",
    "    \n",
    "    # define a custom tree model\n",
    "    tree_dict = {\n",
    "        \"children_left\": children_left,\n",
    "        \"children_right\": children_right,\n",
    "        \"children_default\": children_default,\n",
    "        \"features\": features,\n",
    "        \"thresholds\": thresholds,\n",
    "        \"values\": values,\n",
    "        \"node_sample_weight\": samples\n",
    "    }\n",
    "    model = {\n",
    "        \"trees\": [tree_dict]\n",
    "    }\n",
    "    \n",
    "    return model"
   ]
  },
  {
   "cell_type": "code",
   "execution_count": null,
   "id": "0bb18571",
   "metadata": {},
   "outputs": [],
   "source": [
    "export_model = export_tree_for_SHAP(reg_tree)"
   ]
  },
  {
   "cell_type": "code",
   "execution_count": null,
   "id": "bd49dd3c",
   "metadata": {},
   "outputs": [],
   "source": [
    "# test export model\n",
    "explainer = shap.TreeExplainer(export_model)"
   ]
  },
  {
   "cell_type": "code",
   "execution_count": null,
   "id": "5befe63a",
   "metadata": {},
   "outputs": [],
   "source": [
    "# Make sure that the ingested SHAP model (a TreeEnsemble object) makes the\n",
    "# same predictions as the original model\n",
    "assert np.abs(explainer.model.predict(X) - reg_tree.predict(X)).max() < 1e-4"
   ]
  },
  {
   "cell_type": "code",
   "execution_count": null,
   "id": "f03ac656",
   "metadata": {},
   "outputs": [],
   "source": [
    "# make sure the SHAP values sum up to the model output (this is the local accuracy property)\n",
    "assert np.abs(explainer.expected_value + explainer.shap_values(X).sum(1) - reg_tree.predict(X)).max() < 1e-4"
   ]
  },
  {
   "cell_type": "code",
   "execution_count": null,
   "id": "ac80ef5c",
   "metadata": {},
   "outputs": [],
   "source": [
    "def verify_shap_model(reg_tree, explainer):\n",
    "    \n",
    "    # Make sure that the ingested SHAP model (a TreeEnsemble object) makes the same predictions as the original model\n",
    "    assert np.abs(explainer.model.predict(X) - reg_tree.predict(X)).max() < 1e-4\n",
    "    \n",
    "    # make sure the SHAP values sum up to the model output (this is the local accuracy property)\n",
    "    assert np.abs(explainer.expected_value + explainer.shap_values(X).sum(1) - reg_tree.predict(X)).max() < 1e-4"
   ]
  },
  {
   "cell_type": "code",
   "execution_count": null,
   "id": "f771710e",
   "metadata": {},
   "outputs": [],
   "source": [
    "verify_shap_model(reg_tree, explainer)"
   ]
  },
  {
   "cell_type": "markdown",
   "id": "2e182722",
   "metadata": {},
   "source": [
    "# Classification"
   ]
  },
  {
   "cell_type": "markdown",
   "id": "261e640d",
   "metadata": {},
   "source": [
    "## Example of loading a custom tree model into SHAP\n",
    "https://shap.readthedocs.io/en/latest/example_notebooks/tabular_examples/tree_based_models/Example%20of%20loading%20a%20custom%20tree%20model%20into%20SHAP.html"
   ]
  },
  {
   "cell_type": "code",
   "execution_count": null,
   "id": "874eb1e2",
   "metadata": {},
   "outputs": [],
   "source": [
    "X,y = sklearn.datasets.load_breast_cancer(return_X_y=True, as_frame=True)\n",
    "\n",
    "orig_model_clf = sklearn.tree.DecisionTreeRegressor(max_depth=2)\n",
    "orig_model_clf.fit(X, y)"
   ]
  },
  {
   "cell_type": "code",
   "execution_count": null,
   "id": "9911e4ca",
   "metadata": {},
   "outputs": [],
   "source": [
    "dot_data = sklearn.tree.export_graphviz(orig_model_clf, feature_names=X.columns, node_ids=True, out_file=None, filled=True, rounded=True, special_characters=True)\n",
    "graph = graphviz.Source(dot_data)\n",
    "graph"
   ]
  },
  {
   "cell_type": "code",
   "execution_count": null,
   "id": "dc95a97e",
   "metadata": {},
   "outputs": [],
   "source": [
    "# extract the arrays that define the tree\n",
    "children_left = orig_model_clf.tree_.children_left\n",
    "children_right = orig_model_clf.tree_.children_right\n",
    "children_default = children_right.copy() # because sklearn does not use missing values\n",
    "features = orig_model_clf.tree_.feature\n",
    "thresholds = orig_model_clf.tree_.threshold\n",
    "values = orig_model_clf.tree_.value.reshape(orig_model_clf.tree_.value.shape[0], orig_model_clf.tree_.n_classes[0])\n",
    "#values = np.argmax(orig_model_clf.tree_.value.reshape(orig_model_clf.tree_.value.shape[0], orig_model_clf.tree_.n_classes[0]),axis=1).reshape(orig_model_clf.tree_.value.shape[0], 1)\n",
    "node_sample_weight = orig_model_clf.tree_.weighted_n_node_samples\n",
    "\n",
    "print(\"     children_left\", children_left) # note that negative children values mean this is a leaf node\n",
    "print(\"    children_right\", children_right)\n",
    "print(\"  children_default\", children_default)\n",
    "print(\"          features\", features)\n",
    "print(\"        thresholds\", thresholds.round(3))\n",
    "print(\"            values\", values.round(3))\n",
    "print(\"node_sample_weight\", node_sample_weight)"
   ]
  },
  {
   "cell_type": "code",
   "execution_count": null,
   "id": "47d65294",
   "metadata": {},
   "outputs": [],
   "source": [
    "# define a custom tree model\n",
    "tree_dict = {\n",
    "    \"children_left\": children_left,\n",
    "    \"children_right\": children_right,\n",
    "    \"children_default\": children_default,\n",
    "    \"features\": features,\n",
    "    \"thresholds\": thresholds,\n",
    "    \"values\": values,\n",
    "    \"node_sample_weight\": node_sample_weight\n",
    "}\n",
    "model = {\n",
    "    \"trees\": [tree_dict]\n",
    "}"
   ]
  },
  {
   "cell_type": "code",
   "execution_count": null,
   "id": "bf23ec05",
   "metadata": {},
   "outputs": [],
   "source": [
    "explainer = shap.TreeExplainer(model, model_output=\"raw\")"
   ]
  },
  {
   "cell_type": "code",
   "execution_count": null,
   "id": "4ac0df1f",
   "metadata": {},
   "outputs": [],
   "source": [
    "# Make sure that the ingested SHAP model (a TreeEnsemble object) makes the\n",
    "# same predictions as the original model\n",
    "assert np.abs(explainer.model.predict(X) - orig_model_clf.predict(X)).max() < 1e-4"
   ]
  },
  {
   "cell_type": "code",
   "execution_count": null,
   "id": "74604cfc",
   "metadata": {},
   "outputs": [],
   "source": [
    "# make sure the SHAP values sum up to the model output (this is the local accuracy property)\n",
    "assert np.abs(explainer.expected_value + explainer.shap_values(X).sum(1) - orig_model_clf.predict(X)).max() < 1e-4"
   ]
  },
  {
   "cell_type": "markdown",
   "id": "7ad06afb",
   "metadata": {},
   "source": [
    "## Transfer to `TreeModelsfromScratch`"
   ]
  },
  {
   "cell_type": "code",
   "execution_count": null,
   "id": "d5361a50",
   "metadata": {},
   "outputs": [],
   "source": [
    "# Train DecisionTree from scratch\n",
    "clf_tree = DecisionTree(max_depth=2, treetype=\"classification\", random_state=42)\n",
    "clf_tree.fit(X, y)"
   ]
  },
  {
   "cell_type": "code",
   "execution_count": null,
   "id": "4d0195bf",
   "metadata": {},
   "outputs": [],
   "source": [
    "clf_tree.node_id_dict"
   ]
  },
  {
   "cell_type": "code",
   "execution_count": null,
   "id": "56475101",
   "metadata": {},
   "outputs": [],
   "source": [
    "dot_data = sklearn.tree.export_graphviz(orig_model_clf, feature_names=X.columns, node_ids=True, out_file=None, filled=True, rounded=True, special_characters=True)\n",
    "graph = graphviz.Source(dot_data)\n",
    "graph"
   ]
  },
  {
   "cell_type": "markdown",
   "id": "20786d6f",
   "metadata": {},
   "source": [
    "Only values is different for classification"
   ]
  },
  {
   "cell_type": "code",
   "execution_count": null,
   "id": "2bf89c52",
   "metadata": {},
   "outputs": [],
   "source": [
    "def export_tree_for_SHAP(tree):\n",
    "    \n",
    "    # Children\n",
    "    children_left = []\n",
    "    children_right = []\n",
    "\n",
    "    # go over all nodes\n",
    "    for node in tree.node_list:\n",
    "\n",
    "        # find child node id of corresponding node \n",
    "        if node.left is not None:\n",
    "            children_left.append(node.left.id)\n",
    "        # if leaf return -1\n",
    "        else:\n",
    "            children_left.append(-1)\n",
    "\n",
    "        # find child node id of corresponding node \n",
    "        if node.right is not None:\n",
    "            children_right.append(node.right.id)\n",
    "        # if leaf return -1\n",
    "        else:\n",
    "            children_right.append(-1)\n",
    "\n",
    "    children_left = np.array(children_left)\n",
    "    children_right = np.array(children_right)\n",
    "    children_default = children_right.copy()\n",
    "    \n",
    "    #features: replace \"None\" for features in leaf node with \"\"-2\"\n",
    "    features = np.array([node.feature if node.feature is not None else -2 for node in tree.node_list])\n",
    "    \n",
    "    # Thresholds: replace \"None\" for thres in leaf node with \"\"-2\"\n",
    "    thresholds = np.array([node.threshold if node.threshold is not None else -2 for node in tree.node_list])\n",
    "    \n",
    "    # values in array of arrays of shape (no_nodes, 1)\n",
    "    if tree.treetype==\"regression\":\n",
    "        values = np.array([node.value for node in tree.node_list])\n",
    "    elif tree.treetype==\"classification\":\n",
    "        values = np.array([node.clf_prob_dis[1] for node in tree.node_list])\n",
    "    values = values.reshape(values.shape[0], 1)\n",
    "    \n",
    "    #samples\n",
    "    samples = np.array([float(node.samples) for node in tree.node_list])\n",
    "    \n",
    "    # define a custom tree model\n",
    "    tree_dict = {\n",
    "        \"children_left\": children_left,\n",
    "        \"children_right\": children_right,\n",
    "        \"children_default\": children_default,\n",
    "        \"features\": features,\n",
    "        \"thresholds\": thresholds,\n",
    "        \"values\": values,\n",
    "        \"node_sample_weight\": samples\n",
    "    }\n",
    "    model = {\n",
    "        \"trees\": [tree_dict]\n",
    "    }\n",
    "    \n",
    "    return model"
   ]
  },
  {
   "cell_type": "code",
   "execution_count": null,
   "id": "1efc3978",
   "metadata": {},
   "outputs": [],
   "source": [
    "export_model_clf = export_tree_for_SHAP(clf_tree)"
   ]
  },
  {
   "cell_type": "code",
   "execution_count": null,
   "id": "e9eb990f",
   "metadata": {},
   "outputs": [],
   "source": [
    "# test export model\n",
    "explainer_clf = shap.TreeExplainer(export_model_clf, model_output=\"raw\")"
   ]
  },
  {
   "cell_type": "code",
   "execution_count": null,
   "id": "92006901",
   "metadata": {},
   "outputs": [],
   "source": [
    "def verify_shap_model(tree, explainer):\n",
    "    \n",
    "    # Make sure that the ingested SHAP model (a TreeEnsemble object) makes the same predictions as the original model\n",
    "    assert np.abs(explainer.model.predict(X)- tree.predict_proba(X)).max() < 1e-4\n",
    "    \n",
    "    # make sure the SHAP values sum up to the model output (this is the local accuracy property)\n",
    "    assert np.abs(explainer.expected_value + explainer.shap_values(X).sum(1) - tree.predict_proba(X)).max() < 1e-4"
   ]
  },
  {
   "cell_type": "code",
   "execution_count": null,
   "id": "139eb275",
   "metadata": {},
   "outputs": [],
   "source": [
    "verify_shap_model(clf_tree, explainer_clf)"
   ]
  },
  {
   "cell_type": "markdown",
   "id": "5ce824d2",
   "metadata": {},
   "source": [
    "# Test functionality of implemented class functions in package"
   ]
  },
  {
   "cell_type": "markdown",
   "id": "5f10e51d",
   "metadata": {},
   "source": [
    "## Regression"
   ]
  },
  {
   "cell_type": "code",
   "execution_count": 5,
   "id": "411382d7",
   "metadata": {
    "collapsed": true
   },
   "outputs": [
    {
     "name": "stderr",
     "output_type": "stream",
     "text": [
      "Function load_boston is deprecated; `load_boston` is deprecated in 1.0 and will be removed in 1.2.\n",
      "\n",
      "    The Boston housing prices dataset has an ethical problem. You can refer to\n",
      "    the documentation of this function for further details.\n",
      "\n",
      "    The scikit-learn maintainers therefore strongly discourage the use of this\n",
      "    dataset unless the purpose of the code is to study and educate about\n",
      "    ethical issues in data science and machine learning.\n",
      "\n",
      "    In this special case, you can fetch the dataset from the original\n",
      "    source::\n",
      "\n",
      "        import pandas as pd\n",
      "        import numpy as np\n",
      "\n",
      "        data_url = \"http://lib.stat.cmu.edu/datasets/boston\"\n",
      "        raw_df = pd.read_csv(data_url, sep=\"\\s+\", skiprows=22, header=None)\n",
      "        data = np.hstack([raw_df.values[::2, :], raw_df.values[1::2, :2]])\n",
      "        target = raw_df.values[1::2, 2]\n",
      "\n",
      "    Alternative datasets include the California housing dataset (i.e.\n",
      "    :func:`~sklearn.datasets.fetch_california_housing`) and the Ames housing\n",
      "    dataset. You can load the datasets as follows::\n",
      "\n",
      "        from sklearn.datasets import fetch_california_housing\n",
      "        housing = fetch_california_housing()\n",
      "\n",
      "    for the California housing dataset and::\n",
      "\n",
      "        from sklearn.datasets import fetch_openml\n",
      "        housing = fetch_openml(name=\"house_prices\", as_frame=True)\n",
      "\n",
      "    for the Ames housing dataset.\n"
     ]
    }
   ],
   "source": [
    "X,y = shap.datasets.boston()"
   ]
  },
  {
   "cell_type": "code",
   "execution_count": 6,
   "id": "398f5678",
   "metadata": {},
   "outputs": [],
   "source": [
    "# Train DecisionTree from scratch\n",
    "reg_tree = DecisionTree(max_depth=2, treetype=\"regression\",random_state=42)\n",
    "reg_tree.fit(X, y)"
   ]
  },
  {
   "cell_type": "code",
   "execution_count": 7,
   "id": "1318f8b3",
   "metadata": {},
   "outputs": [],
   "source": [
    "export_model = reg_tree.export_tree_for_SHAP()"
   ]
  },
  {
   "cell_type": "code",
   "execution_count": 8,
   "id": "6c3337c5",
   "metadata": {},
   "outputs": [],
   "source": [
    "# Create explainer\n",
    "explainer = shap.TreeExplainer(export_model)"
   ]
  },
  {
   "cell_type": "code",
   "execution_count": 9,
   "id": "d51359d7",
   "metadata": {},
   "outputs": [],
   "source": [
    "reg_tree.verify_shap_model(explainer, X)"
   ]
  },
  {
   "cell_type": "markdown",
   "id": "54a99c85",
   "metadata": {},
   "source": [
    "works :) "
   ]
  },
  {
   "cell_type": "markdown",
   "id": "151ca1f3",
   "metadata": {},
   "source": [
    "## Classification"
   ]
  },
  {
   "cell_type": "code",
   "execution_count": 10,
   "id": "0f3ac7a3",
   "metadata": {},
   "outputs": [],
   "source": [
    "X_cancer,y_cancer = sklearn.datasets.load_breast_cancer(return_X_y=True, as_frame=True)"
   ]
  },
  {
   "cell_type": "code",
   "execution_count": 11,
   "id": "8c037bfb",
   "metadata": {},
   "outputs": [],
   "source": [
    "# Train DecisionTree from scratch\n",
    "clf_tree = DecisionTree(max_depth=2, treetype=\"classification\", random_state=42)\n",
    "clf_tree.fit(X_cancer,y_cancer)"
   ]
  },
  {
   "cell_type": "code",
   "execution_count": 12,
   "id": "c22fb362",
   "metadata": {},
   "outputs": [],
   "source": [
    "export_model_clf = clf_tree.export_tree_for_SHAP()"
   ]
  },
  {
   "cell_type": "code",
   "execution_count": 13,
   "id": "ae0cbde9",
   "metadata": {},
   "outputs": [],
   "source": [
    "# Create explainer\n",
    "explainer_clf = shap.TreeExplainer(export_model_clf)"
   ]
  },
  {
   "cell_type": "code",
   "execution_count": 15,
   "id": "0331775b",
   "metadata": {},
   "outputs": [],
   "source": [
    "clf_tree.verify_shap_model(explainer_clf, X_cancer)"
   ]
  },
  {
   "cell_type": "markdown",
   "id": "52b046cd",
   "metadata": {},
   "source": [
    "Also works :) "
   ]
  },
  {
   "cell_type": "code",
   "execution_count": null,
   "id": "13fa6bff",
   "metadata": {},
   "outputs": [],
   "source": []
  }
 ],
 "metadata": {
  "kernelspec": {
   "display_name": "Python 3 (ipykernel)",
   "language": "python",
   "name": "python3"
  },
  "language_info": {
   "codemirror_mode": {
    "name": "ipython",
    "version": 3
   },
   "file_extension": ".py",
   "mimetype": "text/x-python",
   "name": "python",
   "nbconvert_exporter": "python",
   "pygments_lexer": "ipython3",
   "version": "3.10.6"
  },
  "toc": {
   "base_numbering": 1,
   "nav_menu": {},
   "number_sections": true,
   "sideBar": true,
   "skip_h1_title": false,
   "title_cell": "Table of Contents",
   "title_sidebar": "Contents",
   "toc_cell": false,
   "toc_position": {},
   "toc_section_display": true,
   "toc_window_display": true
  }
 },
 "nbformat": 4,
 "nbformat_minor": 5
}
